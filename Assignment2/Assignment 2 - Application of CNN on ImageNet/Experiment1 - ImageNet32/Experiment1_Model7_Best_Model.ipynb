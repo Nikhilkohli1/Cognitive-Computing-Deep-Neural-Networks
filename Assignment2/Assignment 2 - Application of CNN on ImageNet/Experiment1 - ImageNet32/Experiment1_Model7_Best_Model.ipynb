{
  "nbformat": 4,
  "nbformat_minor": 0,
  "metadata": {
    "colab": {
      "name": "Experiment1_Model7_Best_Model.ipynb",
      "version": "0.3.2",
      "provenance": [],
      "collapsed_sections": []
    },
    "kernelspec": {
      "name": "python3",
      "display_name": "Python 3"
    },
    "accelerator": "GPU"
  },
  "cells": [
    {
      "metadata": {
        "id": "gYqMIM4YOnSg",
        "colab_type": "code",
        "outputId": "9ab12e52-64ca-4f6b-8048-30717a7c7541",
        "colab": {
          "base_uri": "https://localhost:8080/",
          "height": 122
        }
      },
      "cell_type": "code",
      "source": [
        "from google.colab import drive\n",
        "drive.mount('/content/drive/')"
      ],
      "execution_count": 0,
      "outputs": [
        {
          "output_type": "stream",
          "text": [
            "Go to this URL in a browser: https://accounts.google.com/o/oauth2/auth?client_id=947318989803-6bn6qk8qdgf4n4g3pfee6491hc0brc4i.apps.googleusercontent.com&redirect_uri=urn%3Aietf%3Awg%3Aoauth%3A2.0%3Aoob&scope=email%20https%3A%2F%2Fwww.googleapis.com%2Fauth%2Fdocs.test%20https%3A%2F%2Fwww.googleapis.com%2Fauth%2Fdrive%20https%3A%2F%2Fwww.googleapis.com%2Fauth%2Fdrive.photos.readonly%20https%3A%2F%2Fwww.googleapis.com%2Fauth%2Fpeopleapi.readonly&response_type=code\n",
            "\n",
            "Enter your authorization code:\n",
            "··········\n",
            "Mounted at /content/drive/\n"
          ],
          "name": "stdout"
        }
      ]
    },
    {
      "metadata": {
        "id": "nUAF5MQyOytm",
        "colab_type": "code",
        "outputId": "d616b5c6-c048-4506-eb9c-aec50089c44d",
        "colab": {
          "base_uri": "https://localhost:8080/",
          "height": 34
        }
      },
      "cell_type": "code",
      "source": [
        "cd \"/content/drive/My Drive/Tar_File\""
      ],
      "execution_count": 0,
      "outputs": [
        {
          "output_type": "stream",
          "text": [
            "/content/drive/My Drive/Tar_File\n"
          ],
          "name": "stdout"
        }
      ]
    },
    {
      "metadata": {
        "id": "2ln13cjBO8Ve",
        "colab_type": "code",
        "colab": {}
      },
      "cell_type": "code",
      "source": [
        "!tar -xf ImageNet_Data.tar"
      ],
      "execution_count": 0,
      "outputs": []
    },
    {
      "metadata": {
        "id": "RJBqE3L_PFNe",
        "colab_type": "code",
        "outputId": "5b794493-78e6-464b-c929-f7dd625a9fa5",
        "colab": {
          "base_uri": "https://localhost:8080/",
          "height": 315
        }
      },
      "cell_type": "code",
      "source": [
        "# You can change the directory name\n",
        "LOG_DIR = 'tb_logs'\n",
        "\n",
        "!wget https://bin.equinox.io/c/4VmDzA7iaHb/ngrok-stable-linux-amd64.zip\n",
        "!unzip ngrok-stable-linux-amd64.zip\n",
        "\n",
        "import os\n",
        "if not os.path.exists(LOG_DIR):\n",
        "  os.makedirs(LOG_DIR)\n",
        "  \n",
        "get_ipython().system_raw(\n",
        "    'tensorboard --logdir {} --host 0.0.0.0 --port 6006 &'\n",
        "    .format(LOG_DIR))\n",
        "\n",
        "get_ipython().system_raw('./ngrok http 6006 &')\n",
        "\n",
        "!curl -s http://localhost:4040/api/tunnels | python3 -c \\\n",
        "    \"import sys, json; print(json.load(sys.stdin)['tunnels'][0]['public_url'])\""
      ],
      "execution_count": 0,
      "outputs": [
        {
          "output_type": "stream",
          "text": [
            "--2019-02-20 00:33:28--  https://bin.equinox.io/c/4VmDzA7iaHb/ngrok-stable-linux-amd64.zip\n",
            "Resolving bin.equinox.io (bin.equinox.io)... 52.71.139.107, 52.45.248.161, 52.45.111.123, ...\n",
            "Connecting to bin.equinox.io (bin.equinox.io)|52.71.139.107|:443... connected.\n",
            "HTTP request sent, awaiting response... 200 OK\n",
            "Length: 5363700 (5.1M) [application/octet-stream]\n",
            "Saving to: ‘ngrok-stable-linux-amd64.zip’\n",
            "\n",
            "ngrok-stable-linux- 100%[===================>]   5.11M  7.42MB/s    in 0.7s    \n",
            "\n",
            "2019-02-20 00:33:29 (7.42 MB/s) - ‘ngrok-stable-linux-amd64.zip’ saved [5363700/5363700]\n",
            "\n",
            "Archive:  ngrok-stable-linux-amd64.zip\n",
            "  inflating: ngrok                   \n",
            "Traceback (most recent call last):\n",
            "  File \"<string>\", line 1, in <module>\n",
            "IndexError: list index out of range\n"
          ],
          "name": "stdout"
        }
      ]
    },
    {
      "metadata": {
        "id": "kzcqjzj1PTjX",
        "colab_type": "code",
        "outputId": "ec04b71c-7e2c-4b3d-8a00-e231f7c21491",
        "colab": {
          "base_uri": "https://localhost:8080/",
          "height": 1252
        }
      },
      "cell_type": "code",
      "source": [
        "import keras\n",
        "from keras.datasets import cifar10\n",
        "from keras.preprocessing.image import ImageDataGenerator\n",
        "from keras.models import Sequential\n",
        "from keras.layers import Dense, Dropout, Activation, Flatten\n",
        "from keras.layers import Conv2D, MaxPooling2D\n",
        "#from keras.utils.sequence  import steps_per_epoch \n",
        "from keras.optimizers import adamax\n",
        "import os\n",
        "import matplotlib.pyplot as plt\n",
        "# from keras.callbacks import TensorBoard\n",
        "\n",
        "batch_size = 128\n",
        "num_classes = 200\n",
        "epochs = 10\n",
        "data_augmentation = True\n",
        "#num_predictions = 20\n",
        "save_dir = os.path.join(os.getcwd(), 'saved_models')\n",
        "model_name = 'keras_MaxNet_trained_model.h5'\n",
        "\n",
        "# The data, split between train and test sets:\n",
        "#(x_train, y_train), (x_test, y_test) = cifar10.load_data()\n",
        "#print('x_train shape:', x_train.shape)\n",
        "#print(x_train.shape[0], 'train samples')\n",
        "#print(x_test.shape[0], 'test samples')\n",
        "\n",
        "# Convert class vectors to binary class matrices.\n",
        "#y_train = keras.utils.to_categorical(y_train, num_classes)\n",
        "#y_test = keras.utils.to_categorical(y_test, num_classes)\n",
        "\n",
        "model = Sequential()\n",
        "model.add(Conv2D(64, (3, 3), padding='same',\n",
        "                 input_shape=(32,32,3)))\n",
        "model.add(Activation('relu'))\n",
        "model.add(Conv2D(64, (3, 3)))\n",
        "model.add(Activation('relu'))\n",
        "model.add(MaxPooling2D(pool_size=(2, 2)))\n",
        "model.add(Dropout(0.25))\n",
        "\n",
        "model.add(Conv2D(256, (3, 3), padding='same'))\n",
        "model.add(Activation('relu'))\n",
        "model.add(Conv2D(256, (3, 3)))\n",
        "model.add(Activation('relu'))\n",
        "model.add(MaxPooling2D(pool_size=(2, 2)))\n",
        "model.add(Dropout(0.24))\n",
        "\n",
        "\n",
        "model.add(Conv2D(128, (3, 3), padding='same'))\n",
        "model.add(Activation('relu'))\n",
        "#model.add(BatchNormalization())\n",
        "model.add(Conv2D(128, (3, 3)))\n",
        "model.add(Activation('relu'))\n",
        "#model.add(BatchNormalization())\n",
        "model.add(MaxPooling2D(pool_size=(2, 2)))\n",
        "model.add(Dropout(0.25))\n",
        "\n",
        "model.add(Flatten())\n",
        "model.add(Dense(256))\n",
        "model.add(Activation('relu'))\n",
        "model.add(Dropout(0.35))\n",
        "model.add(Dense(512))\n",
        "model.add(Activation('relu'))\n",
        "model.add(Dropout(0.24))\n",
        "model.add(Dense(num_classes))\n",
        "model.add(Activation('softmax'))\n",
        "\n",
        "# initiate RMSprop optimizer\n",
        "opt = keras.optimizers.adamax()\n",
        "\n",
        "# Let's train the model using RMSprop\n",
        "model.compile(loss='categorical_crossentropy',\n",
        "              optimizer=opt,\n",
        "              metrics=['accuracy'])\n",
        "\n",
        "#x_train = x_train.astype('float32')\n",
        "#x_test = x_test.astype('float32')\n",
        "#x_train /= 255\n",
        "#x_test /= 255\n",
        "\n",
        "# tbCallBack = TensorBoard(log_dir=LOG_DIR, \n",
        "#                          histogram_freq=1,\n",
        "#                          write_graph=True,\n",
        "#                          write_grads=True,\n",
        "#                          batch_size=batch_size,\n",
        "#                          write_images=True)\n",
        "\n",
        "    \n",
        "train_datagen = ImageDataGenerator(\n",
        "        rescale=1./255,\n",
        "        shear_range=0.2,\n",
        "        zoom_range=0.2,\n",
        "        horizontal_flip=True)\n",
        "\n",
        "test_datagen = ImageDataGenerator(rescale=1./255)\n",
        "\n",
        "train_generator = train_datagen.flow_from_directory(\n",
        "        \"/content/drive/My Drive/Tar_File/ImageNet_Data/Train\",\n",
        "        target_size=(32, 32),\n",
        "        batch_size=batch_size,\n",
        "        class_mode='categorical')\n",
        "\n",
        "validation_generator = test_datagen.flow_from_directory(\n",
        "        '/content/drive/My Drive/Tar_File/ImageNet_Data/Validation',\n",
        "        target_size=(32, 32),\n",
        "        batch_size=batch_size,\n",
        "        class_mode='categorical')\n",
        "\n",
        "train_history = model.fit_generator(\n",
        "        train_generator,\n",
        "        steps_per_epoch=2000,\n",
        "        epochs=epochs,\n",
        "        validation_data=validation_generator,\n",
        "        validation_steps=200)    \n",
        "\n",
        "# Save model and weights\n",
        "if not os.path.isdir(save_dir):\n",
        "    os.makedirs(save_dir)\n",
        "model_path = os.path.join(save_dir, model_name)\n",
        "model.save(model_path)\n",
        "print('Saved trained model at %s ' % model_path)\n",
        "\n",
        "\n",
        "\n",
        "# list all data in history\n",
        "print(train_history.history.keys())\n",
        "# summarize history for accuracy\n",
        "plt.plot(train_history.history['acc'])\n",
        "plt.plot(train_history.history['val_acc'])\n",
        "plt.title('Model Accuracy')\n",
        "plt.ylabel('accuracy')\n",
        "plt.xlabel('epoch')\n",
        "plt.legend(['train', 'test'], loc='upper left')\n",
        "plt.show()\n",
        "# summarize history for loss\n",
        "plt.plot(train_history.history['loss'])\n",
        "plt.plot(train_history.history['val_loss'])\n",
        "plt.title('Model Loss')\n",
        "plt.ylabel('loss')\n",
        "plt.xlabel('epoch')\n",
        "plt.legend(['train', 'test'], loc='upper left')\n",
        "plt.show()\n"
      ],
      "execution_count": 0,
      "outputs": [
        {
          "output_type": "stream",
          "text": [
            "Found 100000 images belonging to 200 classes.\n",
            "Found 10000 images belonging to 200 classes.\n",
            "WARNING:tensorflow:From /usr/local/lib/python3.6/dist-packages/tensorflow/python/ops/math_ops.py:3066: to_int32 (from tensorflow.python.ops.math_ops) is deprecated and will be removed in a future version.\n",
            "Instructions for updating:\n",
            "Use tf.cast instead.\n",
            "Epoch 1/10\n",
            "2000/2000 [==============================] - 1077s 538ms/step - loss: 4.9057 - acc: 0.0308 - val_loss: 4.3824 - val_acc: 0.0811\n",
            "Epoch 2/10\n",
            "2000/2000 [==============================] - 1056s 528ms/step - loss: 4.2099 - acc: 0.1030 - val_loss: 3.8462 - val_acc: 0.1491\n",
            "Epoch 3/10\n",
            "2000/2000 [==============================] - 1049s 525ms/step - loss: 3.7919 - acc: 0.1613 - val_loss: 3.4745 - val_acc: 0.2133\n",
            "Epoch 4/10\n",
            "2000/2000 [==============================] - 1055s 528ms/step - loss: 3.5516 - acc: 0.2008 - val_loss: 3.3450 - val_acc: 0.2413\n",
            "Epoch 5/10\n",
            "2000/2000 [==============================] - 1087s 544ms/step - loss: 3.3945 - acc: 0.2275 - val_loss: 3.2339 - val_acc: 0.2604\n",
            "Epoch 6/10\n",
            "2000/2000 [==============================] - 1069s 534ms/step - loss: 3.2658 - acc: 0.2508 - val_loss: 3.1372 - val_acc: 0.2780\n",
            "Epoch 7/10\n",
            "2000/2000 [==============================] - 1065s 533ms/step - loss: 3.1804 - acc: 0.2659 - val_loss: 3.1052 - val_acc: 0.2868\n",
            "Epoch 8/10\n",
            "2000/2000 [==============================] - 1060s 530ms/step - loss: 3.0974 - acc: 0.2808 - val_loss: 3.0504 - val_acc: 0.3003\n",
            "Epoch 9/10\n",
            "2000/2000 [==============================] - 1055s 528ms/step - loss: 3.0352 - acc: 0.2940 - val_loss: 3.0057 - val_acc: 0.3076\n",
            "Epoch 10/10\n",
            "2000/2000 [==============================] - 1085s 542ms/step - loss: 2.9794 - acc: 0.3029 - val_loss: 2.9954 - val_acc: 0.3138\n",
            "Saved trained model at /content/drive/My Drive/Tar_File/saved_models/keras_MaxNet_trained_model.h5 \n",
            "dict_keys(['val_loss', 'val_acc', 'loss', 'acc'])\n"
          ],
          "name": "stdout"
        },
        {
          "output_type": "display_data",
          "data": {
            "image/png": "[encoded data removed]",
            "text/plain": [
              "<Figure size 576x396 with 1 Axes>"
            ]
          },
          "metadata": {
            "tags": []
          }
        },
        {
          "output_type": "display_data",
          "data": {
            "image/png": "[encoded data removed]",
            "text/plain": [
              "<Figure size 576x396 with 1 Axes>"
            ]
          },
          "metadata": {
            "tags": []
          }
        }
      ]
    },
    {
      "metadata": {
        "id": "OLHDhen3HQu8",
        "colab_type": "text"
      },
      "cell_type": "markdown",
      "source": [
        "Lets load an Image the model has never seen before to test the model"
      ]
    },
    {
      "metadata": {
        "id": "fiwzhIMOAMHn",
        "colab_type": "code",
        "colab": {}
      },
      "cell_type": "code",
      "source": [
        "import matplotlib.pyplot as plt\n",
        "import numpy as np\n",
        "import os\n",
        "def load_image(img_path, show=True):\n",
        "   img = image.load_img(img_path, target_size=(32, 32))\n",
        "   img_tensor = image.img_to_array(img)                    # (height, width, channels)\n",
        "   img_tensor = np.expand_dims(img_tensor, axis=0)         # (1, height, width, channels), add a dimension because the model expects this shape: (batch_size, height, width, channels)\n",
        "   img_tensor /= 255.                                      # imshow expects values in the range [0, 1]\n",
        "   if show:\n",
        "       plt.imshow(img_tensor[0])\n",
        "       plt.axis('off')\n",
        "       plt.show()\n",
        "   return img_tensor"
      ],
      "execution_count": 0,
      "outputs": []
    },
    {
      "metadata": {
        "id": "e58lTcx8HnV-",
        "colab_type": "text"
      },
      "cell_type": "markdown",
      "source": [
        "We will load the saved model from above"
      ]
    },
    {
      "metadata": {
        "id": "JS2mTR5LAfjY",
        "colab_type": "code",
        "outputId": "f924f107-1572-4643-d221-052d6aaec6e4",
        "colab": {
          "base_uri": "https://localhost:8080/",
          "height": 347
        }
      },
      "cell_type": "code",
      "source": [
        "from keras.models import load_model\n",
        "from keras.preprocessing import image\n",
        "import matplotlib.pyplot as plt\n",
        "# load model\n",
        "model = load_model(\"/content/drive/My Drive/Tar_File/saved_models/keras_MaxNet_trained_model.h5\")\n",
        "\n",
        "# load a single image\n",
        "new_image = load_image(\"/content/drive/My Drive/Tar_File/ImageNet_Data/Test/test_1004.png\")\n",
        "\n",
        "# check prediction\n",
        "pred = model.predict(new_image)"
      ],
      "execution_count": 0,
      "outputs": [
        {
          "output_type": "display_data",
          "data": {
            "image/png": "[encoded data removed]",
            "text/plain": [
              "<Figure size 576x396 with 1 Axes>"
            ]
          },
          "metadata": {
            "tags": []
          }
        }
      ]
    },
    {
      "metadata": {
        "id": "gX_fkJ9FGcFw",
        "colab_type": "text"
      },
      "cell_type": "markdown",
      "source": [
        "Looks like a woman in a white dress wearing glasses and robe"
      ]
    },
    {
      "metadata": {
        "id": "iCr4bCq5Bdfh",
        "colab_type": "code",
        "outputId": "462b897b-d7f2-42fd-8265-92cb7d0d677a",
        "colab": {
          "base_uri": "https://localhost:8080/",
          "height": 34
        }
      },
      "cell_type": "code",
      "source": [
        "pred.shape"
      ],
      "execution_count": 0,
      "outputs": [
        {
          "output_type": "execute_result",
          "data": {
            "text/plain": [
              "(1, 200)"
            ]
          },
          "metadata": {
            "tags": []
          },
          "execution_count": 44
        }
      ]
    },
    {
      "metadata": {
        "id": "EinrlMQ1DXzi",
        "colab_type": "code",
        "colab": {}
      },
      "cell_type": "code",
      "source": [
        "import pandas as pd"
      ],
      "execution_count": 0,
      "outputs": []
    },
    {
      "metadata": {
        "id": "5R_IK6zABqgw",
        "colab_type": "code",
        "colab": {}
      },
      "cell_type": "code",
      "source": [
        "df = pd.read_csv(\"/content/drive/My Drive/Tar_File/class_description_tiny_imagenet.csv\")"
      ],
      "execution_count": 0,
      "outputs": []
    },
    {
      "metadata": {
        "id": "kwcyikmJDel6",
        "colab_type": "code",
        "outputId": "8491c831-027d-4135-bbc7-ae458f526cba",
        "colab": {
          "base_uri": "https://localhost:8080/",
          "height": 204
        }
      },
      "cell_type": "code",
      "source": [
        "df.head()"
      ],
      "execution_count": 0,
      "outputs": [
        {
          "output_type": "execute_result",
          "data": {
            "text/html": [
              "<div>\n",
              "<style scoped>\n",
              "    .dataframe tbody tr th:only-of-type {\n",
              "        vertical-align: middle;\n",
              "    }\n",
              "\n",
              "    .dataframe tbody tr th {\n",
              "        vertical-align: top;\n",
              "    }\n",
              "\n",
              "    .dataframe thead th {\n",
              "        text-align: right;\n",
              "    }\n",
              "</style>\n",
              "<table border=\"1\" class=\"dataframe\">\n",
              "  <thead>\n",
              "    <tr style=\"text-align: right;\">\n",
              "      <th></th>\n",
              "      <th>folder</th>\n",
              "      <th>class</th>\n",
              "    </tr>\n",
              "  </thead>\n",
              "  <tbody>\n",
              "    <tr>\n",
              "      <th>0</th>\n",
              "      <td>n01443537</td>\n",
              "      <td>goldfish or  Carassius auratus</td>\n",
              "    </tr>\n",
              "    <tr>\n",
              "      <th>1</th>\n",
              "      <td>n01629819</td>\n",
              "      <td>European fire salamander or  Salamandra salama...</td>\n",
              "    </tr>\n",
              "    <tr>\n",
              "      <th>2</th>\n",
              "      <td>n01641577</td>\n",
              "      <td>bullfrog or  Rana catesbeiana</td>\n",
              "    </tr>\n",
              "    <tr>\n",
              "      <th>3</th>\n",
              "      <td>n01644900</td>\n",
              "      <td>tailed frog or  bell toad or  ribbed toad or  ...</td>\n",
              "    </tr>\n",
              "    <tr>\n",
              "      <th>4</th>\n",
              "      <td>n01698640</td>\n",
              "      <td>American alligator or  Alligator mississipiensis</td>\n",
              "    </tr>\n",
              "  </tbody>\n",
              "</table>\n",
              "</div>"
            ],
            "text/plain": [
              "      folder                                              class\n",
              "0  n01443537                     goldfish or  Carassius auratus\n",
              "1  n01629819  European fire salamander or  Salamandra salama...\n",
              "2  n01641577                      bullfrog or  Rana catesbeiana\n",
              "3  n01644900  tailed frog or  bell toad or  ribbed toad or  ...\n",
              "4  n01698640   American alligator or  Alligator mississipiensis"
            ]
          },
          "metadata": {
            "tags": []
          },
          "execution_count": 47
        }
      ]
    },
    {
      "metadata": {
        "id": "HuYApTjuDgDh",
        "colab_type": "code",
        "colab": {}
      },
      "cell_type": "code",
      "source": [
        "df['probability']= pred[0].tolist()"
      ],
      "execution_count": 0,
      "outputs": []
    },
    {
      "metadata": {
        "id": "sAqDwTbYHvca",
        "colab_type": "text"
      },
      "cell_type": "markdown",
      "source": [
        "Probability of each class in descending order "
      ]
    },
    {
      "metadata": {
        "id": "uSayI79wELBQ",
        "colab_type": "code",
        "outputId": "24661ef0-a6e7-4b55-b83f-26da8a7dbd25",
        "colab": {
          "base_uri": "https://localhost:8080/",
          "height": 359
        }
      },
      "cell_type": "code",
      "source": [
        "df.sort_values(['probability'], ascending=0).head(10)"
      ],
      "execution_count": 0,
      "outputs": [
        {
          "output_type": "execute_result",
          "data": {
            "text/html": [
              "<div>\n",
              "<style scoped>\n",
              "    .dataframe tbody tr th:only-of-type {\n",
              "        vertical-align: middle;\n",
              "    }\n",
              "\n",
              "    .dataframe tbody tr th {\n",
              "        vertical-align: top;\n",
              "    }\n",
              "\n",
              "    .dataframe thead th {\n",
              "        text-align: right;\n",
              "    }\n",
              "</style>\n",
              "<table border=\"1\" class=\"dataframe\">\n",
              "  <thead>\n",
              "    <tr style=\"text-align: right;\">\n",
              "      <th></th>\n",
              "      <th>folder</th>\n",
              "      <th>class</th>\n",
              "      <th>probability</th>\n",
              "    </tr>\n",
              "  </thead>\n",
              "  <tbody>\n",
              "    <tr>\n",
              "      <th>112</th>\n",
              "      <td>n03617480</td>\n",
              "      <td>kimono</td>\n",
              "      <td>0.114352</td>\n",
              "    </tr>\n",
              "    <tr>\n",
              "      <th>60</th>\n",
              "      <td>n02669723</td>\n",
              "      <td>academic gown or  academic robe or  judge's robe</td>\n",
              "      <td>0.060282</td>\n",
              "    </tr>\n",
              "    <tr>\n",
              "      <th>123</th>\n",
              "      <td>n03814639</td>\n",
              "      <td>neck brace</td>\n",
              "      <td>0.060033</td>\n",
              "    </tr>\n",
              "    <tr>\n",
              "      <th>163</th>\n",
              "      <td>n04456115</td>\n",
              "      <td>torch</td>\n",
              "      <td>0.056395</td>\n",
              "    </tr>\n",
              "    <tr>\n",
              "      <th>68</th>\n",
              "      <td>n02802426</td>\n",
              "      <td>basketball</td>\n",
              "      <td>0.055654</td>\n",
              "    </tr>\n",
              "    <tr>\n",
              "      <th>77</th>\n",
              "      <td>n02883205</td>\n",
              "      <td>bow tie or  bow-tie or  bowtie</td>\n",
              "      <td>0.039199</td>\n",
              "    </tr>\n",
              "    <tr>\n",
              "      <th>131</th>\n",
              "      <td>n03970156</td>\n",
              "      <td>plunger or  plumber's helper</td>\n",
              "      <td>0.039052</td>\n",
              "    </tr>\n",
              "    <tr>\n",
              "      <th>62</th>\n",
              "      <td>n02730930</td>\n",
              "      <td>apron</td>\n",
              "      <td>0.036937</td>\n",
              "    </tr>\n",
              "    <tr>\n",
              "      <th>169</th>\n",
              "      <td>n04532106</td>\n",
              "      <td>vestment</td>\n",
              "      <td>0.036476</td>\n",
              "    </tr>\n",
              "    <tr>\n",
              "      <th>138</th>\n",
              "      <td>n04023962</td>\n",
              "      <td>punching bag or  punch bag or  punching ball o...</td>\n",
              "      <td>0.030814</td>\n",
              "    </tr>\n",
              "  </tbody>\n",
              "</table>\n",
              "</div>"
            ],
            "text/plain": [
              "        folder                                              class  probability\n",
              "112  n03617480                                             kimono     0.114352\n",
              "60   n02669723   academic gown or  academic robe or  judge's robe     0.060282\n",
              "123  n03814639                                         neck brace     0.060033\n",
              "163  n04456115                                              torch     0.056395\n",
              "68   n02802426                                         basketball     0.055654\n",
              "77   n02883205                     bow tie or  bow-tie or  bowtie     0.039199\n",
              "131  n03970156                       plunger or  plumber's helper     0.039052\n",
              "62   n02730930                                              apron     0.036937\n",
              "169  n04532106                                           vestment     0.036476\n",
              "138  n04023962  punching bag or  punch bag or  punching ball o...     0.030814"
            ]
          },
          "metadata": {
            "tags": []
          },
          "execution_count": 40
        }
      ]
    },
    {
      "metadata": {
        "id": "VxvTrDr0ImLR",
        "colab_type": "text"
      },
      "cell_type": "markdown",
      "source": [
        "Probability from the bottom"
      ]
    },
    {
      "metadata": {
        "id": "6IU8gTVMEgNI",
        "colab_type": "code",
        "outputId": "615a1c2e-1670-4fde-c75d-92c944b32144",
        "colab": {
          "base_uri": "https://localhost:8080/",
          "height": 359
        }
      },
      "cell_type": "code",
      "source": [
        "df.sort_values(['probability'], ascending=0).tail(10)"
      ],
      "execution_count": 0,
      "outputs": [
        {
          "output_type": "execute_result",
          "data": {
            "text/html": [
              "<div>\n",
              "<style scoped>\n",
              "    .dataframe tbody tr th:only-of-type {\n",
              "        vertical-align: middle;\n",
              "    }\n",
              "\n",
              "    .dataframe tbody tr th {\n",
              "        vertical-align: top;\n",
              "    }\n",
              "\n",
              "    .dataframe thead th {\n",
              "        text-align: right;\n",
              "    }\n",
              "</style>\n",
              "<table border=\"1\" class=\"dataframe\">\n",
              "  <thead>\n",
              "    <tr style=\"text-align: right;\">\n",
              "      <th></th>\n",
              "      <th>folder</th>\n",
              "      <th>class</th>\n",
              "      <th>probability</th>\n",
              "    </tr>\n",
              "  </thead>\n",
              "  <tbody>\n",
              "    <tr>\n",
              "      <th>154</th>\n",
              "      <td>n04311004</td>\n",
              "      <td>steel arch bridge</td>\n",
              "      <td>0.000010</td>\n",
              "    </tr>\n",
              "    <tr>\n",
              "      <th>8</th>\n",
              "      <td>n01774384</td>\n",
              "      <td>black widow or  Latrodectus mactans</td>\n",
              "      <td>0.000010</td>\n",
              "    </tr>\n",
              "    <tr>\n",
              "      <th>50</th>\n",
              "      <td>n02410509</td>\n",
              "      <td>bison</td>\n",
              "      <td>0.000010</td>\n",
              "    </tr>\n",
              "    <tr>\n",
              "      <th>162</th>\n",
              "      <td>n04417672</td>\n",
              "      <td>thatch or  thatched roof</td>\n",
              "      <td>0.000009</td>\n",
              "    </tr>\n",
              "    <tr>\n",
              "      <th>66</th>\n",
              "      <td>n02793495</td>\n",
              "      <td>barn</td>\n",
              "      <td>0.000007</td>\n",
              "    </tr>\n",
              "    <tr>\n",
              "      <th>70</th>\n",
              "      <td>n02814533</td>\n",
              "      <td>beach wagon or  station wagon or  wagon or  es...</td>\n",
              "      <td>0.000005</td>\n",
              "    </tr>\n",
              "    <tr>\n",
              "      <th>195</th>\n",
              "      <td>n09246464</td>\n",
              "      <td>cliff or  drop or  drop-off</td>\n",
              "      <td>0.000004</td>\n",
              "    </tr>\n",
              "    <tr>\n",
              "      <th>166</th>\n",
              "      <td>n04487081</td>\n",
              "      <td>trolleybus or  trolley coach or  trackless tro...</td>\n",
              "      <td>0.000004</td>\n",
              "    </tr>\n",
              "    <tr>\n",
              "      <th>22</th>\n",
              "      <td>n02058221</td>\n",
              "      <td>albatross or  mollymawk</td>\n",
              "      <td>0.000003</td>\n",
              "    </tr>\n",
              "    <tr>\n",
              "      <th>23</th>\n",
              "      <td>n02074367</td>\n",
              "      <td>dugong or  Dugong dugon</td>\n",
              "      <td>0.000002</td>\n",
              "    </tr>\n",
              "  </tbody>\n",
              "</table>\n",
              "</div>"
            ],
            "text/plain": [
              "        folder                                              class  probability\n",
              "154  n04311004                                  steel arch bridge     0.000010\n",
              "8    n01774384                black widow or  Latrodectus mactans     0.000010\n",
              "50   n02410509                                              bison     0.000010\n",
              "162  n04417672                           thatch or  thatched roof     0.000009\n",
              "66   n02793495                                               barn     0.000007\n",
              "70   n02814533  beach wagon or  station wagon or  wagon or  es...     0.000005\n",
              "195  n09246464                        cliff or  drop or  drop-off     0.000004\n",
              "166  n04487081  trolleybus or  trolley coach or  trackless tro...     0.000004\n",
              "22   n02058221                            albatross or  mollymawk     0.000003\n",
              "23   n02074367                            dugong or  Dugong dugon     0.000002"
            ]
          },
          "metadata": {
            "tags": []
          },
          "execution_count": 41
        }
      ]
    },
    {
      "metadata": {
        "id": "4XEVYf58FZpF",
        "colab_type": "code",
        "colab": {}
      },
      "cell_type": "code",
      "source": [
        ""
      ],
      "execution_count": 0,
      "outputs": []
    }
  ]
}