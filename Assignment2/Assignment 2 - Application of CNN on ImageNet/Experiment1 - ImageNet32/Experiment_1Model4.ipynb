{
  "nbformat": 4,
  "nbformat_minor": 0,
  "metadata": {
    "colab": {
      "name": "Experiment_1Model4.ipynb",
      "version": "0.3.2",
      "provenance": [],
      "collapsed_sections": []
    },
    "kernelspec": {
      "name": "python3",
      "display_name": "Python 3"
    },
    "accelerator": "GPU"
  },
  "cells": [
    {
      "metadata": {
        "id": "g9w-VaFPwpz1",
        "colab_type": "code",
        "colab": {}
      },
      "cell_type": "code",
      "source": [
        "#Experiment 1:  Build the best network you can using Keras"
      ],
      "execution_count": 0,
      "outputs": []
    },
    {
      "metadata": {
        "id": "owiq8Kq8Nzn6",
        "colab_type": "code",
        "outputId": "49485039-6774-4451-b46a-5acf15d32647",
        "colab": {
          "base_uri": "https://localhost:8080/",
          "height": 122
        }
      },
      "cell_type": "code",
      "source": [
        "from google.colab import drive\n",
        "drive.mount('/content/drive/')"
      ],
      "execution_count": 0,
      "outputs": [
        {
          "output_type": "stream",
          "text": [
            "Go to this URL in a browser: https://accounts.google.com/o/oauth2/auth?client_id=947318989803-6bn6qk8qdgf4n4g3pfee6491hc0brc4i.apps.googleusercontent.com&redirect_uri=urn%3Aietf%3Awg%3Aoauth%3A2.0%3Aoob&scope=email%20https%3A%2F%2Fwww.googleapis.com%2Fauth%2Fdocs.test%20https%3A%2F%2Fwww.googleapis.com%2Fauth%2Fdrive%20https%3A%2F%2Fwww.googleapis.com%2Fauth%2Fdrive.photos.readonly%20https%3A%2F%2Fwww.googleapis.com%2Fauth%2Fpeopleapi.readonly&response_type=code\n",
            "\n",
            "Enter your authorization code:\n",
            "··········\n",
            "Mounted at /content/drive/\n"
          ],
          "name": "stdout"
        }
      ]
    },
    {
      "metadata": {
        "id": "g-MfDQVgOUul",
        "colab_type": "code",
        "outputId": "cd22c728-04f0-42e7-8ef6-cd357408a1d2",
        "colab": {
          "base_uri": "https://localhost:8080/",
          "height": 34
        }
      },
      "cell_type": "code",
      "source": [
        "cd /content/drive/My Drive/MaxNet Data  "
      ],
      "execution_count": 0,
      "outputs": [
        {
          "output_type": "stream",
          "text": [
            "/content/drive/My Drive/MaxNet Data\n"
          ],
          "name": "stdout"
        }
      ]
    },
    {
      "metadata": {
        "id": "K7n2qUeZOwT_",
        "colab_type": "code",
        "colab": {}
      },
      "cell_type": "code",
      "source": [
        "!tar -xf ImageNet_Data.tar"
      ],
      "execution_count": 0,
      "outputs": []
    },
    {
      "metadata": {
        "id": "gSXkWOuV6t7C",
        "colab_type": "code",
        "outputId": "52f65924-593e-4a82-ff8d-863c74076429",
        "colab": {
          "base_uri": "https://localhost:8080/",
          "height": 409
        }
      },
      "cell_type": "code",
      "source": [
        "import keras\n",
        "from keras.datasets import cifar10\n",
        "from keras.preprocessing.image import ImageDataGenerator\n",
        "from keras.models import Sequential\n",
        "from keras.layers import Dense, Dropout, Activation, Flatten\n",
        "from keras.layers import Conv2D, MaxPooling2D\n",
        "#from keras.utils.sequence  import steps_per_epoch \n",
        "from keras.optimizers import adamax\n",
        "import os\n",
        "import matplotlib.pyplot as plt\n",
        "\n",
        "batch_size = 256\n",
        "num_classes = 200\n",
        "epochs = 10\n",
        "data_augmentation = True\n",
        "#num_predictions = 20\n",
        "save_dir = os.path.join(os.getcwd(), 'saved_models')\n",
        "model_name = 'keras_MaxNet_trained_model.h5'\n",
        "\n",
        "# The data, split between train and test sets:\n",
        "#(x_train, y_train), (x_test, y_test) = cifar10.load_data()\n",
        "#print('x_train shape:', x_train.shape)\n",
        "#print(x_train.shape[0], 'train samples')\n",
        "#print(x_test.shape[0], 'test samples')\n",
        "\n",
        "# Convert class vectors to binary class matrices.\n",
        "#y_train = keras.utils.to_categorical(y_train, num_classes)\n",
        "#y_test = keras.utils.to_categorical(y_test, num_classes)\n",
        "\n",
        "model = Sequential()\n",
        "model.add(Conv2D(64, (3, 3), padding='same',\n",
        "                 input_shape=(32,32,3)))\n",
        "model.add(Activation('relu'))\n",
        "model.add(Conv2D(64, (3, 3)))\n",
        "model.add(Activation('relu'))\n",
        "model.add(MaxPooling2D(pool_size=(2, 2)))\n",
        "model.add(Dropout(0.25))\n",
        "\n",
        "model.add(Conv2D(64, (3, 3), padding='same'))\n",
        "model.add(Activation('relu'))\n",
        "model.add(Conv2D(64, (3, 3)))\n",
        "model.add(Activation('relu'))\n",
        "model.add(MaxPooling2D(pool_size=(2, 2)))\n",
        "model.add(Dropout(0.24))\n",
        "\n",
        "\n",
        "model.add(Conv2D(64, (3, 3), padding='same'))\n",
        "model.add(Activation('relu'))\n",
        "#model.add(BatchNormalization())\n",
        "model.add(Conv2D(64, (3, 3)))\n",
        "model.add(Activation('relu'))\n",
        "#model.add(BatchNormalization())\n",
        "model.add(MaxPooling2D(pool_size=(2, 2)))\n",
        "model.add(Dropout(0.25))\n",
        "\n",
        "model.add(Flatten())\n",
        "model.add(Dense(256))\n",
        "model.add(Activation('relu'))\n",
        "model.add(Dropout(0.35))\n",
        "model.add(Dense(512))\n",
        "model.add(Activation('relu'))\n",
        "model.add(Dropout(0.24))\n",
        "model.add(Dense(num_classes))\n",
        "model.add(Activation('softmax'))\n",
        "\n",
        "# initiate RMSprop optimizer\n",
        "opt = keras.optimizers.adamax()\n",
        "\n",
        "# Let's train the model using RMSprop\n",
        "model.compile(loss='categorical_crossentropy',\n",
        "              optimizer=opt,\n",
        "              metrics=['accuracy'])\n",
        "\n",
        "#x_train = x_train.astype('float32')\n",
        "#x_test = x_test.astype('float32')\n",
        "#x_train /= 255\n",
        "#x_test /= 255\n",
        "\n",
        "    \n",
        "    \n",
        "train_datagen = ImageDataGenerator(\n",
        "        rescale=1./255,\n",
        "        shear_range=0.2,\n",
        "        zoom_range=0.2,\n",
        "        horizontal_flip=True)\n",
        "\n",
        "test_datagen = ImageDataGenerator(rescale=1./255)\n",
        "\n",
        "train_generator = train_datagen.flow_from_directory(\n",
        "        '/content/drive/My Drive/MaxNet Data/ImageNet_Data/Train',\n",
        "        target_size=(32, 32),\n",
        "        batch_size=50,\n",
        "        class_mode='categorical')\n",
        "\n",
        "validation_generator = test_datagen.flow_from_directory(\n",
        "        '/content/drive/My Drive/MaxNet Data/ImageNet_Data/Validation',\n",
        "        target_size=(32, 32),\n",
        "        batch_size=50,\n",
        "        class_mode='categorical')\n",
        "\n",
        "train_history = model.fit_generator(\n",
        "        train_generator,\n",
        "        steps_per_epoch=2000,\n",
        "        epochs=epochs,\n",
        "        validation_data=validation_generator,\n",
        "        validation_steps=200)    \n",
        "\n",
        "# Save model and weights\n",
        "if not os.path.isdir(save_dir):\n",
        "    os.makedirs(save_dir)\n",
        "model_path = os.path.join(save_dir, model_name)\n",
        "model.save(model_path)\n",
        "print('Saved trained model at %s ' % model_path)\n",
        "\n"
      ],
      "execution_count": 0,
      "outputs": [
        {
          "output_type": "stream",
          "text": [
            "Found 100000 images belonging to 200 classes.\n",
            "Found 10000 images belonging to 200 classes.\n",
            "Epoch 1/10\n",
            "2000/2000 [==============================] - 567s 284ms/step - loss: 5.2069 - acc: 0.0096 - val_loss: 5.0434 - val_acc: 0.0175\n",
            "Epoch 2/10\n",
            "2000/2000 [==============================] - 561s 281ms/step - loss: 4.9107 - acc: 0.0292 - val_loss: 4.6725 - val_acc: 0.0494\n",
            "Epoch 3/10\n",
            "2000/2000 [==============================] - 555s 278ms/step - loss: 4.6203 - acc: 0.0553 - val_loss: 4.3437 - val_acc: 0.0891\n",
            "Epoch 4/10\n",
            "2000/2000 [==============================] - 574s 287ms/step - loss: 4.4163 - acc: 0.0778 - val_loss: 4.2053 - val_acc: 0.1101\n",
            "Epoch 5/10\n",
            "2000/2000 [==============================] - 565s 282ms/step - loss: 4.2657 - acc: 0.0972 - val_loss: 4.0046 - val_acc: 0.1329\n",
            "Epoch 6/10\n",
            "2000/2000 [==============================] - 562s 281ms/step - loss: 4.1301 - acc: 0.1127 - val_loss: 3.8770 - val_acc: 0.1516\n",
            "Epoch 7/10\n",
            "2000/2000 [==============================] - 577s 289ms/step - loss: 4.0244 - acc: 0.1283 - val_loss: 3.7778 - val_acc: 0.1620\n",
            "Epoch 8/10\n",
            "2000/2000 [==============================] - 576s 288ms/step - loss: 3.9513 - acc: 0.1403 - val_loss: 3.7220 - val_acc: 0.1735\n",
            "Epoch 9/10\n",
            "2000/2000 [==============================] - 558s 279ms/step - loss: 3.8854 - acc: 0.1500 - val_loss: 3.6924 - val_acc: 0.1776\n",
            "Epoch 10/10\n",
            "2000/2000 [==============================] - 568s 284ms/step - loss: 3.8244 - acc: 0.1576 - val_loss: 3.6308 - val_acc: 0.1863\n",
            "Saved trained model at /content/drive/My Drive/MaxNet Data/saved_models/keras_MaxNet_trained_model.h5 \n"
          ],
          "name": "stdout"
        }
      ]
    },
    {
      "metadata": {
        "id": "lxfxJXJJI1BJ",
        "colab_type": "code",
        "outputId": "322b1c9b-0fc3-4aef-b9fc-98eef0b8176f",
        "colab": {
          "base_uri": "https://localhost:8080/",
          "height": 752
        }
      },
      "cell_type": "code",
      "source": [
        "\n",
        "# list all data in history\n",
        "print(train_history.history.keys())\n",
        "# summarize history for accuracy\n",
        "plt.plot(train_history.history['acc'])\n",
        "plt.plot(train_history.history['val_acc'])\n",
        "plt.title('Model Accuracy')\n",
        "plt.ylabel('accuracy')\n",
        "plt.xlabel('epoch')\n",
        "plt.legend(['train', 'test'], loc='upper left')\n",
        "plt.show()\n",
        "# summarize history for loss\n",
        "plt.plot(train_history.history['loss'])\n",
        "plt.plot(train_history.history['val_loss'])\n",
        "plt.title('Model Loss')\n",
        "plt.ylabel('loss')\n",
        "plt.xlabel('epoch')\n",
        "plt.legend(['train', 'test'], loc='upper left')\n",
        "plt.show()"
      ],
      "execution_count": 0,
      "outputs": [
        {
          "output_type": "stream",
          "text": [
            "dict_keys(['val_loss', 'val_acc', 'loss', 'acc'])\n"
          ],
          "name": "stdout"
        },
        {
          "output_type": "display_data",
          "data": {
            "image/png": "[encoded data removed]",
            "text/plain": [
              "<Figure size 576x396 with 1 Axes>"
            ]
          },
          "metadata": {
            "tags": []
          }
        },
        {
          "output_type": "display_data",
          "data": {
            "image/png": "[encoded data removed]",
            "text/plain": [
              "<Figure size 576x396 with 1 Axes>"
            ]
          },
          "metadata": {
            "tags": []
          }
        }
      ]
    },
    {
      "metadata": {
        "id": "nCYoIyjDzM62",
        "colab_type": "code",
        "outputId": "bd4b7ac1-7e76-4791-b540-5e608e76a678",
        "colab": {
          "base_uri": "https://localhost:8080/",
          "height": 596
        }
      },
      "cell_type": "code",
      "source": [
        "import keras\n",
        "from keras.datasets import cifar10\n",
        "from keras.preprocessing.image import ImageDataGenerator\n",
        "from keras.models import Sequential\n",
        "from keras.layers import Dense, Dropout, Activation, Flatten\n",
        "from keras.layers import Conv2D, MaxPooling2D\n",
        "#from keras.utils.sequence  import steps_per_epoch \n",
        "from keras.optimizers import adamax\n",
        "import os\n",
        "import matplotlib.pyplot as plt\n",
        "\n",
        "batch_size = 128\n",
        "num_classes = 200\n",
        "epochs = 20\n",
        "data_augmentation = True\n",
        "#num_predictions = 20\n",
        "save_dir = os.path.join(os.getcwd(), 'saved_models')\n",
        "model_name = 'keras_MaxNet_trained_model.h5'\n",
        "\n",
        "# The data, split between train and test sets:\n",
        "#(x_train, y_train), (x_test, y_test) = cifar10.load_data()\n",
        "#print('x_train shape:', x_train.shape)\n",
        "#print(x_train.shape[0], 'train samples')\n",
        "#print(x_test.shape[0], 'test samples')\n",
        "\n",
        "# Convert class vectors to binary class matrices.\n",
        "#y_train = keras.utils.to_categorical(y_train, num_classes)\n",
        "#y_test = keras.utils.to_categorical(y_test, num_classes)\n",
        "\n",
        "model = Sequential()\n",
        "model.add(Conv2D(32, (3, 3), padding='same',\n",
        "                 input_shape=(32,32,3)))\n",
        "model.add(Activation('relu'))\n",
        "model.add(Conv2D(32, (3, 3)))\n",
        "model.add(Activation('relu'))\n",
        "model.add(MaxPooling2D(pool_size=(2, 2)))\n",
        "model.add(Dropout(0.25))\n",
        "\n",
        "model.add(Conv2D(128, (3, 3), padding='same'))\n",
        "model.add(Activation('relu'))\n",
        "model.add(Conv2D(128, (3, 3)))\n",
        "model.add(Activation('relu'))\n",
        "model.add(MaxPooling2D(pool_size=(2, 2)))\n",
        "model.add(Dropout(0.24))\n",
        "\n",
        "\n",
        "model.add(Conv2D(64, (3, 3), padding='same'))\n",
        "model.add(Activation('relu'))\n",
        "#model.add(BatchNormalization())\n",
        "model.add(Conv2D(64, (3, 3)))\n",
        "model.add(Activation('relu'))\n",
        "#model.add(BatchNormalization())\n",
        "model.add(MaxPooling2D(pool_size=(2, 2)))\n",
        "model.add(Dropout(0.25))\n",
        "\n",
        "model.add(Flatten())\n",
        "model.add(Dense(256))\n",
        "model.add(Activation('relu'))\n",
        "model.add(Dropout(0.35))\n",
        "model.add(Dense(512))\n",
        "model.add(Activation('relu'))\n",
        "model.add(Dropout(0.24))\n",
        "model.add(Dense(num_classes))\n",
        "model.add(Activation('softmax'))\n",
        "\n",
        "# initiate RMSprop optimizer\n",
        "opt = keras.optimizers.adamax()\n",
        "\n",
        "# Let's train the model using RMSprop\n",
        "model.compile(loss='categorical_crossentropy',\n",
        "              optimizer=opt,\n",
        "              metrics=['accuracy'])\n",
        "\n",
        "#x_train = x_train.astype('float32')\n",
        "#x_test = x_test.astype('float32')\n",
        "#x_train /= 255\n",
        "#x_test /= 255\n",
        "\n",
        "    \n",
        "    \n",
        "train_datagen = ImageDataGenerator(\n",
        "        rescale=1./255,\n",
        "        shear_range=0.2,\n",
        "        zoom_range=0.2,\n",
        "        horizontal_flip=True)\n",
        "\n",
        "test_datagen = ImageDataGenerator(rescale=1./255)\n",
        "\n",
        "train_generator = train_datagen.flow_from_directory(\n",
        "        '/content/drive/My Drive/MaxNet Data/ImageNet_Data/Train',\n",
        "        target_size=(32, 32),\n",
        "        batch_size=batch_size,\n",
        "        class_mode='categorical')\n",
        "\n",
        "validation_generator = test_datagen.flow_from_directory(\n",
        "        '/content/drive/My Drive/MaxNet Data/ImageNet_Data/Validation',\n",
        "        target_size=(32, 32),\n",
        "        batch_size=batch_size,\n",
        "        class_mode='categorical')\n",
        "\n",
        "train_history = model.fit_generator(\n",
        "        train_generator,\n",
        "        steps_per_epoch=2000,\n",
        "        epochs=epochs,\n",
        "        validation_data=validation_generator,\n",
        "        validation_steps=200)    \n",
        "\n",
        "# Save model and weights\n",
        "if not os.path.isdir(save_dir):\n",
        "    os.makedirs(save_dir)\n",
        "model_path = os.path.join(save_dir, model_name)\n",
        "model.save(model_path)\n",
        "print('Saved trained model at %s ' % model_path)\n",
        "\n",
        "\n",
        "\n",
        "# list all data in history\n",
        "print(train_history.history.keys())\n",
        "# summarize history for accuracy\n",
        "plt.plot(train_history.history['acc'])\n",
        "plt.plot(train_history.history['val_acc'])\n",
        "plt.title('Model Accuracy')\n",
        "plt.ylabel('accuracy')\n",
        "plt.xlabel('epoch')\n",
        "plt.legend(['train', 'test'], loc='upper left')\n",
        "plt.show()\n",
        "# summarize history for loss\n",
        "plt.plot(train_history.history['loss'])\n",
        "plt.plot(train_history.history['val_loss'])\n",
        "plt.title('Model Loss')\n",
        "plt.ylabel('loss')\n",
        "plt.xlabel('epoch')\n",
        "plt.legend(['train', 'test'], loc='upper left')\n",
        "plt.show()"
      ],
      "execution_count": 0,
      "outputs": [
        {
          "output_type": "stream",
          "text": [
            "Found 100000 images belonging to 200 classes.\n",
            "Found 10000 images belonging to 200 classes.\n",
            "Epoch 1/20\n",
            "2000/2000 [==============================] - 960s 480ms/step - loss: 5.1419 - acc: 0.0140 - val_loss: 4.7686 - val_acc: 0.0474\n",
            "Epoch 2/20\n",
            "2000/2000 [==============================] - 942s 471ms/step - loss: 4.5540 - acc: 0.0646 - val_loss: 4.1563 - val_acc: 0.1102\n",
            "Epoch 3/20\n",
            "2000/2000 [==============================] - 938s 469ms/step - loss: 4.1697 - acc: 0.1098 - val_loss: 3.8726 - val_acc: 0.1487\n",
            "Epoch 4/20\n",
            "2000/2000 [==============================] - 945s 473ms/step - loss: 3.9208 - acc: 0.1439 - val_loss: 3.7936 - val_acc: 0.1620\n",
            "Epoch 5/20\n",
            "2000/2000 [==============================] - 1025s 512ms/step - loss: 3.7589 - acc: 0.1679 - val_loss: 3.5823 - val_acc: 0.1936\n",
            "Epoch 6/20\n",
            "2000/2000 [==============================] - 1053s 526ms/step - loss: 3.6498 - acc: 0.1860 - val_loss: 3.4555 - val_acc: 0.2202\n",
            "Epoch 7/20\n",
            "2000/2000 [==============================] - 1052s 526ms/step - loss: 3.5640 - acc: 0.1995 - val_loss: 3.4277 - val_acc: 0.2279\n",
            "Epoch 8/20\n",
            "2000/2000 [==============================] - 1052s 526ms/step - loss: 3.4911 - acc: 0.2101 - val_loss: 3.3029 - val_acc: 0.2460\n",
            "Epoch 9/20\n",
            "2000/2000 [==============================] - 1051s 526ms/step - loss: 3.4390 - acc: 0.2196 - val_loss: 3.2788 - val_acc: 0.2519\n",
            "Epoch 10/20\n",
            "2000/2000 [==============================] - 1051s 525ms/step - loss: 3.3867 - acc: 0.2281 - val_loss: 3.2954 - val_acc: 0.2460\n",
            "Epoch 11/20\n",
            "2000/2000 [==============================] - 984s 492ms/step - loss: 3.3510 - acc: 0.2362 - val_loss: 3.2593 - val_acc: 0.2545\n",
            "Epoch 12/20\n",
            "2000/2000 [==============================] - 947s 473ms/step - loss: 3.3141 - acc: 0.2405 - val_loss: 3.2927 - val_acc: 0.2498\n",
            "Epoch 13/20\n",
            "2000/2000 [==============================] - 939s 469ms/step - loss: 3.2897 - acc: 0.2461 - val_loss: 3.2061 - val_acc: 0.2639\n",
            "Epoch 14/20\n",
            "2000/2000 [==============================] - 943s 471ms/step - loss: 3.2604 - acc: 0.2515 - val_loss: 3.2388 - val_acc: 0.2624\n",
            "Epoch 15/20\n",
            "2000/2000 [==============================] - 932s 466ms/step - loss: 3.2374 - acc: 0.2549 - val_loss: 3.1790 - val_acc: 0.2718\n",
            "Epoch 16/20\n",
            "1505/2000 [=====================>........] - ETA: 3:36 - loss: 3.2145 - acc: 0.2585"
          ],
          "name": "stdout"
        }
      ]
    },
    {
      "metadata": {
        "id": "p_MCHkVWDxoJ",
        "colab_type": "code",
        "colab": {}
      },
      "cell_type": "code",
      "source": [
        ""
      ],
      "execution_count": 0,
      "outputs": []
    },
    {
      "metadata": {
        "id": "L3u5N3EgMxK_",
        "colab_type": "code",
        "colab": {}
      },
      "cell_type": "code",
      "source": [
        "\n"
      ],
      "execution_count": 0,
      "outputs": []
    },
    {
      "metadata": {
        "id": "JhPlZU-XI8jv",
        "colab_type": "code",
        "colab": {}
      },
      "cell_type": "code",
      "source": [
        "# Classification of Test data \n",
        "\n"
      ],
      "execution_count": 0,
      "outputs": []
    }
  ]
}