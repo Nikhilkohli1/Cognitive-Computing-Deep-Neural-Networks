{
 "cells": [
  {
   "cell_type": "code",
   "execution_count": 1,
   "metadata": {},
   "outputs": [
    {
     "data": {
      "text/plain": [
       "'/home/jupyter'"
      ]
     },
     "execution_count": 1,
     "metadata": {},
     "output_type": "execute_result"
    }
   ],
   "source": [
    "pwd"
   ]
  },
  {
   "cell_type": "code",
   "execution_count": 2,
   "metadata": {
    "colab": {
     "base_uri": "https://localhost:8080/",
     "height": 51
    },
    "colab_type": "code",
    "id": "PzIQAWde-u1y",
    "outputId": "f1b33128-f449-4be4-af3d-8a477d2da9c6"
   },
   "outputs": [
    {
     "name": "stderr",
     "output_type": "stream",
     "text": [
      "Using TensorFlow backend.\n"
     ]
    },
    {
     "name": "stdout",
     "output_type": "stream",
     "text": [
      "100000 train Samples\n",
      "10000 test Samples\n"
     ]
    }
   ],
   "source": [
    "import keras\n",
    "import autokeras\n",
    "from keras.datasets import cifar10\n",
    "import matplotlib.pyplot as plt\n",
    "from keras import optimizers\n",
    "from sklearn.metrics import accuracy_score\n",
    "from keras.optimizers import rmsprop, SGD, adam\n",
    "\n",
    "import numpy as np\n",
    "X_train = np.load('/home/jupyter/DATA/X_train_file.npy')\n",
    "X_test = np.load('/home/jupyter/DATA/X_test_file.npy')\n",
    "y_test = np.load('/home/jupyter/DATA/y_test_file.npy')\n",
    "y_train = np.load('/home/jupyter/DATA/y_train_file.npy')\n",
    "\n",
    "\n",
    "batch_size = 128\n",
    "num_classes = 200\n",
    "epochs = 10\n",
    "\n",
    "\n",
    "X_train.shape\n",
    "X_train = X_train.reshape(-1)\n",
    "X_train = X_train.reshape(100000, 32, 32, 3)\n",
    "#X_train.shape\n",
    "\n",
    "X_test.shape\n",
    "X_test = X_test.reshape(-1)\n",
    "X_test = X_test.reshape(10000, 32, 32, 3)\n",
    "#X_test.shape\n",
    "\n",
    "X_train = X_train.astype('float32')\n",
    "X_test = X_test.astype('float32')\n",
    "X_train /= 255\n",
    "X_test /= 255\n",
    "\n",
    "print(X_train.shape[0], 'train Samples')\n",
    "print(X_test.shape[0], 'test Samples')\n",
    "\n",
    "\n",
    "# convert class vectors to binary class matrices \n",
    "#y_train = keras.utils.to_categorical(y_train, num_classes)\n",
    "#y_test = keras.utils.to_categorical(y_test, num_classes)\n",
    "\n"
   ]
  },
  {
   "cell_type": "code",
   "execution_count": null,
   "metadata": {
    "colab": {
     "base_uri": "https://localhost:8080/",
     "height": 68
    },
    "colab_type": "code",
    "id": "johJBWWr-vx2",
    "outputId": "af560f99-da76-473c-d5b1-40f0ba552497"
   },
   "outputs": [
    {
     "name": "stdout",
     "output_type": "stream",
     "text": [
      "Saving Directory: /tmp/autokeras_E3FVO1\n",
      "Preprocessing the images.\n",
      "Preprocessing finished.\n",
      "\n",
      "Initializing search.\n",
      "Initialization finished.\n",
      "\n",
      "\n",
      "+----------------------------------------------+\n",
      "|               Training model 0               |\n",
      "+----------------------------------------------+\n",
      "                                                                                                    \n",
      "No loss decrease after 5 epochs.\n",
      "\n",
      "\n",
      "Saving model.\n",
      "+--------------------------------------------------------------------------+\n",
      "|        Model ID        |          Loss          |      Metric Value      |\n",
      "+--------------------------------------------------------------------------+\n",
      "|           0            |   17.599685287475587   |  0.10400000000000001   |\n",
      "+--------------------------------------------------------------------------+\n",
      "\n",
      "\n",
      "+----------------------------------------------+\n",
      "|               Training model 1               |\n",
      "+----------------------------------------------+\n",
      "                                                                 \n",
      "No loss decrease after 5 epochs.\n",
      "\n",
      "\n",
      "Saving model.\n",
      "+--------------------------------------------------------------------------+\n",
      "|        Model ID        |          Loss          |      Metric Value      |\n",
      "+--------------------------------------------------------------------------+\n",
      "|           1            |   14.157835245132446   |         0.2536         |\n",
      "+--------------------------------------------------------------------------+\n",
      "\n",
      "\n",
      "+----------------------------------------------+\n",
      "|               Training model 2               |\n",
      "+----------------------------------------------+\n",
      "Epoch-1, Current Metric - 0:  21%|█████▊                      | 160/778 [02:35<10:27,  1.02s/ batch]"
     ]
    }
   ],
   "source": [
    "clf = autokeras.ImageClassifier(verbose=True, augment=True) #, searcher_args={'trainer_args':{'max_iter_num':7}})\n",
    "clf.fit(X_train, y_train, time_limit=(7*60*60))\n",
    "\n"
   ]
  },
  {
   "cell_type": "code",
   "execution_count": null,
   "metadata": {
    "colab": {},
    "colab_type": "code",
    "id": "IIxw2BFB_Gex"
   },
   "outputs": [],
   "source": [
    "clf.final_fit(X_train, y_train, X_test, y_test, retrain=False)"
   ]
  },
  {
   "cell_type": "code",
   "execution_count": null,
   "metadata": {
    "colab": {},
    "colab_type": "code",
    "id": "WXYD5olT_JpU"
   },
   "outputs": [],
   "source": [
    "from sklearn.metrics import accuracy_score\n",
    "y_prediction = clf.predict(X_test)\n",
    "accuracy_score(y_true=y_test, y_pred=y_prediction)\n",
    "\n",
    "y = clf.evaluate(X_test, y_test)\n",
    "print(y * 100)"
   ]
  },
  {
   "cell_type": "code",
   "execution_count": null,
   "metadata": {},
   "outputs": [],
   "source": []
  }
 ],
 "metadata": {
  "accelerator": "GPU",
  "colab": {
   "collapsed_sections": [],
   "name": "AutoKeras_Model2.ipynb",
   "provenance": [],
   "version": "0.3.2"
  },
  "kernelspec": {
   "display_name": "Python 3",
   "language": "python",
   "name": "python3"
  },
  "language_info": {
   "codemirror_mode": {
    "name": "ipython",
    "version": 3
   },
   "file_extension": ".py",
   "mimetype": "text/x-python",
   "name": "python",
   "nbconvert_exporter": "python",
   "pygments_lexer": "ipython3",
   "version": "3.5.3"
  }
 },
 "nbformat": 4,
 "nbformat_minor": 2
}
