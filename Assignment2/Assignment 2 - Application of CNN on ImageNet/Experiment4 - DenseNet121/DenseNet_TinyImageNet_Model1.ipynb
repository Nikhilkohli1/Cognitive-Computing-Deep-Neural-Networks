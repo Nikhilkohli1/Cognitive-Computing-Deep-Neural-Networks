{
  "nbformat": 4,
  "nbformat_minor": 0,
  "metadata": {
    "colab": {
      "name": "DenseNet TinyImageNet Model1",
      "version": "0.3.2",
      "provenance": [],
      "collapsed_sections": []
    },
    "kernelspec": {
      "name": "python3",
      "display_name": "Python 3"
    },
    "accelerator": "GPU"
  },
  "cells": [
    {
      "metadata": {
        "id": "dat9JOKuwri2",
        "colab_type": "code",
        "colab": {
          "base_uri": "https://localhost:8080/",
          "height": 122
        },
        "outputId": "50d5a064-53e5-44b5-de34-0acaf3c85a4c"
      },
      "cell_type": "code",
      "source": [
        "from google.colab import drive\n",
        "drive.mount('/content/drive/')"
      ],
      "execution_count": 1,
      "outputs": [
        {
          "output_type": "stream",
          "text": [
            "Go to this URL in a browser: https://accounts.google.com/o/oauth2/auth?client_id=947318989803-6bn6qk8qdgf4n4g3pfee6491hc0brc4i.apps.googleusercontent.com&redirect_uri=urn%3Aietf%3Awg%3Aoauth%3A2.0%3Aoob&scope=email%20https%3A%2F%2Fwww.googleapis.com%2Fauth%2Fdocs.test%20https%3A%2F%2Fwww.googleapis.com%2Fauth%2Fdrive%20https%3A%2F%2Fwww.googleapis.com%2Fauth%2Fdrive.photos.readonly%20https%3A%2F%2Fwww.googleapis.com%2Fauth%2Fpeopleapi.readonly&response_type=code\n",
            "\n",
            "Enter your authorization code:\n",
            "··········\n",
            "Mounted at /content/drive/\n"
          ],
          "name": "stdout"
        }
      ]
    },
    {
      "metadata": {
        "id": "LlK9nsC6xzRw",
        "colab_type": "code",
        "colab": {
          "base_uri": "https://localhost:8080/",
          "height": 34
        },
        "outputId": "8ae49c21-42b7-4025-abfe-d563115e30c9"
      },
      "cell_type": "code",
      "source": [
        "cd /content/drive/My Drive/ImageNet/"
      ],
      "execution_count": 2,
      "outputs": [
        {
          "output_type": "stream",
          "text": [
            "/content/drive/My Drive/ImageNet\n"
          ],
          "name": "stdout"
        }
      ]
    },
    {
      "metadata": {
        "id": "m7k9SelVbGux",
        "colab_type": "code",
        "outputId": "2bf6b1cd-229c-4fba-aee0-39b3b28ecf0a",
        "colab": {
          "base_uri": "https://localhost:8080/",
          "height": 85
        }
      },
      "cell_type": "code",
      "source": [
        "from keras.applications.densenet import DenseNet121\n",
        "dense_net_conv = DenseNet121(weights='imagenet', include_top=False, input_shape=(32, 32, 3))"
      ],
      "execution_count": 3,
      "outputs": [
        {
          "output_type": "stream",
          "text": [
            "Using TensorFlow backend.\n"
          ],
          "name": "stderr"
        },
        {
          "output_type": "stream",
          "text": [
            "WARNING:tensorflow:From /usr/local/lib/python3.6/dist-packages/tensorflow/python/framework/op_def_library.py:263: colocate_with (from tensorflow.python.framework.ops) is deprecated and will be removed in a future version.\n",
            "Instructions for updating:\n",
            "Colocations handled automatically by placer.\n"
          ],
          "name": "stdout"
        }
      ]
    },
    {
      "metadata": {
        "id": "YoUeramkbeXN",
        "colab_type": "code",
        "outputId": "0bc3f84e-9714-4312-f1ec-8073297825fe",
        "colab": {
          "base_uri": "https://localhost:8080/",
          "height": 673
        }
      },
      "cell_type": "code",
      "source": [
        "from __future__ import print_function\n",
        "import keras\n",
        "#from keras.datasets import cifar10\n",
        "from keras.preprocessing.image import ImageDataGenerator\n",
        "from keras.models import Sequential\n",
        "from keras.layers import Dense, Dropout, Activation, Flatten\n",
        "from keras.layers import Conv2D, MaxPooling2D\n",
        "from keras import models\n",
        "from keras import layers\n",
        "from keras import optimizers\n",
        "import os\n",
        "\n",
        "import numpy as np\n",
        "X_train = np.load('/content/drive/My Drive/ImageNet/X_train_file.npy')\n",
        "X_test = np.load('/content/drive/My Drive/ImageNet/X_test_file.npy')\n",
        "y_test = np.load('/content/drive/My Drive/ImageNet/y_test_file.npy')\n",
        "y_train = np.load('/content/drive/My Drive/ImageNet/y_train_file.npy')\n",
        "\n",
        "batch_size = 128\n",
        "num_classes = 200\n",
        "epochs = 10\n",
        "\n",
        "\n",
        "X_train.shape\n",
        "X_train = X_train.reshape(-1)\n",
        "X_train = X_train.reshape(100000, 32, 32, 3)\n",
        "#X_train.shape\n",
        "\n",
        "X_test.shape\n",
        "X_test = X_test.reshape(-1)\n",
        "X_test = X_test.reshape(10000, 32, 32, 3)\n",
        "#X_test.shape\n",
        "\n",
        "\n",
        "\n",
        "# Convert class vectors to binary class matrices.\n",
        "y_train = keras.utils.to_categorical(y_train, num_classes)\n",
        "y_test = keras.utils.to_categorical(y_test, num_classes)\n",
        "\n",
        "# Create the model\n",
        "model = models.Sequential()\n",
        " \n",
        "# Add the densenet convolutional base model\n",
        "model.add(dense_net_conv)\n",
        " \n",
        "# Add new layers\n",
        "model.add(layers.Flatten())\n",
        "model.add(layers.Dense(1024, activation='relu'))\n",
        "model.add(layers.Dropout(0.2))\n",
        "model.add(layers.Dense(200, activation='softmax'))\n",
        "\n",
        "# initiate Adam optimizer\n",
        "opt=keras.optimizers.Adam(lr=0.001, beta_1=0.9, beta_2=0.999, epsilon=None, decay=0.0, amsgrad=False)\n",
        "\n",
        "# Let's train the model using Adam\n",
        "model.compile(loss='categorical_crossentropy',\n",
        "              optimizer=opt,\n",
        "              metrics=['accuracy'])\n",
        "\n",
        "X_train = X_train.astype('float32')\n",
        "X_test = X_test.astype('float32')\n",
        "X_train /= 255\n",
        "X_test /= 255\n",
        "\n",
        "print(X_train.shape[0], 'train Samples')\n",
        "print(X_test.shape[0], 'test Samples')\n",
        "\n",
        "train_history = model.fit(X_train, y_train,\n",
        "          batch_size=batch_size,\n",
        "          epochs=epochs,\n",
        "          validation_data=(X_test, y_test),\n",
        "          shuffle=True)\n",
        "\n",
        "\n"
      ],
      "execution_count": 7,
      "outputs": [
        {
          "output_type": "stream",
          "text": [
            "100000 train Samples\n",
            "10000 test Samples\n",
            "WARNING:tensorflow:From /usr/local/lib/python3.6/dist-packages/tensorflow/python/ops/math_ops.py:3066: to_int32 (from tensorflow.python.ops.math_ops) is deprecated and will be removed in a future version.\n",
            "Instructions for updating:\n",
            "Use tf.cast instead.\n",
            "Train on 100000 samples, validate on 10000 samples\n",
            "Epoch 1/10\n",
            "100000/100000 [==============================] - 284s 3ms/step - loss: 4.7411 - acc: 0.0505 - val_loss: 5.7974 - val_acc: 0.0406\n",
            "Epoch 2/10\n",
            "100000/100000 [==============================] - 236s 2ms/step - loss: 4.3481 - acc: 0.0899 - val_loss: 4.6958 - val_acc: 0.0625\n",
            "Epoch 3/10\n",
            "100000/100000 [==============================] - 236s 2ms/step - loss: 4.2331 - acc: 0.1045 - val_loss: 4.3370 - val_acc: 0.0937\n",
            "Epoch 4/10\n",
            "100000/100000 [==============================] - 236s 2ms/step - loss: 4.0588 - acc: 0.1274 - val_loss: 4.5161 - val_acc: 0.0815\n",
            "Epoch 5/10\n",
            "100000/100000 [==============================] - 236s 2ms/step - loss: 3.9863 - acc: 0.1383 - val_loss: 4.4380 - val_acc: 0.1005\n",
            "Epoch 6/10\n",
            "100000/100000 [==============================] - 236s 2ms/step - loss: 3.9438 - acc: 0.1459 - val_loss: 4.6768 - val_acc: 0.1007\n",
            "Epoch 7/10\n",
            "100000/100000 [==============================] - 236s 2ms/step - loss: 3.8588 - acc: 0.1573 - val_loss: 4.0263 - val_acc: 0.1404\n",
            "Epoch 8/10\n",
            "100000/100000 [==============================] - 235s 2ms/step - loss: 3.8177 - acc: 0.1625 - val_loss: 4.5948 - val_acc: 0.1214\n",
            "Epoch 9/10\n",
            "100000/100000 [==============================] - 235s 2ms/step - loss: 3.7689 - acc: 0.1725 - val_loss: 5.7159 - val_acc: 0.0254\n",
            "Epoch 10/10\n",
            "100000/100000 [==============================] - 236s 2ms/step - loss: 3.8892 - acc: 0.1546 - val_loss: 3.9044 - val_acc: 0.1578\n"
          ],
          "name": "stdout"
        },
        {
          "output_type": "error",
          "ename": "NameError",
          "evalue": "ignored",
          "traceback": [
            "\u001b[0;31m---------------------------------------------------------------------------\u001b[0m",
            "\u001b[0;31mNameError\u001b[0m                                 Traceback (most recent call last)",
            "\u001b[0;32m<ipython-input-7-e9fab6bd3d32>\u001b[0m in \u001b[0;36m<module>\u001b[0;34m()\u001b[0m\n\u001b[1;32m     74\u001b[0m \u001b[0;34m\u001b[0m\u001b[0m\n\u001b[1;32m     75\u001b[0m \u001b[0;31m# Score trained model.\u001b[0m\u001b[0;34m\u001b[0m\u001b[0;34m\u001b[0m\u001b[0;34m\u001b[0m\u001b[0m\n\u001b[0;32m---> 76\u001b[0;31m \u001b[0mscores\u001b[0m \u001b[0;34m=\u001b[0m \u001b[0mmodel\u001b[0m\u001b[0;34m.\u001b[0m\u001b[0mevaluate\u001b[0m\u001b[0;34m(\u001b[0m\u001b[0mx_test\u001b[0m\u001b[0;34m,\u001b[0m \u001b[0my_test\u001b[0m\u001b[0;34m,\u001b[0m \u001b[0mverbose\u001b[0m\u001b[0;34m=\u001b[0m\u001b[0;36m1\u001b[0m\u001b[0;34m)\u001b[0m\u001b[0;34m\u001b[0m\u001b[0;34m\u001b[0m\u001b[0m\n\u001b[0m\u001b[1;32m     77\u001b[0m \u001b[0mprint\u001b[0m\u001b[0;34m(\u001b[0m\u001b[0;34m'Test loss:'\u001b[0m\u001b[0;34m,\u001b[0m \u001b[0mscores\u001b[0m\u001b[0;34m[\u001b[0m\u001b[0;36m0\u001b[0m\u001b[0;34m]\u001b[0m\u001b[0;34m)\u001b[0m\u001b[0;34m\u001b[0m\u001b[0;34m\u001b[0m\u001b[0m\n\u001b[1;32m     78\u001b[0m \u001b[0mprint\u001b[0m\u001b[0;34m(\u001b[0m\u001b[0;34m'Test accuracy:'\u001b[0m\u001b[0;34m,\u001b[0m \u001b[0mscores\u001b[0m\u001b[0;34m[\u001b[0m\u001b[0;36m1\u001b[0m\u001b[0;34m]\u001b[0m\u001b[0;34m)\u001b[0m\u001b[0;34m\u001b[0m\u001b[0;34m\u001b[0m\u001b[0m\n",
            "\u001b[0;31mNameError\u001b[0m: name 'x_test' is not defined"
          ]
        }
      ]
    },
    {
      "metadata": {
        "id": "jJ_Kzoab9n39",
        "colab_type": "code",
        "colab": {
          "base_uri": "https://localhost:8080/",
          "height": 68
        },
        "outputId": "8d044443-697d-41d1-8b9e-a1b586fc678e"
      },
      "cell_type": "code",
      "source": [
        "# Score trained model.\n",
        "scores = model.evaluate(X_test, y_test, verbose=1)\n",
        "print('Test loss:', scores[0])\n",
        "print('Test accuracy:', scores[1])"
      ],
      "execution_count": 8,
      "outputs": [
        {
          "output_type": "stream",
          "text": [
            "10000/10000 [==============================] - 15s 1ms/step\n",
            "Test loss: 3.9043533977508544\n",
            "Test accuracy: 0.1578\n"
          ],
          "name": "stdout"
        }
      ]
    },
    {
      "metadata": {
        "id": "_CJaPp-cbtyw",
        "colab_type": "code",
        "outputId": "0dc9b3d8-3fae-4d49-f359-7d42dfdc6435",
        "colab": {
          "base_uri": "https://localhost:8080/",
          "height": 707
        }
      },
      "cell_type": "code",
      "source": [
        "import matplotlib.pyplot as plt\n",
        "\n",
        "acc = train_history.history['acc']\n",
        "val_acc = train_history.history['val_acc']\n",
        "loss = train_history.history['loss']\n",
        "val_loss = train_history.history['val_loss']\n",
        " \n",
        "epochs = range(len(acc))\n",
        " \n",
        "plt.plot(epochs, acc, 'b', label='Training acc')\n",
        "plt.plot(epochs, val_acc, 'r', label='Validation acc')\n",
        "plt.title('Training and validation accuracy')\n",
        "plt.legend()\n",
        " \n",
        "plt.figure()\n",
        " \n",
        "plt.plot(epochs, loss, 'b', label='Training loss')\n",
        "plt.plot(epochs, val_loss, 'r', label='Validation loss')\n",
        "plt.title('Training and validation loss')\n",
        "plt.legend()\n",
        " \n",
        "plt.show()"
      ],
      "execution_count": 0,
      "outputs": [
        {
          "output_type": "display_data",
          "data": {
            "image/png": "[encoded data removed]",
            "text/plain": [
              "<Figure size 576x396 with 1 Axes>"
            ]
          },
          "metadata": {
            "tags": []
          }
        },
        {
          "output_type": "display_data",
          "data": {
            "image/png": "[encoded data removed]",
            "text/plain": [
              "<Figure size 576x396 with 1 Axes>"
            ]
          },
          "metadata": {
            "tags": []
          }
        }
      ]
    },
    {
      "metadata": {
        "id": "HNfLGJPfu-xZ",
        "colab_type": "code",
        "colab": {}
      },
      "cell_type": "code",
      "source": [
        ""
      ],
      "execution_count": 0,
      "outputs": []
    }
  ]
}