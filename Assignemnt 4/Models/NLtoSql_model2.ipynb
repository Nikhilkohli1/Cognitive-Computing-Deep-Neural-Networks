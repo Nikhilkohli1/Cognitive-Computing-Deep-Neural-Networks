{
  "nbformat": 4,
  "nbformat_minor": 0,
  "metadata": {
    "colab": {
      "name": "NLtoSql model2.ipynb",
      "version": "0.3.2",
      "provenance": [],
      "collapsed_sections": []
    },
    "kernelspec": {
      "name": "python3",
      "display_name": "Python 3"
    },
    "accelerator": "GPU"
  },
  "cells": [
    {
      "metadata": {
        "id": "SCpStsvSqNkt",
        "colab_type": "code",
        "outputId": "a2f9616f-cecc-48cd-d35b-1b99a77e9c48",
        "colab": {
          "base_uri": "https://localhost:8080/",
          "height": 122
        }
      },
      "cell_type": "code",
      "source": [
        "# Load the Drive helper and mount\n",
        "from google.colab import drive\n",
        "drive.mount('/content/drive')"
      ],
      "execution_count": 0,
      "outputs": [
        {
          "output_type": "stream",
          "text": [
            "Go to this URL in a browser: https://accounts.google.com/o/oauth2/auth?client_id=947318989803-6bn6qk8qdgf4n4g3pfee6491hc0brc4i.apps.googleusercontent.com&redirect_uri=urn%3Aietf%3Awg%3Aoauth%3A2.0%3Aoob&scope=email%20https%3A%2F%2Fwww.googleapis.com%2Fauth%2Fdocs.test%20https%3A%2F%2Fwww.googleapis.com%2Fauth%2Fdrive%20https%3A%2F%2Fwww.googleapis.com%2Fauth%2Fdrive.photos.readonly%20https%3A%2F%2Fwww.googleapis.com%2Fauth%2Fpeopleapi.readonly&response_type=code\n",
            "\n",
            "Enter your authorization code:\n",
            "··········\n",
            "Mounted at /content/drive\n"
          ],
          "name": "stdout"
        }
      ]
    },
    {
      "metadata": {
        "id": "4HTUvdb-RYUw",
        "colab_type": "code",
        "outputId": "90c02897-7888-47e7-f733-cc1b75792769",
        "colab": {
          "base_uri": "https://localhost:8080/",
          "height": 34
        }
      },
      "cell_type": "code",
      "source": [
        "ls"
      ],
      "execution_count": 0,
      "outputs": [
        {
          "output_type": "stream",
          "text": [
            "\u001b[0m\u001b[01;34mnl2sql\u001b[0m/  \u001b[01;34msample_data\u001b[0m/  torch-0.2.0.post3-cp36-cp36m-manylinux1_x86_64.whl\n"
          ],
          "name": "stdout"
        }
      ]
    },
    {
      "metadata": {
        "id": "N6H8KleXRxxA",
        "colab_type": "code",
        "outputId": "6a3172f7-3fe8-43dc-fad2-9d30e7221218",
        "colab": {
          "base_uri": "https://localhost:8080/",
          "height": 119
        }
      },
      "cell_type": "code",
      "source": [
        "!git clone https://github.com/prezaei85/nl2sql.git"
      ],
      "execution_count": 0,
      "outputs": [
        {
          "output_type": "stream",
          "text": [
            "Cloning into 'nl2sql'...\n",
            "remote: Enumerating objects: 274, done.\u001b[K\n",
            "remote: Total 274 (delta 0), reused 0 (delta 0), pack-reused 274\u001b[K\n",
            "Receiving objects: 100% (274/274), 36.58 MiB | 16.48 MiB/s, done.\n",
            "Resolving deltas: 100% (112/112), done.\n",
            "Checking out files: 100% (73/73), done.\n"
          ],
          "name": "stdout"
        }
      ]
    },
    {
      "metadata": {
        "id": "buV5dfeeR1Dm",
        "colab_type": "code",
        "outputId": "2b24af18-52c1-4112-be24-d1e71b5e9e30",
        "colab": {
          "base_uri": "https://localhost:8080/",
          "height": 34
        }
      },
      "cell_type": "code",
      "source": [
        "cd /content/nl2sql/"
      ],
      "execution_count": 0,
      "outputs": [
        {
          "output_type": "stream",
          "text": [
            "/content/nl2sql\n"
          ],
          "name": "stdout"
        }
      ]
    },
    {
      "metadata": {
        "id": "OpHmtFcMR43e",
        "colab_type": "code",
        "outputId": "cc6ebb32-9361-4d51-8df6-caf7ea3278b7",
        "colab": {
          "base_uri": "https://localhost:8080/",
          "height": 51
        }
      },
      "cell_type": "code",
      "source": [
        "ls"
      ],
      "execution_count": 0,
      "outputs": [
        {
          "output_type": "stream",
          "text": [
            "\u001b[0m\u001b[01;34mconfig\u001b[0m/  \u001b[01;34mflaskapp\u001b[0m/  README.md         \u001b[01;32mrun_flaskapp.py\u001b[0m*  \u001b[01;34msrc\u001b[0m/\n",
            "\u001b[01;34mdata\u001b[0m/    LICENSE    requirements.txt  run_model.py\n"
          ],
          "name": "stdout"
        }
      ]
    },
    {
      "metadata": {
        "id": "PtI1wsJ_R5iO",
        "colab_type": "code",
        "outputId": "51c41937-0fe6-4141-ecf1-7d27de645253",
        "colab": {
          "base_uri": "https://localhost:8080/",
          "height": 207
        }
      },
      "cell_type": "code",
      "source": [
        "!pip install stanford-corenlp"
      ],
      "execution_count": 0,
      "outputs": [
        {
          "output_type": "stream",
          "text": [
            "Requirement already satisfied: stanford-corenlp in /usr/local/lib/python3.6/dist-packages (3.8.0)\n",
            "Requirement already satisfied: requests>=2.10.0 in /usr/local/lib/python3.6/dist-packages (from stanford-corenlp) (2.18.4)\n",
            "Requirement already satisfied: corenlp-protobuf>=3.8.0 in /usr/local/lib/python3.6/dist-packages (from stanford-corenlp) (3.8.0)\n",
            "Requirement already satisfied: idna<2.7,>=2.5 in /usr/local/lib/python3.6/dist-packages (from requests>=2.10.0->stanford-corenlp) (2.6)\n",
            "Requirement already satisfied: certifi>=2017.4.17 in /usr/local/lib/python3.6/dist-packages (from requests>=2.10.0->stanford-corenlp) (2019.3.9)\n",
            "Requirement already satisfied: chardet<3.1.0,>=3.0.2 in /usr/local/lib/python3.6/dist-packages (from requests>=2.10.0->stanford-corenlp) (3.0.4)\n",
            "Requirement already satisfied: urllib3<1.23,>=1.21.1 in /usr/local/lib/python3.6/dist-packages (from requests>=2.10.0->stanford-corenlp) (1.22)\n",
            "Requirement already satisfied: protobuf in /usr/local/lib/python3.6/dist-packages (from corenlp-protobuf>=3.8.0->stanford-corenlp) (3.7.1)\n",
            "Requirement already satisfied: six>=1.9 in /usr/local/lib/python3.6/dist-packages (from protobuf->corenlp-protobuf>=3.8.0->stanford-corenlp) (1.11.0)\n",
            "Requirement already satisfied: setuptools in /usr/local/lib/python3.6/dist-packages (from protobuf->corenlp-protobuf>=3.8.0->stanford-corenlp) (40.8.0)\n"
          ],
          "name": "stdout"
        }
      ]
    },
    {
      "metadata": {
        "id": "eQyLfNYXVMyn",
        "colab_type": "code",
        "outputId": "04462e30-c232-4b6d-fed3-26090c1d2812",
        "colab": {
          "base_uri": "https://localhost:8080/",
          "height": 802
        }
      },
      "cell_type": "code",
      "source": [
        "!pip install -U spacy"
      ],
      "execution_count": 0,
      "outputs": [
        {
          "output_type": "stream",
          "text": [
            "Collecting spacy\n",
            "  Using cached https://files.pythonhosted.org/packages/52/da/3a1c54694c2d2f40df82f38a19ae14c6eb24a5a1a0dae87205ebea7a84d8/spacy-2.1.3-cp36-cp36m-manylinux1_x86_64.whl\n",
            "Requirement already satisfied, skipping upgrade: requests<3.0.0,>=2.13.0 in /usr/local/lib/python3.6/dist-packages (from spacy) (2.18.4)\n",
            "Collecting numpy>=1.15.0 (from spacy)\n",
            "  Using cached https://files.pythonhosted.org/packages/35/d5/4f8410ac303e690144f0a0603c4b8fd3b986feb2749c435f7cdbb288f17e/numpy-1.16.2-cp36-cp36m-manylinux1_x86_64.whl\n",
            "Collecting thinc<7.1.0,>=7.0.2 (from spacy)\n",
            "  Using cached https://files.pythonhosted.org/packages/a9/f1/3df317939a07b2fc81be1a92ac10bf836a1d87b4016346b25f8b63dee321/thinc-7.0.4-cp36-cp36m-manylinux1_x86_64.whl\n",
            "Requirement already satisfied, skipping upgrade: blis<0.3.0,>=0.2.2 in /usr/local/lib/python3.6/dist-packages (from spacy) (0.2.4)\n",
            "Requirement already satisfied, skipping upgrade: plac<1.0.0,>=0.9.6 in /usr/local/lib/python3.6/dist-packages (from spacy) (0.9.6)\n",
            "Collecting cymem<2.1.0,>=2.0.2 (from spacy)\n",
            "  Downloading https://files.pythonhosted.org/packages/3d/61/9b0520c28eb199a4b1ca667d96dd625bba003c14c75230195f9691975f85/cymem-2.0.2-cp36-cp36m-manylinux1_x86_64.whl\n",
            "Requirement already satisfied, skipping upgrade: murmurhash<1.1.0,>=0.28.0 in /usr/local/lib/python3.6/dist-packages (from spacy) (0.28.0)\n",
            "Requirement already satisfied, skipping upgrade: srsly<1.1.0,>=0.0.5 in /usr/local/lib/python3.6/dist-packages (from spacy) (0.0.5)\n",
            "Collecting preshed<2.1.0,>=2.0.1 (from spacy)\n",
            "\u001b[?25l  Downloading https://files.pythonhosted.org/packages/20/93/f222fb957764a283203525ef20e62008675fd0a14ffff8cc1b1490147c63/preshed-2.0.1-cp36-cp36m-manylinux1_x86_64.whl (83kB)\n",
            "\u001b[K    100% |████████████████████████████████| 92kB 6.8MB/s \n",
            "\u001b[?25hRequirement already satisfied, skipping upgrade: jsonschema<3.0.0,>=2.6.0 in /usr/local/lib/python3.6/dist-packages (from spacy) (2.6.0)\n",
            "Requirement already satisfied, skipping upgrade: wasabi<1.1.0,>=0.2.0 in /usr/local/lib/python3.6/dist-packages (from spacy) (0.2.1)\n",
            "Requirement already satisfied, skipping upgrade: idna<2.7,>=2.5 in /usr/local/lib/python3.6/dist-packages (from requests<3.0.0,>=2.13.0->spacy) (2.6)\n",
            "Requirement already satisfied, skipping upgrade: chardet<3.1.0,>=3.0.2 in /usr/local/lib/python3.6/dist-packages (from requests<3.0.0,>=2.13.0->spacy) (3.0.4)\n",
            "Requirement already satisfied, skipping upgrade: urllib3<1.23,>=1.21.1 in /usr/local/lib/python3.6/dist-packages (from requests<3.0.0,>=2.13.0->spacy) (1.22)\n",
            "Requirement already satisfied, skipping upgrade: certifi>=2017.4.17 in /usr/local/lib/python3.6/dist-packages (from requests<3.0.0,>=2.13.0->spacy) (2019.3.9)\n",
            "Requirement already satisfied, skipping upgrade: tqdm<5.0.0,>=4.10.0 in /usr/local/lib/python3.6/dist-packages (from thinc<7.1.0,>=7.0.2->spacy) (4.19.8)\n",
            "\u001b[31myellowbrick 0.9.1 has requirement scikit-learn>=0.20, but you'll have scikit-learn 0.19.1 which is incompatible.\u001b[0m\n",
            "\u001b[31mimbalanced-learn 0.4.3 has requirement scikit-learn>=0.20, but you'll have scikit-learn 0.19.1 which is incompatible.\u001b[0m\n",
            "\u001b[31mfastai 1.0.50.post1 has requirement torch>=1.0.0, but you'll have torch 0.2.0.post3 which is incompatible.\u001b[0m\n",
            "\u001b[31mdatascience 0.10.6 has requirement folium==0.2.1, but you'll have folium 0.8.3 which is incompatible.\u001b[0m\n",
            "\u001b[31malbumentations 0.1.12 has requirement imgaug<0.2.7,>=0.2.5, but you'll have imgaug 0.2.8 which is incompatible.\u001b[0m\n",
            "Installing collected packages: numpy, cymem, preshed, thinc, spacy\n",
            "  Found existing installation: numpy 1.14.2\n",
            "    Uninstalling numpy-1.14.2:\n",
            "      Successfully uninstalled numpy-1.14.2\n",
            "  Found existing installation: cymem 1.31.2\n",
            "    Uninstalling cymem-1.31.2:\n",
            "      Successfully uninstalled cymem-1.31.2\n",
            "  Found existing installation: preshed 1.0.1\n",
            "    Uninstalling preshed-1.0.1:\n",
            "      Successfully uninstalled preshed-1.0.1\n",
            "  Found existing installation: thinc 6.10.3\n",
            "    Uninstalling thinc-6.10.3:\n",
            "      Successfully uninstalled thinc-6.10.3\n",
            "  Found existing installation: spacy 2.0.12\n",
            "    Uninstalling spacy-2.0.12:\n",
            "      Successfully uninstalled spacy-2.0.12\n",
            "Successfully installed cymem-2.0.2 numpy-1.16.2 preshed-2.0.1 spacy-2.1.3 thinc-7.0.4\n"
          ],
          "name": "stdout"
        }
      ]
    },
    {
      "metadata": {
        "id": "QuJVEx7dVk4e",
        "colab_type": "code",
        "outputId": "9c862d0e-b711-40fd-e27a-791eaa5f06c3",
        "colab": {
          "base_uri": "https://localhost:8080/",
          "height": 224
        }
      },
      "cell_type": "code",
      "source": [
        "!wget http://download.pytorch.org/whl/cu80/torch-0.2.0.post3-cp36-cp36m-manylinux1_x86_64.whl"
      ],
      "execution_count": 0,
      "outputs": [
        {
          "output_type": "stream",
          "text": [
            "--2019-04-03 18:10:46--  http://download.pytorch.org/whl/cu80/torch-0.2.0.post3-cp36-cp36m-manylinux1_x86_64.whl\n",
            "Resolving download.pytorch.org (download.pytorch.org)... 13.32.80.66, 13.32.80.53, 13.32.80.97, ...\n",
            "Connecting to download.pytorch.org (download.pytorch.org)|13.32.80.66|:80... connected.\n",
            "HTTP request sent, awaiting response... 200 OK\n",
            "Length: 486690063 (464M) [binary/octet-stream]\n",
            "Saving to: ‘torch-0.2.0.post3-cp36-cp36m-manylinux1_x86_64.whl’\n",
            "\n",
            "torch-0.2.0.post3-c 100%[===================>] 464.14M  27.2MB/s    in 18s     \n",
            "\n",
            "2019-04-03 18:11:04 (26.3 MB/s) - ‘torch-0.2.0.post3-cp36-cp36m-manylinux1_x86_64.whl’ saved [486690063/486690063]\n",
            "\n"
          ],
          "name": "stdout"
        }
      ]
    },
    {
      "metadata": {
        "id": "A-T_ej6zZWxH",
        "colab_type": "code",
        "outputId": "9c5b2943-328e-4040-870b-0441feaedc1d",
        "colab": {
          "base_uri": "https://localhost:8080/",
          "height": 51
        }
      },
      "cell_type": "code",
      "source": [
        "ls"
      ],
      "execution_count": 0,
      "outputs": [
        {
          "output_type": "stream",
          "text": [
            "\u001b[0m\u001b[01;34mconfig\u001b[0m/  \u001b[01;34mflaskapp\u001b[0m/  README.md         \u001b[01;32mrun_flaskapp.py\u001b[0m*  \u001b[01;34msrc\u001b[0m/\n",
            "\u001b[01;34mdata\u001b[0m/    LICENSE    requirements.txt  run_model.py\n"
          ],
          "name": "stdout"
        }
      ]
    },
    {
      "metadata": {
        "id": "ezTKUwpMZlOf",
        "colab_type": "code",
        "outputId": "a402cd81-0f36-4a20-d7f9-ff9aa30402a4",
        "colab": {
          "base_uri": "https://localhost:8080/",
          "height": 190
        }
      },
      "cell_type": "code",
      "source": [
        "!pip install '/content/torch-0.2.0.post3-cp36-cp36m-manylinux1_x86_64.whl'"
      ],
      "execution_count": 0,
      "outputs": [
        {
          "output_type": "stream",
          "text": [
            "Processing ./torch-0.2.0.post3-cp36-cp36m-manylinux1_x86_64.whl\n",
            "Requirement already satisfied: numpy in /usr/local/lib/python3.6/dist-packages (from torch==0.2.0.post3) (1.16.2)\n",
            "Requirement already satisfied: pyyaml in /usr/local/lib/python3.6/dist-packages (from torch==0.2.0.post3) (3.13)\n",
            "\u001b[31mfastai 1.0.50.post1 has requirement torch>=1.0.0, but you'll have torch 0.2.0.post3 which is incompatible.\u001b[0m\n",
            "Installing collected packages: torch\n",
            "  Found existing installation: torch 1.0.1.post2\n",
            "    Uninstalling torch-1.0.1.post2:\n",
            "      Successfully uninstalled torch-1.0.1.post2\n",
            "Successfully installed torch-0.2.0.post3\n"
          ],
          "name": "stdout"
        }
      ]
    },
    {
      "metadata": {
        "id": "GXWZF42oZ4t-",
        "colab_type": "code",
        "outputId": "142e90f1-58f9-47d6-d503-06df0ffe20d0",
        "colab": {
          "base_uri": "https://localhost:8080/",
          "height": 1602
        }
      },
      "cell_type": "code",
      "source": [
        "!pip install -r requirements.txt"
      ],
      "execution_count": 0,
      "outputs": [
        {
          "output_type": "stream",
          "text": [
            "Requirement already satisfied: nltk==3.2.5 in /usr/local/lib/python3.6/dist-packages (from -r requirements.txt (line 1)) (3.2.5)\n",
            "Requirement already satisfied: tensorboard_logger==0.0.4 in /usr/local/lib/python3.6/dist-packages (from -r requirements.txt (line 2)) (0.0.4)\n",
            "Requirement already satisfied: records==0.5.2 in /usr/local/lib/python3.6/dist-packages (from -r requirements.txt (line 3)) (0.5.2)\n",
            "Requirement already satisfied: more_itertools==3.2.0 in /usr/local/lib/python3.6/dist-packages (from -r requirements.txt (line 4)) (3.2.0)\n",
            "Requirement already satisfied: torchtext==0.2.0 in /usr/local/lib/python3.6/dist-packages (from -r requirements.txt (line 5)) (0.2.0)\n",
            "Requirement already satisfied: torch==0.2.0.post3 in /usr/local/lib/python3.6/dist-packages (from -r requirements.txt (line 6)) (0.2.0.post3)\n",
            "Requirement already satisfied: six==1.11.0 in /usr/local/lib/python3.6/dist-packages (from -r requirements.txt (line 7)) (1.11.0)\n",
            "Requirement already satisfied: Babel==2.5.1 in /usr/local/lib/python3.6/dist-packages (from -r requirements.txt (line 8)) (2.5.1)\n",
            "Requirement already satisfied: tabulate==0.8.1 in /usr/local/lib/python3.6/dist-packages (from -r requirements.txt (line 9)) (0.8.1)\n",
            "Requirement already satisfied: tqdm==4.19.8 in /usr/local/lib/python3.6/dist-packages (from -r requirements.txt (line 10)) (4.19.8)\n",
            "Collecting numpy==1.14.2 (from -r requirements.txt (line 11))\n",
            "  Using cached https://files.pythonhosted.org/packages/6e/dc/92c0f670e7b986829fc92c4c0208edb9d72908149da38ecda50d816ea057/numpy-1.14.2-cp36-cp36m-manylinux1_x86_64.whl\n",
            "Requirement already satisfied: path.py==10.4 in /usr/local/lib/python3.6/dist-packages (from -r requirements.txt (line 12)) (10.4)\n",
            "Requirement already satisfied: scikit_learn==0.19.1 in /usr/local/lib/python3.6/dist-packages (from -r requirements.txt (line 13)) (0.19.1)\n",
            "Requirement already satisfied: stanford-corenlp==3.8.0 in /usr/local/lib/python3.6/dist-packages (from -r requirements.txt (line 14)) (3.8.0)\n",
            "Requirement already satisfied: en-core-web-sm==2.0.0 in /usr/local/lib/python3.6/dist-packages (from -r requirements.txt (line 15)) (2.0.0)\n",
            "Requirement already satisfied: Flask==1.0.2 in /usr/local/lib/python3.6/dist-packages (from -r requirements.txt (line 16)) (1.0.2)\n",
            "Requirement already satisfied: pandas==0.23.4 in /usr/local/lib/python3.6/dist-packages (from -r requirements.txt (line 17)) (0.23.4)\n",
            "Collecting spacy==2.0.12 (from -r requirements.txt (line 18))\n",
            "Requirement already satisfied: protobuf in /usr/local/lib/python3.6/dist-packages (from tensorboard_logger==0.0.4->-r requirements.txt (line 2)) (3.7.1)\n",
            "Requirement already satisfied: tablib in /usr/local/lib/python3.6/dist-packages (from records==0.5.2->-r requirements.txt (line 3)) (0.13.0)\n",
            "Requirement already satisfied: docopt in /usr/local/lib/python3.6/dist-packages (from records==0.5.2->-r requirements.txt (line 3)) (0.6.2)\n",
            "Requirement already satisfied: SQLAlchemy in /usr/local/lib/python3.6/dist-packages (from records==0.5.2->-r requirements.txt (line 3)) (1.3.1)\n",
            "Requirement already satisfied: requests in /usr/local/lib/python3.6/dist-packages (from torchtext==0.2.0->-r requirements.txt (line 5)) (2.18.4)\n",
            "Requirement already satisfied: pyyaml in /usr/local/lib/python3.6/dist-packages (from torch==0.2.0.post3->-r requirements.txt (line 6)) (3.13)\n",
            "Requirement already satisfied: pytz>=0a in /usr/local/lib/python3.6/dist-packages (from Babel==2.5.1->-r requirements.txt (line 8)) (2018.9)\n",
            "Requirement already satisfied: corenlp-protobuf>=3.8.0 in /usr/local/lib/python3.6/dist-packages (from stanford-corenlp==3.8.0->-r requirements.txt (line 14)) (3.8.0)\n",
            "Requirement already satisfied: Jinja2>=2.10 in /usr/local/lib/python3.6/dist-packages (from Flask==1.0.2->-r requirements.txt (line 16)) (2.10)\n",
            "Requirement already satisfied: Werkzeug>=0.14 in /usr/local/lib/python3.6/dist-packages (from Flask==1.0.2->-r requirements.txt (line 16)) (0.15.1)\n",
            "Requirement already satisfied: click>=5.1 in /usr/local/lib/python3.6/dist-packages (from Flask==1.0.2->-r requirements.txt (line 16)) (7.0)\n",
            "Requirement already satisfied: itsdangerous>=0.24 in /usr/local/lib/python3.6/dist-packages (from Flask==1.0.2->-r requirements.txt (line 16)) (1.1.0)\n",
            "Requirement already satisfied: python-dateutil>=2.5.0 in /usr/local/lib/python3.6/dist-packages (from pandas==0.23.4->-r requirements.txt (line 17)) (2.5.3)\n",
            "Requirement already satisfied: dill<0.3,>=0.2 in /usr/local/lib/python3.6/dist-packages (from spacy==2.0.12->-r requirements.txt (line 18)) (0.2.9)\n",
            "Collecting thinc<6.11.0,>=6.10.3 (from spacy==2.0.12->-r requirements.txt (line 18))\n",
            "Requirement already satisfied: plac<1.0.0,>=0.9.6 in /usr/local/lib/python3.6/dist-packages (from spacy==2.0.12->-r requirements.txt (line 18)) (0.9.6)\n",
            "Requirement already satisfied: regex==2017.4.5 in /usr/local/lib/python3.6/dist-packages (from spacy==2.0.12->-r requirements.txt (line 18)) (2017.4.5)\n",
            "Collecting preshed<2.0.0,>=1.0.0 (from spacy==2.0.12->-r requirements.txt (line 18))\n",
            "  Using cached https://files.pythonhosted.org/packages/12/88/57a818051f3d71e800bfb7ba4df56d3ea5793482ef11f1d2109b726f3bac/preshed-1.0.1-cp36-cp36m-manylinux1_x86_64.whl\n",
            "Collecting cymem<1.32,>=1.30 (from spacy==2.0.12->-r requirements.txt (line 18))\n",
            "  Using cached https://files.pythonhosted.org/packages/a5/0f/d29aa68c55db37844c77e7e96143bd96651fd0f4453c9f6ee043ac846b77/cymem-1.31.2-cp36-cp36m-manylinux1_x86_64.whl\n",
            "Requirement already satisfied: ujson>=1.35 in /usr/local/lib/python3.6/dist-packages (from spacy==2.0.12->-r requirements.txt (line 18)) (1.35)\n",
            "Requirement already satisfied: murmurhash<0.29,>=0.28 in /usr/local/lib/python3.6/dist-packages (from spacy==2.0.12->-r requirements.txt (line 18)) (0.28.0)\n",
            "Requirement already satisfied: setuptools in /usr/local/lib/python3.6/dist-packages (from protobuf->tensorboard_logger==0.0.4->-r requirements.txt (line 2)) (40.8.0)\n",
            "Requirement already satisfied: backports.csv in /usr/local/lib/python3.6/dist-packages (from tablib->records==0.5.2->-r requirements.txt (line 3)) (1.0.7)\n",
            "Requirement already satisfied: openpyxl>=2.4.0 in /usr/local/lib/python3.6/dist-packages (from tablib->records==0.5.2->-r requirements.txt (line 3)) (2.5.9)\n",
            "Requirement already satisfied: odfpy in /usr/local/lib/python3.6/dist-packages (from tablib->records==0.5.2->-r requirements.txt (line 3)) (1.4.0)\n",
            "Requirement already satisfied: xlwt in /usr/local/lib/python3.6/dist-packages (from tablib->records==0.5.2->-r requirements.txt (line 3)) (1.3.0)\n",
            "Requirement already satisfied: xlrd in /usr/local/lib/python3.6/dist-packages (from tablib->records==0.5.2->-r requirements.txt (line 3)) (1.1.0)\n",
            "Requirement already satisfied: certifi>=2017.4.17 in /usr/local/lib/python3.6/dist-packages (from requests->torchtext==0.2.0->-r requirements.txt (line 5)) (2019.3.9)\n",
            "Requirement already satisfied: chardet<3.1.0,>=3.0.2 in /usr/local/lib/python3.6/dist-packages (from requests->torchtext==0.2.0->-r requirements.txt (line 5)) (3.0.4)\n",
            "Requirement already satisfied: idna<2.7,>=2.5 in /usr/local/lib/python3.6/dist-packages (from requests->torchtext==0.2.0->-r requirements.txt (line 5)) (2.6)\n",
            "Requirement already satisfied: urllib3<1.23,>=1.21.1 in /usr/local/lib/python3.6/dist-packages (from requests->torchtext==0.2.0->-r requirements.txt (line 5)) (1.22)\n",
            "Requirement already satisfied: MarkupSafe>=0.23 in /usr/local/lib/python3.6/dist-packages (from Jinja2>=2.10->Flask==1.0.2->-r requirements.txt (line 16)) (1.1.1)\n",
            "Requirement already satisfied: wrapt<1.11.0,>=1.10.0 in /usr/local/lib/python3.6/dist-packages (from thinc<6.11.0,>=6.10.3->spacy==2.0.12->-r requirements.txt (line 18)) (1.10.11)\n",
            "Requirement already satisfied: msgpack-numpy<1.0.0,>=0.4.1 in /usr/local/lib/python3.6/dist-packages (from thinc<6.11.0,>=6.10.3->spacy==2.0.12->-r requirements.txt (line 18)) (0.4.3.2)\n",
            "Requirement already satisfied: cytoolz<0.10,>=0.9.0 in /usr/local/lib/python3.6/dist-packages (from thinc<6.11.0,>=6.10.3->spacy==2.0.12->-r requirements.txt (line 18)) (0.9.0.1)\n",
            "Requirement already satisfied: msgpack<1.0.0,>=0.5.6 in /usr/local/lib/python3.6/dist-packages (from thinc<6.11.0,>=6.10.3->spacy==2.0.12->-r requirements.txt (line 18)) (0.5.6)\n",
            "Requirement already satisfied: jdcal in /usr/local/lib/python3.6/dist-packages (from openpyxl>=2.4.0->tablib->records==0.5.2->-r requirements.txt (line 3)) (1.4)\n",
            "Requirement already satisfied: et_xmlfile in /usr/local/lib/python3.6/dist-packages (from openpyxl>=2.4.0->tablib->records==0.5.2->-r requirements.txt (line 3)) (1.0.1)\n",
            "Requirement already satisfied: defusedxml in /usr/local/lib/python3.6/dist-packages (from odfpy->tablib->records==0.5.2->-r requirements.txt (line 3)) (0.5.0)\n",
            "Requirement already satisfied: toolz>=0.8.0 in /usr/local/lib/python3.6/dist-packages (from cytoolz<0.10,>=0.9.0->thinc<6.11.0,>=6.10.3->spacy==2.0.12->-r requirements.txt (line 18)) (0.9.0)\n",
            "\u001b[31myellowbrick 0.9.1 has requirement scikit-learn>=0.20, but you'll have scikit-learn 0.19.1 which is incompatible.\u001b[0m\n",
            "\u001b[31mimgaug 0.2.8 has requirement numpy>=1.15.0, but you'll have numpy 1.14.2 which is incompatible.\u001b[0m\n",
            "\u001b[31mimbalanced-learn 0.4.3 has requirement scikit-learn>=0.20, but you'll have scikit-learn 0.19.1 which is incompatible.\u001b[0m\n",
            "\u001b[31mfastai 1.0.50.post1 has requirement numpy>=1.15, but you'll have numpy 1.14.2 which is incompatible.\u001b[0m\n",
            "\u001b[31mfastai 1.0.50.post1 has requirement spacy>=2.0.18, but you'll have spacy 2.0.12 which is incompatible.\u001b[0m\n",
            "\u001b[31mfastai 1.0.50.post1 has requirement torch>=1.0.0, but you'll have torch 0.2.0.post3 which is incompatible.\u001b[0m\n",
            "\u001b[31mdatascience 0.10.6 has requirement folium==0.2.1, but you'll have folium 0.8.3 which is incompatible.\u001b[0m\n",
            "\u001b[31mblis 0.2.4 has requirement numpy>=1.15.0, but you'll have numpy 1.14.2 which is incompatible.\u001b[0m\n",
            "\u001b[31malbumentations 0.1.12 has requirement imgaug<0.2.7,>=0.2.5, but you'll have imgaug 0.2.8 which is incompatible.\u001b[0m\n",
            "Installing collected packages: numpy, cymem, preshed, thinc, spacy\n",
            "  Found existing installation: numpy 1.16.2\n",
            "    Uninstalling numpy-1.16.2:\n",
            "      Successfully uninstalled numpy-1.16.2\n",
            "  Found existing installation: cymem 2.0.2\n",
            "    Uninstalling cymem-2.0.2:\n",
            "      Successfully uninstalled cymem-2.0.2\n",
            "  Found existing installation: preshed 2.0.1\n",
            "    Uninstalling preshed-2.0.1:\n",
            "      Successfully uninstalled preshed-2.0.1\n",
            "  Found existing installation: thinc 7.0.4\n",
            "    Uninstalling thinc-7.0.4:\n",
            "      Successfully uninstalled thinc-7.0.4\n",
            "  Found existing installation: spacy 2.1.3\n",
            "    Uninstalling spacy-2.1.3:\n",
            "      Successfully uninstalled spacy-2.1.3\n",
            "Successfully installed cymem-1.31.2 numpy-1.14.2 preshed-1.0.1 spacy-2.0.12 thinc-6.10.3\n"
          ],
          "name": "stdout"
        },
        {
          "output_type": "display_data",
          "data": {
            "application/vnd.colab-display-data+json": {
              "pip_warning": {
                "packages": [
                  "numpy"
                ]
              }
            }
          },
          "metadata": {
            "tags": []
          }
        }
      ]
    },
    {
      "metadata": {
        "id": "iGD2fonKhBEA",
        "colab_type": "code",
        "colab": {}
      },
      "cell_type": "code",
      "source": [
        "cp \"/content/drive/My Drive/nl2sql-master/acl18coarse2fine_data_model.zip\" \"/content/nl2sql/\""
      ],
      "execution_count": 0,
      "outputs": []
    },
    {
      "metadata": {
        "id": "pVYVXbt7rkyq",
        "colab_type": "code",
        "colab": {}
      },
      "cell_type": "code",
      "source": [
        "mkdir pretrained"
      ],
      "execution_count": 0,
      "outputs": []
    },
    {
      "metadata": {
        "id": "jfHXTzU5r1-x",
        "colab_type": "code",
        "outputId": "c9a589b8-2d89-4690-c46f-eeabc90614e2",
        "colab": {
          "base_uri": "https://localhost:8080/",
          "height": 34
        }
      },
      "cell_type": "code",
      "source": [
        "cd pretrained/"
      ],
      "execution_count": 0,
      "outputs": [
        {
          "output_type": "stream",
          "text": [
            "/content/nl2sql/pretrained\n"
          ],
          "name": "stdout"
        }
      ]
    },
    {
      "metadata": {
        "id": "b5B4ifymr58y",
        "colab_type": "code",
        "colab": {}
      },
      "cell_type": "code",
      "source": [
        "mv \"/content/nl2sql/acl18coarse2fine_data_model.zip\" ."
      ],
      "execution_count": 0,
      "outputs": []
    },
    {
      "metadata": {
        "id": "0A6RYskDsEFh",
        "colab_type": "code",
        "outputId": "e4d63b2a-2337-46c0-9538-eb062a843d32",
        "colab": {
          "base_uri": "https://localhost:8080/",
          "height": 765
        }
      },
      "cell_type": "code",
      "source": [
        "!unzip acl18coarse2fine_data_model.zip"
      ],
      "execution_count": 0,
      "outputs": [
        {
          "output_type": "stream",
          "text": [
            "Archive:  acl18coarse2fine_data_model.zip\n",
            "   creating: data_model/\n",
            "   creating: data_model/django/\n",
            "  inflating: data_model/django/dev.json  \n",
            "  inflating: data_model/django/train.json  \n",
            "  inflating: data_model/django/pretrain.pt  \n",
            "   creating: data_model/django/embedding/\n",
            "  inflating: data_model/django/embedding/glove.6B.50d.txt.pt  \n",
            "  inflating: data_model/django/embedding/glove.6B.200d.txt.pt  \n",
            "  inflating: data_model/django/test.json  \n",
            "   creating: data_model/wikisql/\n",
            "   creating: data_model/wikisql/annotated_ent/\n",
            "  inflating: data_model/wikisql/annotated_ent/test.jsonl  \n",
            "  inflating: data_model/wikisql/annotated_ent/dev.jsonl  \n",
            "  inflating: data_model/wikisql/annotated_ent/train.jsonl  \n",
            "   creating: data_model/wikisql/data/\n",
            "  inflating: data_model/wikisql/data/train.tables.jsonl  \n",
            "  inflating: data_model/wikisql/data/test.tables.jsonl  \n",
            "  inflating: data_model/wikisql/data/test.db  \n",
            "  inflating: data_model/wikisql/data/dev.db  \n",
            "  inflating: data_model/wikisql/data/train.db  \n",
            "  inflating: data_model/wikisql/data/dev.tables.jsonl  \n",
            "  inflating: data_model/wikisql/data/test.jsonl  \n",
            "  inflating: data_model/wikisql/data/dev.jsonl  \n",
            "  inflating: data_model/wikisql/data/train.jsonl  \n",
            "  inflating: data_model/wikisql/pretrain.pt  \n",
            "   creating: data_model/wikisql/embedding/\n",
            "  inflating: data_model/wikisql/embedding/glove.840B.300d.txt.pt  \n",
            "   creating: data_model/geoqueries/\n",
            "  inflating: data_model/geoqueries/train.json  \n",
            "  inflating: data_model/geoqueries/pretrain.pt  \n",
            "   creating: data_model/geoqueries/embedding/\n",
            "  inflating: data_model/geoqueries/embedding/glove.6B.50d.txt.pt  \n",
            "  inflating: data_model/geoqueries/embedding/glove.6B.100d.txt.pt  \n",
            "  inflating: data_model/geoqueries/test.json  \n",
            "   creating: data_model/atis/\n",
            "  inflating: data_model/atis/dev.json  \n",
            "  inflating: data_model/atis/train.json  \n",
            "  inflating: data_model/atis/pretrain.pt  \n",
            "   creating: data_model/atis/embedding/\n",
            "  inflating: data_model/atis/embedding/glove.6B.200d.txt.pt  \n",
            "  inflating: data_model/atis/test.json  \n",
            "  inflating: data_model/atis/bpe.pt  \n",
            "  inflating: data_model/geoqueries/bpe.pt  \n"
          ],
          "name": "stdout"
        }
      ]
    },
    {
      "metadata": {
        "id": "uct2lfiasvMb",
        "colab_type": "code",
        "outputId": "5a3ed328-ce61-4c2b-8f6a-742fa13970be",
        "colab": {
          "base_uri": "https://localhost:8080/",
          "height": 34
        }
      },
      "cell_type": "code",
      "source": [
        "cd .."
      ],
      "execution_count": 0,
      "outputs": [
        {
          "output_type": "stream",
          "text": [
            "/content/nl2sql\n"
          ],
          "name": "stdout"
        }
      ]
    },
    {
      "metadata": {
        "id": "UkdP6Tv-s9t4",
        "colab_type": "code",
        "outputId": "9886351b-b854-4f9d-aa93-9a271f5db3c2",
        "colab": {
          "base_uri": "https://localhost:8080/",
          "height": 34
        }
      },
      "cell_type": "code",
      "source": [
        "cd src/"
      ],
      "execution_count": 0,
      "outputs": [
        {
          "output_type": "stream",
          "text": [
            "/content/nl2sql/src\n"
          ],
          "name": "stdout"
        }
      ]
    },
    {
      "metadata": {
        "id": "-br6R5A7q0oc",
        "colab_type": "code",
        "outputId": "e074ded9-7251-46e4-dc38-d6f1cb129f59",
        "colab": {
          "base_uri": "https://localhost:8080/",
          "height": 255
        }
      },
      "cell_type": "code",
      "source": [
        "\n"
      ],
      "execution_count": 0,
      "outputs": [
        {
          "output_type": "stream",
          "text": [
            "Preparing training ...\n",
            "Building Training...\n",
            "Traceback (most recent call last):\n",
            "  File \"preprocess.py\", line 71, in <module>\n",
            "    main()\n",
            "  File \"preprocess.py\", line 49, in main\n",
            "    train = table.IO.TableDataset(opt.train_anno, fields, opt, True)\n",
            "  File \"/content/nl2sql/src/table/IO.py\", line 105, in __init__\n",
            "    js_list = read_anno_json(anno)\n",
            "  File \"/content/nl2sql/src/table/IO.py\", line 78, in read_anno_json\n",
            "    with codecs.open(anno_path, \"r\", \"utf-8\") as corpus_file:\n",
            "  File \"/usr/lib/python3.6/codecs.py\", line 897, in open\n",
            "    file = builtins.open(filename, mode, buffering)\n",
            "FileNotFoundError: [Errno 2] No such file or directory: '../data/annotated/train.jsonl'\n"
          ],
          "name": "stdout"
        }
      ]
    },
    {
      "metadata": {
        "id": "5wvv5nHBsoq4",
        "colab_type": "code",
        "outputId": "0649b61d-5170-4149-d13d-4c89b56cdbf3",
        "colab": {
          "base_uri": "https://localhost:8080/",
          "height": 85
        }
      },
      "cell_type": "code",
      "source": [
        "ls"
      ],
      "execution_count": 0,
      "outputs": [
        {
          "output_type": "stream",
          "text": [
            "\u001b[0m\u001b[01;32mannotate.py\u001b[0m*           \u001b[01;34mingestion\u001b[0m/  preprocess.py  \u001b[01;34mrun.2\u001b[0m/\n",
            "\u001b[01;32mannotate_question.py\u001b[0m*  \u001b[01;34mlib\u001b[0m/        \u001b[01;34m__pycache__\u001b[0m/   \u001b[01;34mtable\u001b[0m/\n",
            "evaluate.py            \u001b[01;34mmodel\u001b[0m/      \u001b[01;34mrun.0\u001b[0m/         train.py\n",
            "\u001b[01;32mevaluate_question.py\u001b[0m*  opts.py     \u001b[01;34mrun.1\u001b[0m/\n"
          ],
          "name": "stdout"
        }
      ]
    },
    {
      "metadata": {
        "id": "yDXb6xhxvZv6",
        "colab_type": "code",
        "outputId": "195fe0bd-1f24-4f12-90ac-7cc1ec97b763",
        "colab": {
          "base_uri": "https://localhost:8080/",
          "height": 34
        }
      },
      "cell_type": "code",
      "source": [
        "ls"
      ],
      "execution_count": 0,
      "outputs": [
        {
          "output_type": "stream",
          "text": [
            "dev.jsonl  test.jsonl\n"
          ],
          "name": "stdout"
        }
      ]
    },
    {
      "metadata": {
        "id": "ywnvYNrCvdnL",
        "colab_type": "code",
        "colab": {}
      },
      "cell_type": "code",
      "source": [
        "cp \"/content/nl2sql/pretrained/data_model/wikisql/annotated_ent/train.jsonl\" \"/content/nl2sql/data/annotated/train.jsonl\""
      ],
      "execution_count": 0,
      "outputs": []
    },
    {
      "metadata": {
        "id": "gZ-2cN87wr3n",
        "colab_type": "code",
        "outputId": "897878fb-b310-49a8-9341-b80b4ed6e0a5",
        "colab": {
          "base_uri": "https://localhost:8080/",
          "height": 34
        }
      },
      "cell_type": "code",
      "source": [
        "cd \"/content/nl2sql/src/\""
      ],
      "execution_count": 0,
      "outputs": [
        {
          "output_type": "stream",
          "text": [
            "/content/nl2sql/src\n"
          ],
          "name": "stdout"
        }
      ]
    },
    {
      "metadata": {
        "id": "omRys09Iw2pW",
        "colab_type": "code",
        "outputId": "392346cc-9e79-43f4-e16f-f96d6aa4ac56",
        "colab": {
          "base_uri": "https://localhost:8080/",
          "height": 119
        }
      },
      "cell_type": "code",
      "source": [
        "#!python preprocess.py\n",
        "\n",
        "!python preprocess.py"
      ],
      "execution_count": 0,
      "outputs": [
        {
          "output_type": "stream",
          "text": [
            "Preparing training ...\n",
            "Building Training...\n",
            "Building Valid...\n",
            "Building Test...\n",
            "Building Vocab...\n",
            "Saving train/valid/fields\n"
          ],
          "name": "stdout"
        }
      ]
    },
    {
      "metadata": {
        "id": "hoV-aQVGw6xH",
        "colab_type": "code",
        "outputId": "77b30e80-4afb-4954-8957-e67427fb3bde",
        "colab": {
          "base_uri": "https://localhost:8080/",
          "height": 258
        }
      },
      "cell_type": "code",
      "source": [
        "!python train.py"
      ],
      "execution_count": 0,
      "outputs": [
        {
          "output_type": "stream",
          "text": [
            "{'word_vec_size': 300, 'ent_vec_size': 10, 'encoder_type': 'brnn', 'decoder_type': 'rnn', 'layers': 1, 'enc_layers': 1, 'dec_layers': 1, 'rnn_size': 250, 'score_size': 64, 'rnn_type': 'LSTM', 'brnn_merge': 'concat', 'split_type': 'incell', 'merge_type': 'cat', 'layout_encode': 'rnn', 'cond_op_vec_size': 150, 'global_attention': 'general', 'attn_hidden': 64, 'co_attention': False, 'data': '', 'save_dir': '', 'train_from': '', 'gpuid': [0], 'seed': 123, 'start_epoch': 1, 'param_init': 0.08, 'fix_word_vecs': False, 'update_word_vecs_after': 10, 'agg_sample_rate': 0.5, 'batch_size': 200, 'max_generator_batches': 32, 'epochs': 40, 'optim': 'rmsprop', 'max_grad_norm': 5, 'dropout': 0.5, 'lock_dropout': False, 'weight_dropout': 0, 'smooth_eps': 0, 'learning_rate': 0.002, 'alpha': 0.95, 'learning_rate_decay': 0.98, 'start_decay_at': 8, 'start_checkpoint_at': 30, 'decay_method': '', 'warmup_steps': 4000, 'report_every': 50, 'exp': '', 'save_path': 'run.3', 'brnn': True, 'pre_word_vecs': 'embedding'}\n",
            "Loading train and validate data from ''\n",
            " * number of training sentences: 56353\n",
            " * maximum batch size: 200\n",
            "Building model...\n",
            "embedding/glove.840B.300d.zip: 2.18GB [12:21, 2.93MB/s]                \n",
            " 19% 409842/2196017 [00:47<03:28, 8550.94it/s]tcmalloc: large alloc 1233903616 bytes == 0x7f40bb86c000 @  0x7f421816d615 0x5e05b2 0x5e09c9 0x5e0a8a 0x444547 0x502e0c 0x506859 0x504c28 0x502540 0x502f3d 0x507641 0x504c28 0x501b2e 0x591461 0x59ebbe 0x507c17 0x504c28 0x501b2e 0x591461 0x54b813 0x555421 0x5a730c 0x503073 0x507641 0x502209 0x502f3d 0x506859 0x504c28 0x502540 0x502f3d 0x506859\n",
            " 22% 491133/2196017 [00:57<03:21, 8472.60it/s]tcmalloc: large alloc 1542381568 bytes == 0x7f405f4be000 @  0x7f421816d615 0x5e05b2 0x5e09c9 0x5e0a8a 0x444547 0x502e0c 0x506859 0x504c28 0x502540 0x502f3d 0x507641 0x504c28 0x501b2e 0x591461 0x59ebbe 0x507c17 0x504c28 0x501b2e 0x591461 0x54b813 0x555421 0x5a730c 0x503073 0x507641 0x502209 0x502f3d 0x506859 0x504c28 0x502540 0x502f3d 0x506859\n",
            " 28% 625857/2196017 [01:14<03:06, 8421.87it/s]tcmalloc: large alloc 1927979008 bytes == 0x7f3febe94000 @  0x7f421816d615 0x5e05b2 0x5e09c9 0x5e0a8a 0x444547 0x502e0c 0x506859 0x504c28 0x502540 0x502f3d 0x507641 0x504c28 0x501b2e 0x591461 0x59ebbe 0x507c17 0x504c28 0x501b2e 0x591461 0x54b813 0x555421 0x5a730c 0x503073 0x507641 0x502209 0x502f3d 0x506859 0x504c28 0x502540 0x502f3d 0x506859\n",
            " 36% 798105/2196017 [01:35<02:47, 8353.82it/s]tcmalloc: large alloc 2409979904 bytes == 0x7f3f5ba7e000 @  0x7f421816d615 0x5e05b2 0x5e09c9 0x5e0a8a 0x444547 0x502e0c 0x506859 0x504c28 0x502540 0x502f3d 0x507641 0x504c28 0x501b2e 0x591461 0x59ebbe 0x507c17 0x504c28 0x501b2e 0x591461 0x54b813 0x555421 0x5a730c 0x503073 0x507641 0x502209 0x502f3d 0x506859 0x504c28 0x502540 0x502f3d 0x506859\n",
            " 44% 957426/2196017 [01:55<02:29, 8275.84it/s]tcmalloc: large alloc 3012476928 bytes == 0x7f3ea7892000 @  0x7f421816d615 0x5e05b2 0x5e09c9 0x5e0a8a 0x444547 0x502e0c 0x506859 0x504c28 0x502540 0x502f3d 0x507641 0x504c28 0x501b2e 0x591461 0x59ebbe 0x507c17 0x504c28 0x501b2e 0x591461 0x54b813 0x555421 0x5a730c 0x503073 0x507641 0x502209 0x502f3d 0x506859 0x504c28 0x502540 0x502f3d 0x506859\n",
            " 56% 1220463/2196017 [02:27<01:58, 8261.93it/s]tcmalloc: large alloc 3765600256 bytes == 0x7f3dc5a6a000 @  0x7f421816d615 0x5e05b2 0x5e09c9 0x5e0a8a 0x444547 0x502e0c 0x506859 0x504c28 0x502540 0x502f3d 0x507641 0x504c28 0x501b2e 0x591461 0x59ebbe 0x507c17 0x504c28 0x501b2e 0x591461 0x54b813 0x555421 0x5a730c 0x503073 0x507641 0x502209 0x502f3d 0x506859 0x504c28 0x502540 0x502f3d 0x506859\n",
            "^C\n"
          ],
          "name": "stdout"
        }
      ]
    },
    {
      "metadata": {
        "id": "eekefxJq5uCk",
        "colab_type": "code",
        "colab": {}
      },
      "cell_type": "code",
      "source": [
        "cp \"/content/nl2sql/src/annotate_question.py\" \"/content/nl2sql/\""
      ],
      "execution_count": 0,
      "outputs": []
    },
    {
      "metadata": {
        "id": "0IVeuWeg3dpJ",
        "colab_type": "code",
        "colab": {}
      },
      "cell_type": "code",
      "source": [
        "!cd '/content/nl2sql/src'"
      ],
      "execution_count": 0,
      "outputs": []
    },
    {
      "metadata": {
        "id": "_axlQkwT6ogG",
        "colab_type": "code",
        "outputId": "55849cc2-7a4b-49ac-d009-8746ae3d5dbd",
        "colab": {
          "base_uri": "https://localhost:8080/",
          "height": 343
        }
      },
      "cell_type": "code",
      "source": [
        "!CORENLP_HOME=/path/to/corenlp  python \"/content/nl2sql/run_model.py\" -config_path \"/content/nl2sql/config/model_config.json\" -question \"what was the result of the game with New York Jets?\""
      ],
      "execution_count": 0,
      "outputs": [
        {
          "output_type": "stream",
          "text": [
            "Error: Could not find or load main class edu.stanford.nlp.pipeline.StanfordCoreNLPServer\n",
            "Caused by: java.lang.ClassNotFoundException: edu.stanford.nlp.pipeline.StanfordCoreNLPServer\n",
            "Traceback (most recent call last):\n",
            "  File \"/content/nl2sql/run_model.py\", line 19, in <module>\n",
            "    args.question, con[\"table_id\"], con[\"dir_in\"], con[\"dir_out\"], \"test\")\n",
            "  File \"/content/nl2sql/annotate_question.py\", line 105, in annotate_question\n",
            "    a = annotate_example(client, raw_data, tables[table_id])\n",
            "  File \"/content/nl2sql/annotate_question.py\", line 36, in annotate_example\n",
            "    ann['question'] = annotate(client, example['question'])\n",
            "  File \"/content/nl2sql/annotate_question.py\", line 20, in annotate\n",
            "    for s in client.annotate(sentence).sentence:\n",
            "  File \"/usr/local/lib/python3.6/dist-packages/corenlp/client.py\", line 181, in annotate\n",
            "    r = self._request(text.encode('utf-8'), properties)\n",
            "  File \"/usr/local/lib/python3.6/dist-packages/corenlp/client.py\", line 144, in _request\n",
            "    self.ensure_alive()\n",
            "  File \"/usr/local/lib/python3.6/dist-packages/corenlp/client.py\", line 107, in ensure_alive\n",
            "    raise PermanentlyFailedException(\"Timed out waiting for service to come alive.\")\n",
            "corenlp.client.PermanentlyFailedException: Timed out waiting for service to come alive.\n"
          ],
          "name": "stdout"
        }
      ]
    },
    {
      "metadata": {
        "id": "i6P7qZxwxmMt",
        "colab_type": "code",
        "outputId": "582b1726-cc55-45e1-bfa4-fed7fd02a436",
        "colab": {
          "base_uri": "https://localhost:8080/",
          "height": 173
        }
      },
      "cell_type": "code",
      "source": [
        "!python \"/content/nl2sql/run_model.py\" -config_path \"/content/nl2sql/config/model_config.json\" -question \"what was the result of the game with New York Jets?\"\n"
      ],
      "execution_count": 0,
      "outputs": [
        {
          "output_type": "stream",
          "text": [
            "Traceback (most recent call last):\n",
            "  File \"/content/nl2sql/run_model.py\", line 19, in <module>\n",
            "    args.question, con[\"table_id\"], con[\"dir_in\"], con[\"dir_out\"], \"test\")\n",
            "  File \"/content/nl2sql/annotate_question.py\", line 99, in annotate_question\n",
            "    with open(ftable) as ft, open(fout, 'a') as fo, corenlp.CoreNLPClient(annotators=\"tokenize ssplit\".split()) as client:\n",
            "  File \"/usr/local/lib/python3.6/dist-packages/corenlp/client.py\", line 124, in __init__\n",
            "    assert os.getenv(\"CORENLP_HOME\") is not None, \"Please define $CORENLP_HOME where your CoreNLP Java checkout is\"\n",
            "AssertionError: Please define $CORENLP_HOME where your CoreNLP Java checkout is\n"
          ],
          "name": "stdout"
        }
      ]
    },
    {
      "metadata": {
        "id": "AKfkooW33OXp",
        "colab_type": "code",
        "outputId": "297f420d-e52e-45d1-95b8-cd2a6fda10d4",
        "colab": {
          "base_uri": "https://localhost:8080/",
          "height": 34
        }
      },
      "cell_type": "code",
      "source": [
        "cd .."
      ],
      "execution_count": 0,
      "outputs": [
        {
          "output_type": "stream",
          "text": [
            "/content/nl2sql\n"
          ],
          "name": "stdout"
        }
      ]
    },
    {
      "metadata": {
        "id": "FjmrQVu458Yl",
        "colab_type": "code",
        "colab": {}
      },
      "cell_type": "code",
      "source": [
        ""
      ],
      "execution_count": 0,
      "outputs": []
    }
  ]
}