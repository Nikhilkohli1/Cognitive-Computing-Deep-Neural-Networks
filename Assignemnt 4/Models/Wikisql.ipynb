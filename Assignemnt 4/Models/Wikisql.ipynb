{
  "nbformat": 4,
  "nbformat_minor": 0,
  "metadata": {
    "colab": {
      "name": "Wikisql.ipynb",
      "version": "0.3.2",
      "provenance": [],
      "collapsed_sections": []
    },
    "kernelspec": {
      "name": "python3",
      "display_name": "Python 3"
    },
    "accelerator": "GPU"
  },
  "cells": [
    {
      "metadata": {
        "id": "Wjak9mEfYg_K",
        "colab_type": "code",
        "colab": {
          "base_uri": "https://localhost:8080/",
          "height": 102
        },
        "outputId": "f98eb8d4-9d5c-4db0-a3dd-690dbd0e5adb"
      },
      "cell_type": "code",
      "source": [
        "!git clone https://github.com/salesforce/WikiSQL.git"
      ],
      "execution_count": 1,
      "outputs": [
        {
          "output_type": "stream",
          "text": [
            "Cloning into 'WikiSQL'...\n",
            "remote: Enumerating objects: 201, done.\u001b[K\n",
            "remote: Total 201 (delta 0), reused 0 (delta 0), pack-reused 201\u001b[K\n",
            "Receiving objects: 100% (201/201), 50.68 MiB | 40.29 MiB/s, done.\n",
            "Resolving deltas: 100% (95/95), done.\n"
          ],
          "name": "stdout"
        }
      ]
    },
    {
      "metadata": {
        "id": "679mTs7-YlDM",
        "colab_type": "code",
        "colab": {
          "base_uri": "https://localhost:8080/",
          "height": 34
        },
        "outputId": "4fcef404-5d22-4956-bb5c-08df9df61b98"
      },
      "cell_type": "code",
      "source": [
        "cd WikiSQL"
      ],
      "execution_count": 2,
      "outputs": [
        {
          "output_type": "stream",
          "text": [
            "/content/WikiSQL\n"
          ],
          "name": "stdout"
        }
      ]
    },
    {
      "metadata": {
        "id": "azTXyMdJYpHy",
        "colab_type": "code",
        "colab": {
          "base_uri": "https://localhost:8080/",
          "height": 649
        },
        "outputId": "21eb9f9f-3b87-4bf8-8b5e-b4605559607f"
      },
      "cell_type": "code",
      "source": [
        "pip install -r requirements.txt"
      ],
      "execution_count": 3,
      "outputs": [
        {
          "output_type": "stream",
          "text": [
            "Requirement already satisfied: tqdm in /usr/local/lib/python3.6/dist-packages (from -r requirements.txt (line 1)) (4.28.1)\n",
            "Collecting records (from -r requirements.txt (line 2))\n",
            "  Downloading https://files.pythonhosted.org/packages/ef/93/2467c761ea3729713ab97842a46cc125ad09d14a0a174cb637bee4983911/records-0.5.3-py2.py3-none-any.whl\n",
            "Requirement already satisfied: babel in /usr/local/lib/python3.6/dist-packages (from -r requirements.txt (line 3)) (2.6.0)\n",
            "Requirement already satisfied: tabulate in /usr/local/lib/python3.6/dist-packages (from -r requirements.txt (line 4)) (0.8.3)\n",
            "Collecting tablib>=0.11.4 (from records->-r requirements.txt (line 2))\n",
            "\u001b[?25l  Downloading https://files.pythonhosted.org/packages/7b/c7/cb74031b330cd94f3580926dc707d148b4ba9138449fc9f433cb79e640d8/tablib-0.13.0-py3-none-any.whl (75kB)\n",
            "\u001b[K    100% |████████████████████████████████| 81kB 3.2MB/s \n",
            "\u001b[?25hCollecting openpyxl<2.5.0 (from records->-r requirements.txt (line 2))\n",
            "\u001b[?25l  Downloading https://files.pythonhosted.org/packages/77/26/0bd1a39776f53b4f28e5bb1d26b3fcd99068584a7e1ddca4e09c0d5fd592/openpyxl-2.4.11.tar.gz (158kB)\n",
            "\u001b[K    100% |████████████████████████████████| 163kB 6.9MB/s \n",
            "\u001b[?25hRequirement already satisfied: SQLAlchemy; python_version >= \"3.0\" in /usr/local/lib/python3.6/dist-packages (from records->-r requirements.txt (line 2)) (1.3.1)\n",
            "Requirement already satisfied: docopt in /usr/local/lib/python3.6/dist-packages (from records->-r requirements.txt (line 2)) (0.6.2)\n",
            "Requirement already satisfied: pytz>=0a in /usr/local/lib/python3.6/dist-packages (from babel->-r requirements.txt (line 3)) (2018.9)\n",
            "Collecting backports.csv (from tablib>=0.11.4->records->-r requirements.txt (line 2))\n",
            "  Downloading https://files.pythonhosted.org/packages/8e/26/a6bd68f13e0f38fbb643d6e497fc3462be83a0b6c4d43425c78bb51a7291/backports.csv-1.0.7-py2.py3-none-any.whl\n",
            "Requirement already satisfied: xlwt in /usr/local/lib/python3.6/dist-packages (from tablib>=0.11.4->records->-r requirements.txt (line 2)) (1.3.0)\n",
            "Requirement already satisfied: xlrd in /usr/local/lib/python3.6/dist-packages (from tablib>=0.11.4->records->-r requirements.txt (line 2)) (1.1.0)\n",
            "Requirement already satisfied: pyyaml in /usr/local/lib/python3.6/dist-packages (from tablib>=0.11.4->records->-r requirements.txt (line 2)) (3.13)\n",
            "Collecting odfpy (from tablib>=0.11.4->records->-r requirements.txt (line 2))\n",
            "\u001b[?25l  Downloading https://files.pythonhosted.org/packages/85/7d/8f6d1f2a4683be362b101c00232b4c3839e4e4a90e0945d8d43ec6aa671d/odfpy-1.4.0.tar.gz (715kB)\n",
            "\u001b[K    100% |████████████████████████████████| 716kB 19.6MB/s \n",
            "\u001b[?25hRequirement already satisfied: jdcal in /usr/local/lib/python3.6/dist-packages (from openpyxl<2.5.0->records->-r requirements.txt (line 2)) (1.4)\n",
            "Requirement already satisfied: et_xmlfile in /usr/local/lib/python3.6/dist-packages (from openpyxl<2.5.0->records->-r requirements.txt (line 2)) (1.0.1)\n",
            "Requirement already satisfied: defusedxml in /usr/local/lib/python3.6/dist-packages (from odfpy->tablib>=0.11.4->records->-r requirements.txt (line 2)) (0.5.0)\n",
            "Building wheels for collected packages: openpyxl, odfpy\n",
            "  Building wheel for openpyxl (setup.py) ... \u001b[?25ldone\n",
            "\u001b[?25h  Stored in directory: /root/.cache/pip/wheels/59/44/27/63b211425501ad51d197ff8ed00e9e469e38b9e516cb69b1c2\n",
            "  Building wheel for odfpy (setup.py) ... \u001b[?25ldone\n",
            "\u001b[?25h  Stored in directory: /root/.cache/pip/wheels/06/2d/19/f5a4eed468fecff295ff8ac49e5dd5fb22d7ffc7ff072deabf\n",
            "Successfully built openpyxl odfpy\n",
            "Installing collected packages: backports.csv, odfpy, openpyxl, tablib, records\n",
            "  Found existing installation: openpyxl 2.5.9\n",
            "    Uninstalling openpyxl-2.5.9:\n",
            "      Successfully uninstalled openpyxl-2.5.9\n",
            "Successfully installed backports.csv-1.0.7 odfpy-1.4.0 openpyxl-2.4.11 records-0.5.3 tablib-0.13.0\n"
          ],
          "name": "stdout"
        }
      ]
    },
    {
      "metadata": {
        "id": "RDEksBOjYrhC",
        "colab_type": "code",
        "colab": {
          "base_uri": "https://localhost:8080/",
          "height": 187
        },
        "outputId": "e5f00093-0550-41c7-b102-c345e5f05de0"
      },
      "cell_type": "code",
      "source": [
        "!tar xvjf data.tar.bz2"
      ],
      "execution_count": 5,
      "outputs": [
        {
          "output_type": "stream",
          "text": [
            "data/\n",
            "data/train.jsonl\n",
            "data/test.tables.jsonl\n",
            "data/test.db\n",
            "data/dev.tables.jsonl\n",
            "data/dev.db\n",
            "data/test.jsonl\n",
            "data/train.tables.jsonl\n",
            "data/train.db\n",
            "data/dev.jsonl\n"
          ],
          "name": "stdout"
        }
      ]
    },
    {
      "metadata": {
        "id": "l7-aSn-gY1bS",
        "colab_type": "code",
        "colab": {}
      },
      "cell_type": "code",
      "source": [
        "import pandas as pd\n",
        "import json"
      ],
      "execution_count": 0,
      "outputs": []
    },
    {
      "metadata": {
        "id": "b_kwxlF7lO0_",
        "colab_type": "code",
        "colab": {
          "base_uri": "https://localhost:8080/",
          "height": 561
        },
        "outputId": "5960d063-3fbe-4947-8c89-a83a81d1ccbf"
      },
      "cell_type": "code",
      "source": [
        "!apt-get install jq"
      ],
      "execution_count": 11,
      "outputs": [
        {
          "output_type": "stream",
          "text": [
            "Reading package lists... Done\n",
            "Building dependency tree       \n",
            "Reading state information... Done\n",
            "The following package was automatically installed and is no longer required:\n",
            "  libnvidia-common-410\n",
            "Use 'apt autoremove' to remove it.\n",
            "The following additional packages will be installed:\n",
            "  libjq1 libonig4\n",
            "The following NEW packages will be installed:\n",
            "  jq libjq1 libonig4\n",
            "0 upgraded, 3 newly installed, 0 to remove and 6 not upgraded.\n",
            "Need to get 276 kB of archives.\n",
            "After this operation, 930 kB of additional disk space will be used.\n",
            "Get:1 http://archive.ubuntu.com/ubuntu bionic/universe amd64 libonig4 amd64 6.7.0-1 [119 kB]\n",
            "Get:2 http://archive.ubuntu.com/ubuntu bionic/universe amd64 libjq1 amd64 1.5+dfsg-2 [111 kB]\n",
            "Get:3 http://archive.ubuntu.com/ubuntu bionic/universe amd64 jq amd64 1.5+dfsg-2 [45.6 kB]\n",
            "Fetched 276 kB in 1s (423 kB/s)\n",
            "Selecting previously unselected package libonig4:amd64.\n",
            "(Reading database ... 131294 files and directories currently installed.)\n",
            "Preparing to unpack .../libonig4_6.7.0-1_amd64.deb ...\n",
            "Unpacking libonig4:amd64 (6.7.0-1) ...\n",
            "Selecting previously unselected package libjq1:amd64.\n",
            "Preparing to unpack .../libjq1_1.5+dfsg-2_amd64.deb ...\n",
            "Unpacking libjq1:amd64 (1.5+dfsg-2) ...\n",
            "Selecting previously unselected package jq.\n",
            "Preparing to unpack .../jq_1.5+dfsg-2_amd64.deb ...\n",
            "Unpacking jq (1.5+dfsg-2) ...\n",
            "Setting up libonig4:amd64 (6.7.0-1) ...\n",
            "Setting up libjq1:amd64 (1.5+dfsg-2) ...\n",
            "Processing triggers for libc-bin (2.27-3ubuntu1) ...\n",
            "Processing triggers for man-db (2.8.3-2ubuntu0.1) ...\n",
            "Setting up jq (1.5+dfsg-2) ...\n"
          ],
          "name": "stdout"
        }
      ]
    },
    {
      "metadata": {
        "id": "m_HIOwEvk7ew",
        "colab_type": "code",
        "colab": {}
      },
      "cell_type": "code",
      "source": [
        "!jq -s '.' \"./data/train.jsonl\" > \"./train.json\""
      ],
      "execution_count": 0,
      "outputs": []
    },
    {
      "metadata": {
        "id": "zIK2s0-olWn2",
        "colab_type": "code",
        "colab": {
          "base_uri": "https://localhost:8080/",
          "height": 68
        },
        "outputId": "d7a5b9f6-43e9-4740-ce9a-d1fa81683e06"
      },
      "cell_type": "code",
      "source": [
        "ls"
      ],
      "execution_count": 13,
      "outputs": [
        {
          "output_type": "stream",
          "text": [
            "\u001b[0m\u001b[01;32mannotate.py\u001b[0m*  data.tar.bz2  LICENSE           \u001b[01;34mtest\u001b[0m/\n",
            "\u001b[01;34mcollection\u001b[0m/   \u001b[01;32mevaluate.py\u001b[0m*  \u001b[01;32mREADME.md\u001b[0m*        train.json\n",
            "\u001b[01;34mdata\u001b[0m/         \u001b[01;34mlib\u001b[0m/          requirements.txt  version.txt\n"
          ],
          "name": "stdout"
        }
      ]
    },
    {
      "metadata": {
        "id": "JFyEzd-0ZUao",
        "colab_type": "code",
        "colab": {}
      },
      "cell_type": "code",
      "source": [
        "with open('./train.json') as f:\n",
        "  df = pd.DataFrame(json.load(f))"
      ],
      "execution_count": 0,
      "outputs": []
    },
    {
      "metadata": {
        "id": "gUByWZBYZZaQ",
        "colab_type": "code",
        "colab": {
          "base_uri": "https://localhost:8080/",
          "height": 204
        },
        "outputId": "d4d71fe9-5731-4491-9eac-fb56cee3ed94"
      },
      "cell_type": "code",
      "source": [
        "df.head()"
      ],
      "execution_count": 15,
      "outputs": [
        {
          "output_type": "execute_result",
          "data": {
            "text/html": [
              "<div>\n",
              "<style scoped>\n",
              "    .dataframe tbody tr th:only-of-type {\n",
              "        vertical-align: middle;\n",
              "    }\n",
              "\n",
              "    .dataframe tbody tr th {\n",
              "        vertical-align: top;\n",
              "    }\n",
              "\n",
              "    .dataframe thead th {\n",
              "        text-align: right;\n",
              "    }\n",
              "</style>\n",
              "<table border=\"1\" class=\"dataframe\">\n",
              "  <thead>\n",
              "    <tr style=\"text-align: right;\">\n",
              "      <th></th>\n",
              "      <th>phase</th>\n",
              "      <th>question</th>\n",
              "      <th>sql</th>\n",
              "      <th>table_id</th>\n",
              "    </tr>\n",
              "  </thead>\n",
              "  <tbody>\n",
              "    <tr>\n",
              "      <th>0</th>\n",
              "      <td>1</td>\n",
              "      <td>Tell me what the notes are for South Australia</td>\n",
              "      <td>{'sel': 5, 'conds': [[3, 0, 'SOUTH AUSTRALIA']...</td>\n",
              "      <td>1-1000181-1</td>\n",
              "    </tr>\n",
              "    <tr>\n",
              "      <th>1</th>\n",
              "      <td>1</td>\n",
              "      <td>What is the current series where the new serie...</td>\n",
              "      <td>{'sel': 4, 'conds': [[5, 0, 'New series began ...</td>\n",
              "      <td>1-1000181-1</td>\n",
              "    </tr>\n",
              "    <tr>\n",
              "      <th>2</th>\n",
              "      <td>1</td>\n",
              "      <td>What is the format for South Australia?</td>\n",
              "      <td>{'sel': 2, 'conds': [[0, 0, 'South Australia']...</td>\n",
              "      <td>1-1000181-1</td>\n",
              "    </tr>\n",
              "    <tr>\n",
              "      <th>3</th>\n",
              "      <td>1</td>\n",
              "      <td>Name the background colour for the Australian ...</td>\n",
              "      <td>{'sel': 1, 'conds': [[0, 0, 'Australian Capita...</td>\n",
              "      <td>1-1000181-1</td>\n",
              "    </tr>\n",
              "    <tr>\n",
              "      <th>4</th>\n",
              "      <td>1</td>\n",
              "      <td>how many times is the fuel propulsion is cng?</td>\n",
              "      <td>{'sel': 3, 'conds': [[5, 0, 'CNG']], 'agg': 3}</td>\n",
              "      <td>1-10007452-3</td>\n",
              "    </tr>\n",
              "  </tbody>\n",
              "</table>\n",
              "</div>"
            ],
            "text/plain": [
              "   phase                                           question  \\\n",
              "0      1    Tell me what the notes are for South Australia    \n",
              "1      1  What is the current series where the new serie...   \n",
              "2      1            What is the format for South Australia?   \n",
              "3      1  Name the background colour for the Australian ...   \n",
              "4      1      how many times is the fuel propulsion is cng?   \n",
              "\n",
              "                                                 sql      table_id  \n",
              "0  {'sel': 5, 'conds': [[3, 0, 'SOUTH AUSTRALIA']...   1-1000181-1  \n",
              "1  {'sel': 4, 'conds': [[5, 0, 'New series began ...   1-1000181-1  \n",
              "2  {'sel': 2, 'conds': [[0, 0, 'South Australia']...   1-1000181-1  \n",
              "3  {'sel': 1, 'conds': [[0, 0, 'Australian Capita...   1-1000181-1  \n",
              "4     {'sel': 3, 'conds': [[5, 0, 'CNG']], 'agg': 3}  1-10007452-3  "
            ]
          },
          "metadata": {
            "tags": []
          },
          "execution_count": 15
        }
      ]
    },
    {
      "metadata": {
        "id": "crqroaKol76F",
        "colab_type": "code",
        "colab": {
          "base_uri": "https://localhost:8080/",
          "height": 34
        },
        "outputId": "ab8d8c74-460f-4f73-c733-3f79ad4f4970"
      },
      "cell_type": "code",
      "source": [
        "df['question'][0]"
      ],
      "execution_count": 21,
      "outputs": [
        {
          "output_type": "execute_result",
          "data": {
            "text/plain": [
              "'Tell me what the notes are for South Australia '"
            ]
          },
          "metadata": {
            "tags": []
          },
          "execution_count": 21
        }
      ]
    },
    {
      "metadata": {
        "id": "lGGXHV1XmEHl",
        "colab_type": "code",
        "colab": {
          "base_uri": "https://localhost:8080/",
          "height": 34
        },
        "outputId": "bfc1ffb1-4e49-4fa1-f1e0-3e2ecfd558e2"
      },
      "cell_type": "code",
      "source": [
        "df['sql'][0]"
      ],
      "execution_count": 22,
      "outputs": [
        {
          "output_type": "execute_result",
          "data": {
            "text/plain": [
              "{'agg': 0, 'conds': [[3, 0, 'SOUTH AUSTRALIA']], 'sel': 5}"
            ]
          },
          "metadata": {
            "tags": []
          },
          "execution_count": 22
        }
      ]
    },
    {
      "metadata": {
        "id": "WA0nQeSumkEM",
        "colab_type": "code",
        "colab": {}
      },
      "cell_type": "code",
      "source": [
        ""
      ],
      "execution_count": 0,
      "outputs": []
    }
  ]
}