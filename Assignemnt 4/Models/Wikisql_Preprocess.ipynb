{
  "nbformat": 4,
  "nbformat_minor": 0,
  "metadata": {
    "colab": {
      "name": "Wikisql_Preprocess.ipynb",
      "version": "0.3.2",
      "provenance": [],
      "collapsed_sections": []
    },
    "kernelspec": {
      "name": "python3",
      "display_name": "Python 3"
    },
    "accelerator": "GPU"
  },
  "cells": [
    {
      "metadata": {
        "id": "Wjak9mEfYg_K",
        "colab_type": "code",
        "outputId": "1231edb3-f086-4dc3-96e5-b9ca2a97ece1",
        "colab": {
          "base_uri": "https://localhost:8080/",
          "height": 34
        }
      },
      "cell_type": "code",
      "source": [
        "!git clone https://github.com/salesforce/WikiSQL.git"
      ],
      "execution_count": 2,
      "outputs": [
        {
          "output_type": "stream",
          "text": [
            "fatal: destination path 'WikiSQL' already exists and is not an empty directory.\n"
          ],
          "name": "stdout"
        }
      ]
    },
    {
      "metadata": {
        "id": "679mTs7-YlDM",
        "colab_type": "code",
        "outputId": "be4962fa-defc-4741-a15b-ff37697f625a",
        "colab": {
          "base_uri": "https://localhost:8080/",
          "height": 34
        }
      },
      "cell_type": "code",
      "source": [
        "cd WikiSQL"
      ],
      "execution_count": 3,
      "outputs": [
        {
          "output_type": "stream",
          "text": [
            "/content/WikiSQL\n"
          ],
          "name": "stdout"
        }
      ]
    },
    {
      "metadata": {
        "id": "azTXyMdJYpHy",
        "colab_type": "code",
        "outputId": "9495c15c-ca43-40bd-9f17-399d888d7e27",
        "colab": {
          "base_uri": "https://localhost:8080/",
          "height": 661
        }
      },
      "cell_type": "code",
      "source": [
        "pip install -r requirements.txt"
      ],
      "execution_count": 4,
      "outputs": [
        {
          "output_type": "stream",
          "text": [
            "Requirement already satisfied: tqdm in /usr/local/lib/python3.6/dist-packages (from -r requirements.txt (line 1)) (4.28.1)\n",
            "Collecting records (from -r requirements.txt (line 2))\n",
            "  Downloading https://files.pythonhosted.org/packages/ef/93/2467c761ea3729713ab97842a46cc125ad09d14a0a174cb637bee4983911/records-0.5.3-py2.py3-none-any.whl\n",
            "Requirement already satisfied: babel in /usr/local/lib/python3.6/dist-packages (from -r requirements.txt (line 3)) (2.6.0)\n",
            "Requirement already satisfied: tabulate in /usr/local/lib/python3.6/dist-packages (from -r requirements.txt (line 4)) (0.8.3)\n",
            "Collecting openpyxl<2.5.0 (from records->-r requirements.txt (line 2))\n",
            "\u001b[?25l  Downloading https://files.pythonhosted.org/packages/77/26/0bd1a39776f53b4f28e5bb1d26b3fcd99068584a7e1ddca4e09c0d5fd592/openpyxl-2.4.11.tar.gz (158kB)\n",
            "\u001b[K    100% |████████████████████████████████| 163kB 7.8MB/s \n",
            "\u001b[?25hRequirement already satisfied: SQLAlchemy; python_version >= \"3.0\" in /usr/local/lib/python3.6/dist-packages (from records->-r requirements.txt (line 2)) (1.3.2)\n",
            "Collecting tablib>=0.11.4 (from records->-r requirements.txt (line 2))\n",
            "\u001b[?25l  Downloading https://files.pythonhosted.org/packages/7b/c7/cb74031b330cd94f3580926dc707d148b4ba9138449fc9f433cb79e640d8/tablib-0.13.0-py3-none-any.whl (75kB)\n",
            "\u001b[K    100% |████████████████████████████████| 81kB 27.0MB/s \n",
            "\u001b[?25hRequirement already satisfied: docopt in /usr/local/lib/python3.6/dist-packages (from records->-r requirements.txt (line 2)) (0.6.2)\n",
            "Requirement already satisfied: pytz>=0a in /usr/local/lib/python3.6/dist-packages (from babel->-r requirements.txt (line 3)) (2018.9)\n",
            "Requirement already satisfied: jdcal in /usr/local/lib/python3.6/dist-packages (from openpyxl<2.5.0->records->-r requirements.txt (line 2)) (1.4)\n",
            "Requirement already satisfied: et_xmlfile in /usr/local/lib/python3.6/dist-packages (from openpyxl<2.5.0->records->-r requirements.txt (line 2)) (1.0.1)\n",
            "Requirement already satisfied: pyyaml in /usr/local/lib/python3.6/dist-packages (from tablib>=0.11.4->records->-r requirements.txt (line 2)) (3.13)\n",
            "Collecting odfpy (from tablib>=0.11.4->records->-r requirements.txt (line 2))\n",
            "\u001b[?25l  Downloading https://files.pythonhosted.org/packages/85/7d/8f6d1f2a4683be362b101c00232b4c3839e4e4a90e0945d8d43ec6aa671d/odfpy-1.4.0.tar.gz (715kB)\n",
            "\u001b[K    100% |████████████████████████████████| 716kB 22.4MB/s \n",
            "\u001b[?25hRequirement already satisfied: xlrd in /usr/local/lib/python3.6/dist-packages (from tablib>=0.11.4->records->-r requirements.txt (line 2)) (1.1.0)\n",
            "Requirement already satisfied: xlwt in /usr/local/lib/python3.6/dist-packages (from tablib>=0.11.4->records->-r requirements.txt (line 2)) (1.3.0)\n",
            "Collecting backports.csv (from tablib>=0.11.4->records->-r requirements.txt (line 2))\n",
            "  Downloading https://files.pythonhosted.org/packages/8e/26/a6bd68f13e0f38fbb643d6e497fc3462be83a0b6c4d43425c78bb51a7291/backports.csv-1.0.7-py2.py3-none-any.whl\n",
            "Requirement already satisfied: defusedxml in /usr/local/lib/python3.6/dist-packages (from odfpy->tablib>=0.11.4->records->-r requirements.txt (line 2)) (0.5.0)\n",
            "Building wheels for collected packages: openpyxl, odfpy\n",
            "  Building wheel for openpyxl (setup.py) ... \u001b[?25ldone\n",
            "\u001b[?25h  Stored in directory: /root/.cache/pip/wheels/59/44/27/63b211425501ad51d197ff8ed00e9e469e38b9e516cb69b1c2\n",
            "  Building wheel for odfpy (setup.py) ... \u001b[?25ldone\n",
            "\u001b[?25h  Stored in directory: /root/.cache/pip/wheels/06/2d/19/f5a4eed468fecff295ff8ac49e5dd5fb22d7ffc7ff072deabf\n",
            "Successfully built openpyxl odfpy\n",
            "Installing collected packages: openpyxl, odfpy, backports.csv, tablib, records\n",
            "  Found existing installation: openpyxl 2.5.9\n",
            "    Uninstalling openpyxl-2.5.9:\n",
            "      Successfully uninstalled openpyxl-2.5.9\n",
            "Successfully installed backports.csv-1.0.7 odfpy-1.4.0 openpyxl-2.4.11 records-0.5.3 tablib-0.13.0\n"
          ],
          "name": "stdout"
        }
      ]
    },
    {
      "metadata": {
        "id": "RDEksBOjYrhC",
        "colab_type": "code",
        "outputId": "ad9c87a4-391c-4856-8b5a-d35a5af7936b",
        "colab": {
          "base_uri": "https://localhost:8080/",
          "height": 190
        }
      },
      "cell_type": "code",
      "source": [
        "!tar xvjf data.tar.bz2"
      ],
      "execution_count": 5,
      "outputs": [
        {
          "output_type": "stream",
          "text": [
            "data/\n",
            "data/train.jsonl\n",
            "data/test.tables.jsonl\n",
            "data/test.db\n",
            "data/dev.tables.jsonl\n",
            "data/dev.db\n",
            "data/test.jsonl\n",
            "data/train.tables.jsonl\n",
            "data/train.db\n",
            "data/dev.jsonl\n"
          ],
          "name": "stdout"
        }
      ]
    },
    {
      "metadata": {
        "id": "l7-aSn-gY1bS",
        "colab_type": "code",
        "colab": {}
      },
      "cell_type": "code",
      "source": [
        "import pandas as pd\n",
        "import json"
      ],
      "execution_count": 0,
      "outputs": []
    },
    {
      "metadata": {
        "id": "b_kwxlF7lO0_",
        "colab_type": "code",
        "outputId": "8b84c80c-9c12-40f1-b26a-210ca3c0e614",
        "colab": {
          "base_uri": "https://localhost:8080/",
          "height": 571
        }
      },
      "cell_type": "code",
      "source": [
        "!apt-get install jq"
      ],
      "execution_count": 7,
      "outputs": [
        {
          "output_type": "stream",
          "text": [
            "Reading package lists... Done\n",
            "Building dependency tree       \n",
            "Reading state information... Done\n",
            "The following package was automatically installed and is no longer required:\n",
            "  libnvidia-common-410\n",
            "Use 'apt autoremove' to remove it.\n",
            "The following additional packages will be installed:\n",
            "  libjq1 libonig4\n",
            "The following NEW packages will be installed:\n",
            "  jq libjq1 libonig4\n",
            "0 upgraded, 3 newly installed, 0 to remove and 6 not upgraded.\n",
            "Need to get 276 kB of archives.\n",
            "After this operation, 930 kB of additional disk space will be used.\n",
            "Get:1 http://archive.ubuntu.com/ubuntu bionic/universe amd64 libonig4 amd64 6.7.0-1 [119 kB]\n",
            "Get:2 http://archive.ubuntu.com/ubuntu bionic/universe amd64 libjq1 amd64 1.5+dfsg-2 [111 kB]\n",
            "Get:3 http://archive.ubuntu.com/ubuntu bionic/universe amd64 jq amd64 1.5+dfsg-2 [45.6 kB]\n",
            "Fetched 276 kB in 1s (329 kB/s)\n",
            "Selecting previously unselected package libonig4:amd64.\n",
            "(Reading database ... 131294 files and directories currently installed.)\n",
            "Preparing to unpack .../libonig4_6.7.0-1_amd64.deb ...\n",
            "Unpacking libonig4:amd64 (6.7.0-1) ...\n",
            "Selecting previously unselected package libjq1:amd64.\n",
            "Preparing to unpack .../libjq1_1.5+dfsg-2_amd64.deb ...\n",
            "Unpacking libjq1:amd64 (1.5+dfsg-2) ...\n",
            "Selecting previously unselected package jq.\n",
            "Preparing to unpack .../jq_1.5+dfsg-2_amd64.deb ...\n",
            "Unpacking jq (1.5+dfsg-2) ...\n",
            "Setting up libonig4:amd64 (6.7.0-1) ...\n",
            "Setting up libjq1:amd64 (1.5+dfsg-2) ...\n",
            "Processing triggers for libc-bin (2.27-3ubuntu1) ...\n",
            "Processing triggers for man-db (2.8.3-2ubuntu0.1) ...\n",
            "Setting up jq (1.5+dfsg-2) ...\n"
          ],
          "name": "stdout"
        }
      ]
    },
    {
      "metadata": {
        "id": "m_HIOwEvk7ew",
        "colab_type": "code",
        "colab": {}
      },
      "cell_type": "code",
      "source": [
        "!jq -s '.' \"./data/train.jsonl\" > \"./train.json\""
      ],
      "execution_count": 0,
      "outputs": []
    },
    {
      "metadata": {
        "id": "zIK2s0-olWn2",
        "colab_type": "code",
        "outputId": "07b942d6-99ad-4619-cfb6-2246eba4b5c4",
        "colab": {
          "base_uri": "https://localhost:8080/",
          "height": 69
        }
      },
      "cell_type": "code",
      "source": [
        "ls"
      ],
      "execution_count": 9,
      "outputs": [
        {
          "output_type": "stream",
          "text": [
            "\u001b[0m\u001b[01;32mannotate.py\u001b[0m*  data.tar.bz2  LICENSE           \u001b[01;34mtest\u001b[0m/\n",
            "\u001b[01;34mcollection\u001b[0m/   \u001b[01;32mevaluate.py\u001b[0m*  \u001b[01;32mREADME.md\u001b[0m*        train.json\n",
            "\u001b[01;34mdata\u001b[0m/         \u001b[01;34mlib\u001b[0m/          requirements.txt  version.txt\n"
          ],
          "name": "stdout"
        }
      ]
    },
    {
      "metadata": {
        "id": "JFyEzd-0ZUao",
        "colab_type": "code",
        "colab": {}
      },
      "cell_type": "code",
      "source": [
        "with open('./train.json') as f:\n",
        "  df = pd.DataFrame(json.load(f))"
      ],
      "execution_count": 0,
      "outputs": []
    },
    {
      "metadata": {
        "id": "gUByWZBYZZaQ",
        "colab_type": "code",
        "outputId": "cb7447ed-35c9-44be-e668-57e4e87b192d",
        "colab": {
          "base_uri": "https://localhost:8080/",
          "height": 206
        }
      },
      "cell_type": "code",
      "source": [
        "df.head()"
      ],
      "execution_count": 11,
      "outputs": [
        {
          "output_type": "execute_result",
          "data": {
            "text/html": [
              "<div>\n",
              "<style scoped>\n",
              "    .dataframe tbody tr th:only-of-type {\n",
              "        vertical-align: middle;\n",
              "    }\n",
              "\n",
              "    .dataframe tbody tr th {\n",
              "        vertical-align: top;\n",
              "    }\n",
              "\n",
              "    .dataframe thead th {\n",
              "        text-align: right;\n",
              "    }\n",
              "</style>\n",
              "<table border=\"1\" class=\"dataframe\">\n",
              "  <thead>\n",
              "    <tr style=\"text-align: right;\">\n",
              "      <th></th>\n",
              "      <th>phase</th>\n",
              "      <th>question</th>\n",
              "      <th>sql</th>\n",
              "      <th>table_id</th>\n",
              "    </tr>\n",
              "  </thead>\n",
              "  <tbody>\n",
              "    <tr>\n",
              "      <th>0</th>\n",
              "      <td>1</td>\n",
              "      <td>Tell me what the notes are for South Australia</td>\n",
              "      <td>{'sel': 5, 'conds': [[3, 0, 'SOUTH AUSTRALIA']...</td>\n",
              "      <td>1-1000181-1</td>\n",
              "    </tr>\n",
              "    <tr>\n",
              "      <th>1</th>\n",
              "      <td>1</td>\n",
              "      <td>What is the current series where the new serie...</td>\n",
              "      <td>{'sel': 4, 'conds': [[5, 0, 'New series began ...</td>\n",
              "      <td>1-1000181-1</td>\n",
              "    </tr>\n",
              "    <tr>\n",
              "      <th>2</th>\n",
              "      <td>1</td>\n",
              "      <td>What is the format for South Australia?</td>\n",
              "      <td>{'sel': 2, 'conds': [[0, 0, 'South Australia']...</td>\n",
              "      <td>1-1000181-1</td>\n",
              "    </tr>\n",
              "    <tr>\n",
              "      <th>3</th>\n",
              "      <td>1</td>\n",
              "      <td>Name the background colour for the Australian ...</td>\n",
              "      <td>{'sel': 1, 'conds': [[0, 0, 'Australian Capita...</td>\n",
              "      <td>1-1000181-1</td>\n",
              "    </tr>\n",
              "    <tr>\n",
              "      <th>4</th>\n",
              "      <td>1</td>\n",
              "      <td>how many times is the fuel propulsion is cng?</td>\n",
              "      <td>{'sel': 3, 'conds': [[5, 0, 'CNG']], 'agg': 3}</td>\n",
              "      <td>1-10007452-3</td>\n",
              "    </tr>\n",
              "  </tbody>\n",
              "</table>\n",
              "</div>"
            ],
            "text/plain": [
              "   phase                                           question  \\\n",
              "0      1    Tell me what the notes are for South Australia    \n",
              "1      1  What is the current series where the new serie...   \n",
              "2      1            What is the format for South Australia?   \n",
              "3      1  Name the background colour for the Australian ...   \n",
              "4      1      how many times is the fuel propulsion is cng?   \n",
              "\n",
              "                                                 sql      table_id  \n",
              "0  {'sel': 5, 'conds': [[3, 0, 'SOUTH AUSTRALIA']...   1-1000181-1  \n",
              "1  {'sel': 4, 'conds': [[5, 0, 'New series began ...   1-1000181-1  \n",
              "2  {'sel': 2, 'conds': [[0, 0, 'South Australia']...   1-1000181-1  \n",
              "3  {'sel': 1, 'conds': [[0, 0, 'Australian Capita...   1-1000181-1  \n",
              "4     {'sel': 3, 'conds': [[5, 0, 'CNG']], 'agg': 3}  1-10007452-3  "
            ]
          },
          "metadata": {
            "tags": []
          },
          "execution_count": 11
        }
      ]
    },
    {
      "metadata": {
        "id": "crqroaKol76F",
        "colab_type": "code",
        "outputId": "a03a8f16-9598-433d-b604-c7204ce1c4f9",
        "colab": {
          "base_uri": "https://localhost:8080/",
          "height": 34
        }
      },
      "cell_type": "code",
      "source": [
        "df['question'][0]"
      ],
      "execution_count": 12,
      "outputs": [
        {
          "output_type": "execute_result",
          "data": {
            "text/plain": [
              "'Tell me what the notes are for South Australia '"
            ]
          },
          "metadata": {
            "tags": []
          },
          "execution_count": 12
        }
      ]
    },
    {
      "metadata": {
        "id": "lGGXHV1XmEHl",
        "colab_type": "code",
        "outputId": "2573b007-8fd0-4d51-d1b6-405e1fab6db6",
        "colab": {
          "base_uri": "https://localhost:8080/",
          "height": 34
        }
      },
      "cell_type": "code",
      "source": [
        "df['sql'][0]"
      ],
      "execution_count": 13,
      "outputs": [
        {
          "output_type": "execute_result",
          "data": {
            "text/plain": [
              "{'agg': 0, 'conds': [[3, 0, 'SOUTH AUSTRALIA']], 'sel': 5}"
            ]
          },
          "metadata": {
            "tags": []
          },
          "execution_count": 13
        }
      ]
    },
    {
      "metadata": {
        "id": "WA0nQeSumkEM",
        "colab_type": "code",
        "colab": {
          "base_uri": "https://localhost:8080/",
          "height": 1990
        },
        "outputId": "bfd35d69-7e16-4a83-a1a1-52fa3fc0be47"
      },
      "cell_type": "code",
      "source": [
        "df['question'] = df['question'].apply(lambda x : x.lower())\n",
        "df"
      ],
      "execution_count": 15,
      "outputs": [
        {
          "output_type": "execute_result",
          "data": {
            "text/html": [
              "<div>\n",
              "<style scoped>\n",
              "    .dataframe tbody tr th:only-of-type {\n",
              "        vertical-align: middle;\n",
              "    }\n",
              "\n",
              "    .dataframe tbody tr th {\n",
              "        vertical-align: top;\n",
              "    }\n",
              "\n",
              "    .dataframe thead th {\n",
              "        text-align: right;\n",
              "    }\n",
              "</style>\n",
              "<table border=\"1\" class=\"dataframe\">\n",
              "  <thead>\n",
              "    <tr style=\"text-align: right;\">\n",
              "      <th></th>\n",
              "      <th>phase</th>\n",
              "      <th>question</th>\n",
              "      <th>sql</th>\n",
              "      <th>table_id</th>\n",
              "    </tr>\n",
              "  </thead>\n",
              "  <tbody>\n",
              "    <tr>\n",
              "      <th>0</th>\n",
              "      <td>1</td>\n",
              "      <td>tell me what the notes are for south australia</td>\n",
              "      <td>{'sel': 5, 'conds': [[3, 0, 'SOUTH AUSTRALIA']...</td>\n",
              "      <td>1-1000181-1</td>\n",
              "    </tr>\n",
              "    <tr>\n",
              "      <th>1</th>\n",
              "      <td>1</td>\n",
              "      <td>what is the current series where the new serie...</td>\n",
              "      <td>{'sel': 4, 'conds': [[5, 0, 'New series began ...</td>\n",
              "      <td>1-1000181-1</td>\n",
              "    </tr>\n",
              "    <tr>\n",
              "      <th>2</th>\n",
              "      <td>1</td>\n",
              "      <td>what is the format for south australia?</td>\n",
              "      <td>{'sel': 2, 'conds': [[0, 0, 'South Australia']...</td>\n",
              "      <td>1-1000181-1</td>\n",
              "    </tr>\n",
              "    <tr>\n",
              "      <th>3</th>\n",
              "      <td>1</td>\n",
              "      <td>name the background colour for the australian ...</td>\n",
              "      <td>{'sel': 1, 'conds': [[0, 0, 'Australian Capita...</td>\n",
              "      <td>1-1000181-1</td>\n",
              "    </tr>\n",
              "    <tr>\n",
              "      <th>4</th>\n",
              "      <td>1</td>\n",
              "      <td>how many times is the fuel propulsion is cng?</td>\n",
              "      <td>{'sel': 3, 'conds': [[5, 0, 'CNG']], 'agg': 3}</td>\n",
              "      <td>1-10007452-3</td>\n",
              "    </tr>\n",
              "    <tr>\n",
              "      <th>5</th>\n",
              "      <td>1</td>\n",
              "      <td>what is the fuel propulsion where the fleet se...</td>\n",
              "      <td>{'sel': 5, 'conds': [[3, 0, '310-329 (20)']], ...</td>\n",
              "      <td>1-10007452-3</td>\n",
              "    </tr>\n",
              "    <tr>\n",
              "      <th>6</th>\n",
              "      <td>1</td>\n",
              "      <td>who is the manufacturer for the order year 1998?</td>\n",
              "      <td>{'sel': 1, 'conds': [[0, 0, '1998']], 'agg': 0}</td>\n",
              "      <td>1-10007452-3</td>\n",
              "    </tr>\n",
              "    <tr>\n",
              "      <th>7</th>\n",
              "      <td>1</td>\n",
              "      <td>how many times is the model ge40lfr?</td>\n",
              "      <td>{'sel': 1, 'conds': [[2, 0, 'GE40LFR']], 'agg'...</td>\n",
              "      <td>1-10007452-3</td>\n",
              "    </tr>\n",
              "    <tr>\n",
              "      <th>8</th>\n",
              "      <td>1</td>\n",
              "      <td>how many times is the fleet series (quantity) ...</td>\n",
              "      <td>{'sel': 0, 'conds': [[3, 0, '468-473 (6)']], '...</td>\n",
              "      <td>1-10007452-3</td>\n",
              "    </tr>\n",
              "    <tr>\n",
              "      <th>9</th>\n",
              "      <td>1</td>\n",
              "      <td>what is the powertrain (engine/transmission) w...</td>\n",
              "      <td>{'sel': 4, 'conds': [[0, 0, '2000']], 'agg': 0}</td>\n",
              "      <td>1-10007452-3</td>\n",
              "    </tr>\n",
              "    <tr>\n",
              "      <th>10</th>\n",
              "      <td>1</td>\n",
              "      <td>what if the description of a ch-47d chinook?</td>\n",
              "      <td>{'sel': 1, 'conds': [[0, 0, 'CH-47D Chinook']]...</td>\n",
              "      <td>1-10006830-1</td>\n",
              "    </tr>\n",
              "    <tr>\n",
              "      <th>11</th>\n",
              "      <td>1</td>\n",
              "      <td>what is the max gross weight of the robinson r...</td>\n",
              "      <td>{'sel': 2, 'conds': [[0, 0, 'Robinson R-22']],...</td>\n",
              "      <td>1-10006830-1</td>\n",
              "    </tr>\n",
              "    <tr>\n",
              "      <th>12</th>\n",
              "      <td>1</td>\n",
              "      <td>what school did player number 6 come from?</td>\n",
              "      <td>{'sel': 5, 'conds': [[1, 0, '6']], 'agg': 0}</td>\n",
              "      <td>1-10015132-1</td>\n",
              "    </tr>\n",
              "    <tr>\n",
              "      <th>13</th>\n",
              "      <td>1</td>\n",
              "      <td>what school did the player that has been in to...</td>\n",
              "      <td>{'sel': 5, 'conds': [[4, 0, '2012-present']], ...</td>\n",
              "      <td>1-10015132-1</td>\n",
              "    </tr>\n",
              "    <tr>\n",
              "      <th>14</th>\n",
              "      <td>1</td>\n",
              "      <td>what school did the player that has been in to...</td>\n",
              "      <td>{'sel': 5, 'conds': [[4, 0, '2010-2012']], 'ag...</td>\n",
              "      <td>1-10015132-1</td>\n",
              "    </tr>\n",
              "    <tr>\n",
              "      <th>15</th>\n",
              "      <td>1</td>\n",
              "      <td>what position did the player from baylor play?</td>\n",
              "      <td>{'sel': 3, 'conds': [[5, 0, 'Baylor']], 'agg': 0}</td>\n",
              "      <td>1-10015132-1</td>\n",
              "    </tr>\n",
              "    <tr>\n",
              "      <th>16</th>\n",
              "      <td>1</td>\n",
              "      <td>who played in the toronto raptors from 1995-96?</td>\n",
              "      <td>{'sel': 0, 'conds': [[4, 0, '1995-96']], 'agg'...</td>\n",
              "      <td>1-10015132-14</td>\n",
              "    </tr>\n",
              "    <tr>\n",
              "      <th>17</th>\n",
              "      <td>1</td>\n",
              "      <td>which number was patrick o'bryant?</td>\n",
              "      <td>{'sel': 1, 'conds': [[0, 0, 'Patrick O'Bryant'...</td>\n",
              "      <td>1-10015132-14</td>\n",
              "    </tr>\n",
              "    <tr>\n",
              "      <th>18</th>\n",
              "      <td>1</td>\n",
              "      <td>what school did patrick o'bryant play for?</td>\n",
              "      <td>{'sel': 5, 'conds': [[0, 0, 'Patrick O'Bryant'...</td>\n",
              "      <td>1-10015132-14</td>\n",
              "    </tr>\n",
              "    <tr>\n",
              "      <th>19</th>\n",
              "      <td>1</td>\n",
              "      <td>how many number does fordham school have?</td>\n",
              "      <td>{'sel': 1, 'conds': [[5, 0, 'Fordham']], 'agg'...</td>\n",
              "      <td>1-10015132-14</td>\n",
              "    </tr>\n",
              "    <tr>\n",
              "      <th>20</th>\n",
              "      <td>1</td>\n",
              "      <td>which school was in toronto in 2001-02?</td>\n",
              "      <td>{'sel': 5, 'conds': [[4, 0, '2001-02']], 'agg'...</td>\n",
              "      <td>1-10015132-14</td>\n",
              "    </tr>\n",
              "    <tr>\n",
              "      <th>21</th>\n",
              "      <td>1</td>\n",
              "      <td>which school did the player that played 2004-0...</td>\n",
              "      <td>{'sel': 5, 'conds': [[4, 0, '2004-05']], 'agg'...</td>\n",
              "      <td>1-10015132-21</td>\n",
              "    </tr>\n",
              "    <tr>\n",
              "      <th>22</th>\n",
              "      <td>1</td>\n",
              "      <td>which position does loren woods play?</td>\n",
              "      <td>{'sel': 3, 'conds': [[0, 0, 'Loren Woods']], '...</td>\n",
              "      <td>1-10015132-21</td>\n",
              "    </tr>\n",
              "    <tr>\n",
              "      <th>23</th>\n",
              "      <td>1</td>\n",
              "      <td>what number is the player that played 1998-2001</td>\n",
              "      <td>{'sel': 1, 'conds': [[4, 0, '1998-2001']], 'ag...</td>\n",
              "      <td>1-10015132-21</td>\n",
              "    </tr>\n",
              "    <tr>\n",
              "      <th>24</th>\n",
              "      <td>1</td>\n",
              "      <td>which country is the player that went to georg...</td>\n",
              "      <td>{'sel': 2, 'conds': [[5, 0, 'Georgetown']], 'a...</td>\n",
              "      <td>1-10015132-21</td>\n",
              "    </tr>\n",
              "    <tr>\n",
              "      <th>25</th>\n",
              "      <td>1</td>\n",
              "      <td>which school did herb williams go to?</td>\n",
              "      <td>{'sel': 5, 'conds': [[0, 0, 'Herb Williams']],...</td>\n",
              "      <td>1-10015132-21</td>\n",
              "    </tr>\n",
              "    <tr>\n",
              "      <th>26</th>\n",
              "      <td>1</td>\n",
              "      <td>when did the player from hawaii play for toronto?</td>\n",
              "      <td>{'sel': 4, 'conds': [[5, 0, 'Hawaii']], 'agg': 0}</td>\n",
              "      <td>1-10015132-3</td>\n",
              "    </tr>\n",
              "    <tr>\n",
              "      <th>27</th>\n",
              "      <td>1</td>\n",
              "      <td>during what period did dell curry play for tor...</td>\n",
              "      <td>{'sel': 4, 'conds': [[0, 0, 'Dell Curry']], 'a...</td>\n",
              "      <td>1-10015132-3</td>\n",
              "    </tr>\n",
              "    <tr>\n",
              "      <th>28</th>\n",
              "      <td>1</td>\n",
              "      <td>what's the number of the player from boise state?</td>\n",
              "      <td>{'sel': 1, 'conds': [[5, 0, 'Boise State']], '...</td>\n",
              "      <td>1-10015132-3</td>\n",
              "    </tr>\n",
              "    <tr>\n",
              "      <th>29</th>\n",
              "      <td>1</td>\n",
              "      <td>what's dell curry nationality?</td>\n",
              "      <td>{'sel': 2, 'conds': [[0, 0, 'Dell Curry']], 'a...</td>\n",
              "      <td>1-10015132-3</td>\n",
              "    </tr>\n",
              "    <tr>\n",
              "      <th>...</th>\n",
              "      <td>...</td>\n",
              "      <td>...</td>\n",
              "      <td>...</td>\n",
              "      <td>...</td>\n",
              "    </tr>\n",
              "    <tr>\n",
              "      <th>56325</th>\n",
              "      <td>2</td>\n",
              "      <td>what is the birthplace of pete sanderson?</td>\n",
              "      <td>{'sel': 3, 'conds': [[2, 0, 'pete sanderson']]...</td>\n",
              "      <td>2-12881774-1</td>\n",
              "    </tr>\n",
              "    <tr>\n",
              "      <th>56326</th>\n",
              "      <td>2</td>\n",
              "      <td>what role did jean-luc bouvier serve?</td>\n",
              "      <td>{'sel': 1, 'conds': [[2, 0, 'jean-luc bouvier'...</td>\n",
              "      <td>2-12881774-1</td>\n",
              "    </tr>\n",
              "    <tr>\n",
              "      <th>56327</th>\n",
              "      <td>2</td>\n",
              "      <td>what is the real name of the person who is a p...</td>\n",
              "      <td>{'sel': 2, 'conds': [[1, 0, 'pilot of the sile...</td>\n",
              "      <td>2-12881774-1</td>\n",
              "    </tr>\n",
              "    <tr>\n",
              "      <th>56328</th>\n",
              "      <td>2</td>\n",
              "      <td>what is the code name of the person born in li...</td>\n",
              "      <td>{'sel': 0, 'conds': [[3, 0, 'liverpool']], 'ag...</td>\n",
              "      <td>2-12881774-1</td>\n",
              "    </tr>\n",
              "    <tr>\n",
              "      <th>56329</th>\n",
              "      <td>2</td>\n",
              "      <td>what is the names for the medalist in the spor...</td>\n",
              "      <td>{'sel': 1, 'conds': [[3, 0, 'canoeing']], 'agg...</td>\n",
              "      <td>2-12817264-1</td>\n",
              "    </tr>\n",
              "    <tr>\n",
              "      <th>56330</th>\n",
              "      <td>2</td>\n",
              "      <td>what games had the women's half middleweight e...</td>\n",
              "      <td>{'sel': 2, 'conds': [[4, 0, 'women's half midd...</td>\n",
              "      <td>2-12817264-1</td>\n",
              "    </tr>\n",
              "    <tr>\n",
              "      <th>56331</th>\n",
              "      <td>2</td>\n",
              "      <td>who received the bronze medal in the 2000 sydn...</td>\n",
              "      <td>{'sel': 1, 'conds': [[0, 0, 'bronze'], [2, 0, ...</td>\n",
              "      <td>2-12817264-1</td>\n",
              "    </tr>\n",
              "    <tr>\n",
              "      <th>56332</th>\n",
              "      <td>2</td>\n",
              "      <td>how many people attended when opponent was twins?</td>\n",
              "      <td>{'sel': 4, 'conds': [[1, 0, 'twins']], 'agg': 3}</td>\n",
              "      <td>2-12206127-5</td>\n",
              "    </tr>\n",
              "    <tr>\n",
              "      <th>56333</th>\n",
              "      <td>2</td>\n",
              "      <td>which date has a record of 41-46?</td>\n",
              "      <td>{'sel': 0, 'conds': [[5, 0, '41-46']], 'agg': 0}</td>\n",
              "      <td>2-12206127-5</td>\n",
              "    </tr>\n",
              "    <tr>\n",
              "      <th>56334</th>\n",
              "      <td>2</td>\n",
              "      <td>which score has a record of 48-55?</td>\n",
              "      <td>{'sel': 2, 'conds': [[5, 0, '48-55']], 'agg': 0}</td>\n",
              "      <td>2-12206127-5</td>\n",
              "    </tr>\n",
              "    <tr>\n",
              "      <th>56335</th>\n",
              "      <td>2</td>\n",
              "      <td>which score has a record of 44-49?</td>\n",
              "      <td>{'sel': 2, 'conds': [[5, 0, '44-49']], 'agg': 0}</td>\n",
              "      <td>2-12206127-5</td>\n",
              "    </tr>\n",
              "    <tr>\n",
              "      <th>56336</th>\n",
              "      <td>2</td>\n",
              "      <td>which score has an attendance larger than 16,5...</td>\n",
              "      <td>{'sel': 2, 'conds': [[4, 1, '16,571'], [3, 0, ...</td>\n",
              "      <td>2-12206356-1</td>\n",
              "    </tr>\n",
              "    <tr>\n",
              "      <th>56337</th>\n",
              "      <td>2</td>\n",
              "      <td>which score has an opponent of white sox, and ...</td>\n",
              "      <td>{'sel': 2, 'conds': [[1, 0, 'white sox'], [5, ...</td>\n",
              "      <td>2-12206356-1</td>\n",
              "    </tr>\n",
              "    <tr>\n",
              "      <th>56338</th>\n",
              "      <td>2</td>\n",
              "      <td>how many votes did candice sjostrom receive?</td>\n",
              "      <td>{'sel': 3, 'conds': [[2, 0, 'candice sjostrom'...</td>\n",
              "      <td>2-1238577-1</td>\n",
              "    </tr>\n",
              "    <tr>\n",
              "      <th>56339</th>\n",
              "      <td>2</td>\n",
              "      <td>what percentage did chris wright receive?</td>\n",
              "      <td>{'sel': 4, 'conds': [[2, 0, 'chris wright']], ...</td>\n",
              "      <td>2-1238577-1</td>\n",
              "    </tr>\n",
              "    <tr>\n",
              "      <th>56340</th>\n",
              "      <td>2</td>\n",
              "      <td>how many votes for the candidate after 1992, 1...</td>\n",
              "      <td>{'sel': 3, 'conds': [[1, 0, 'us representative...</td>\n",
              "      <td>2-1238577-1</td>\n",
              "    </tr>\n",
              "    <tr>\n",
              "      <th>56341</th>\n",
              "      <td>2</td>\n",
              "      <td>what years did j. smith young serve as a repre...</td>\n",
              "      <td>{'sel': 1, 'conds': [[0, 0, 'j. smith young']]...</td>\n",
              "      <td>2-12601321-1</td>\n",
              "    </tr>\n",
              "    <tr>\n",
              "      <th>56342</th>\n",
              "      <td>2</td>\n",
              "      <td>which party did thomas l. young belong to?</td>\n",
              "      <td>{'sel': 3, 'conds': [[0, 0, 'thomas l. young']...</td>\n",
              "      <td>2-12601321-1</td>\n",
              "    </tr>\n",
              "    <tr>\n",
              "      <th>56343</th>\n",
              "      <td>2</td>\n",
              "      <td>what is the lowest total amount of medals from...</td>\n",
              "      <td>{'sel': 5, 'conds': [[2, 0, 0], [4, 1, 2], [3,...</td>\n",
              "      <td>2-13063126-1</td>\n",
              "    </tr>\n",
              "    <tr>\n",
              "      <th>56344</th>\n",
              "      <td>2</td>\n",
              "      <td>what is the total number of silver medals for ...</td>\n",
              "      <td>{'sel': 3, 'conds': [[0, 0, '14'], [5, 2, 1]],...</td>\n",
              "      <td>2-13063126-1</td>\n",
              "    </tr>\n",
              "    <tr>\n",
              "      <th>56345</th>\n",
              "      <td>2</td>\n",
              "      <td>how many tackles for the player with over 0 fu...</td>\n",
              "      <td>{'sel': 2, 'conds': [[5, 1, 0], [4, 0, 0]], 'a...</td>\n",
              "      <td>2-12865696-19</td>\n",
              "    </tr>\n",
              "    <tr>\n",
              "      <th>56346</th>\n",
              "      <td>2</td>\n",
              "      <td>how many forced fumbles for jim laney with und...</td>\n",
              "      <td>{'sel': 4, 'conds': [[1, 2, 2], [0, 0, 'jim la...</td>\n",
              "      <td>2-12865696-19</td>\n",
              "    </tr>\n",
              "    <tr>\n",
              "      <th>56347</th>\n",
              "      <td>2</td>\n",
              "      <td>what is the high total for players with over 1...</td>\n",
              "      <td>{'sel': 2, 'conds': [[1, 1, 15]], 'agg': 1}</td>\n",
              "      <td>2-12865696-19</td>\n",
              "    </tr>\n",
              "    <tr>\n",
              "      <th>56348</th>\n",
              "      <td>2</td>\n",
              "      <td>how many fumble recoveries for scott gajos wit...</td>\n",
              "      <td>{'sel': 5, 'conds': [[3, 0, '0'], [4, 0, 0], [...</td>\n",
              "      <td>2-12865696-19</td>\n",
              "    </tr>\n",
              "    <tr>\n",
              "      <th>56349</th>\n",
              "      <td>2</td>\n",
              "      <td>who is the opponent playing at 20:00 gmt at ca...</td>\n",
              "      <td>{'sel': 3, 'conds': [[1, 0, '20:00 gmt'], [4, ...</td>\n",
              "      <td>2-12200756-16</td>\n",
              "    </tr>\n",
              "    <tr>\n",
              "      <th>56350</th>\n",
              "      <td>2</td>\n",
              "      <td>what time was the match played with a score of...</td>\n",
              "      <td>{'sel': 1, 'conds': [[5, 0, '3-2']], 'agg': 0}</td>\n",
              "      <td>2-12200756-16</td>\n",
              "    </tr>\n",
              "    <tr>\n",
              "      <th>56351</th>\n",
              "      <td>2</td>\n",
              "      <td>on which ground did the team play aston villa?</td>\n",
              "      <td>{'sel': 4, 'conds': [[3, 0, 'aston villa']], '...</td>\n",
              "      <td>2-12200756-16</td>\n",
              "    </tr>\n",
              "    <tr>\n",
              "      <th>56352</th>\n",
              "      <td>2</td>\n",
              "      <td>what kind of competition was it at san siro at...</td>\n",
              "      <td>{'sel': 2, 'conds': [[4, 0, 'san siro'], [1, 0...</td>\n",
              "      <td>2-12200756-16</td>\n",
              "    </tr>\n",
              "    <tr>\n",
              "      <th>56353</th>\n",
              "      <td>2</td>\n",
              "      <td>what is the total number of decile for the red...</td>\n",
              "      <td>{'sel': 5, 'conds': [[0, 0, 'redwood school']]...</td>\n",
              "      <td>2-12214488-1</td>\n",
              "    </tr>\n",
              "    <tr>\n",
              "      <th>56354</th>\n",
              "      <td>2</td>\n",
              "      <td>which report includes a circuit of tripoli?</td>\n",
              "      <td>{'sel': 5, 'conds': [[1, 0, 'tripoli']], 'agg'...</td>\n",
              "      <td>2-12650456-2</td>\n",
              "    </tr>\n",
              "  </tbody>\n",
              "</table>\n",
              "<p>56355 rows × 4 columns</p>\n",
              "</div>"
            ],
            "text/plain": [
              "       phase                                           question  \\\n",
              "0          1    tell me what the notes are for south australia    \n",
              "1          1  what is the current series where the new serie...   \n",
              "2          1            what is the format for south australia?   \n",
              "3          1  name the background colour for the australian ...   \n",
              "4          1      how many times is the fuel propulsion is cng?   \n",
              "5          1  what is the fuel propulsion where the fleet se...   \n",
              "6          1   who is the manufacturer for the order year 1998?   \n",
              "7          1               how many times is the model ge40lfr?   \n",
              "8          1  how many times is the fleet series (quantity) ...   \n",
              "9          1  what is the powertrain (engine/transmission) w...   \n",
              "10         1       what if the description of a ch-47d chinook?   \n",
              "11         1  what is the max gross weight of the robinson r...   \n",
              "12         1         what school did player number 6 come from?   \n",
              "13         1  what school did the player that has been in to...   \n",
              "14         1  what school did the player that has been in to...   \n",
              "15         1     what position did the player from baylor play?   \n",
              "16         1    who played in the toronto raptors from 1995-96?   \n",
              "17         1                 which number was patrick o'bryant?   \n",
              "18         1         what school did patrick o'bryant play for?   \n",
              "19         1          how many number does fordham school have?   \n",
              "20         1            which school was in toronto in 2001-02?   \n",
              "21         1  which school did the player that played 2004-0...   \n",
              "22         1              which position does loren woods play?   \n",
              "23         1    what number is the player that played 1998-2001   \n",
              "24         1  which country is the player that went to georg...   \n",
              "25         1              which school did herb williams go to?   \n",
              "26         1  when did the player from hawaii play for toronto?   \n",
              "27         1  during what period did dell curry play for tor...   \n",
              "28         1  what's the number of the player from boise state?   \n",
              "29         1                     what's dell curry nationality?   \n",
              "...      ...                                                ...   \n",
              "56325      2          what is the birthplace of pete sanderson?   \n",
              "56326      2              what role did jean-luc bouvier serve?   \n",
              "56327      2  what is the real name of the person who is a p...   \n",
              "56328      2  what is the code name of the person born in li...   \n",
              "56329      2  what is the names for the medalist in the spor...   \n",
              "56330      2  what games had the women's half middleweight e...   \n",
              "56331      2  who received the bronze medal in the 2000 sydn...   \n",
              "56332      2  how many people attended when opponent was twins?   \n",
              "56333      2                  which date has a record of 41-46?   \n",
              "56334      2                 which score has a record of 48-55?   \n",
              "56335      2                 which score has a record of 44-49?   \n",
              "56336      2  which score has an attendance larger than 16,5...   \n",
              "56337      2  which score has an opponent of white sox, and ...   \n",
              "56338      2       how many votes did candice sjostrom receive?   \n",
              "56339      2          what percentage did chris wright receive?   \n",
              "56340      2  how many votes for the candidate after 1992, 1...   \n",
              "56341      2  what years did j. smith young serve as a repre...   \n",
              "56342      2         which party did thomas l. young belong to?   \n",
              "56343      2  what is the lowest total amount of medals from...   \n",
              "56344      2  what is the total number of silver medals for ...   \n",
              "56345      2  how many tackles for the player with over 0 fu...   \n",
              "56346      2  how many forced fumbles for jim laney with und...   \n",
              "56347      2  what is the high total for players with over 1...   \n",
              "56348      2  how many fumble recoveries for scott gajos wit...   \n",
              "56349      2  who is the opponent playing at 20:00 gmt at ca...   \n",
              "56350      2  what time was the match played with a score of...   \n",
              "56351      2     on which ground did the team play aston villa?   \n",
              "56352      2  what kind of competition was it at san siro at...   \n",
              "56353      2  what is the total number of decile for the red...   \n",
              "56354      2        which report includes a circuit of tripoli?   \n",
              "\n",
              "                                                     sql       table_id  \n",
              "0      {'sel': 5, 'conds': [[3, 0, 'SOUTH AUSTRALIA']...    1-1000181-1  \n",
              "1      {'sel': 4, 'conds': [[5, 0, 'New series began ...    1-1000181-1  \n",
              "2      {'sel': 2, 'conds': [[0, 0, 'South Australia']...    1-1000181-1  \n",
              "3      {'sel': 1, 'conds': [[0, 0, 'Australian Capita...    1-1000181-1  \n",
              "4         {'sel': 3, 'conds': [[5, 0, 'CNG']], 'agg': 3}   1-10007452-3  \n",
              "5      {'sel': 5, 'conds': [[3, 0, '310-329 (20)']], ...   1-10007452-3  \n",
              "6        {'sel': 1, 'conds': [[0, 0, '1998']], 'agg': 0}   1-10007452-3  \n",
              "7      {'sel': 1, 'conds': [[2, 0, 'GE40LFR']], 'agg'...   1-10007452-3  \n",
              "8      {'sel': 0, 'conds': [[3, 0, '468-473 (6)']], '...   1-10007452-3  \n",
              "9        {'sel': 4, 'conds': [[0, 0, '2000']], 'agg': 0}   1-10007452-3  \n",
              "10     {'sel': 1, 'conds': [[0, 0, 'CH-47D Chinook']]...   1-10006830-1  \n",
              "11     {'sel': 2, 'conds': [[0, 0, 'Robinson R-22']],...   1-10006830-1  \n",
              "12          {'sel': 5, 'conds': [[1, 0, '6']], 'agg': 0}   1-10015132-1  \n",
              "13     {'sel': 5, 'conds': [[4, 0, '2012-present']], ...   1-10015132-1  \n",
              "14     {'sel': 5, 'conds': [[4, 0, '2010-2012']], 'ag...   1-10015132-1  \n",
              "15     {'sel': 3, 'conds': [[5, 0, 'Baylor']], 'agg': 0}   1-10015132-1  \n",
              "16     {'sel': 0, 'conds': [[4, 0, '1995-96']], 'agg'...  1-10015132-14  \n",
              "17     {'sel': 1, 'conds': [[0, 0, 'Patrick O'Bryant'...  1-10015132-14  \n",
              "18     {'sel': 5, 'conds': [[0, 0, 'Patrick O'Bryant'...  1-10015132-14  \n",
              "19     {'sel': 1, 'conds': [[5, 0, 'Fordham']], 'agg'...  1-10015132-14  \n",
              "20     {'sel': 5, 'conds': [[4, 0, '2001-02']], 'agg'...  1-10015132-14  \n",
              "21     {'sel': 5, 'conds': [[4, 0, '2004-05']], 'agg'...  1-10015132-21  \n",
              "22     {'sel': 3, 'conds': [[0, 0, 'Loren Woods']], '...  1-10015132-21  \n",
              "23     {'sel': 1, 'conds': [[4, 0, '1998-2001']], 'ag...  1-10015132-21  \n",
              "24     {'sel': 2, 'conds': [[5, 0, 'Georgetown']], 'a...  1-10015132-21  \n",
              "25     {'sel': 5, 'conds': [[0, 0, 'Herb Williams']],...  1-10015132-21  \n",
              "26     {'sel': 4, 'conds': [[5, 0, 'Hawaii']], 'agg': 0}   1-10015132-3  \n",
              "27     {'sel': 4, 'conds': [[0, 0, 'Dell Curry']], 'a...   1-10015132-3  \n",
              "28     {'sel': 1, 'conds': [[5, 0, 'Boise State']], '...   1-10015132-3  \n",
              "29     {'sel': 2, 'conds': [[0, 0, 'Dell Curry']], 'a...   1-10015132-3  \n",
              "...                                                  ...            ...  \n",
              "56325  {'sel': 3, 'conds': [[2, 0, 'pete sanderson']]...   2-12881774-1  \n",
              "56326  {'sel': 1, 'conds': [[2, 0, 'jean-luc bouvier'...   2-12881774-1  \n",
              "56327  {'sel': 2, 'conds': [[1, 0, 'pilot of the sile...   2-12881774-1  \n",
              "56328  {'sel': 0, 'conds': [[3, 0, 'liverpool']], 'ag...   2-12881774-1  \n",
              "56329  {'sel': 1, 'conds': [[3, 0, 'canoeing']], 'agg...   2-12817264-1  \n",
              "56330  {'sel': 2, 'conds': [[4, 0, 'women's half midd...   2-12817264-1  \n",
              "56331  {'sel': 1, 'conds': [[0, 0, 'bronze'], [2, 0, ...   2-12817264-1  \n",
              "56332   {'sel': 4, 'conds': [[1, 0, 'twins']], 'agg': 3}   2-12206127-5  \n",
              "56333   {'sel': 0, 'conds': [[5, 0, '41-46']], 'agg': 0}   2-12206127-5  \n",
              "56334   {'sel': 2, 'conds': [[5, 0, '48-55']], 'agg': 0}   2-12206127-5  \n",
              "56335   {'sel': 2, 'conds': [[5, 0, '44-49']], 'agg': 0}   2-12206127-5  \n",
              "56336  {'sel': 2, 'conds': [[4, 1, '16,571'], [3, 0, ...   2-12206356-1  \n",
              "56337  {'sel': 2, 'conds': [[1, 0, 'white sox'], [5, ...   2-12206356-1  \n",
              "56338  {'sel': 3, 'conds': [[2, 0, 'candice sjostrom'...    2-1238577-1  \n",
              "56339  {'sel': 4, 'conds': [[2, 0, 'chris wright']], ...    2-1238577-1  \n",
              "56340  {'sel': 3, 'conds': [[1, 0, 'us representative...    2-1238577-1  \n",
              "56341  {'sel': 1, 'conds': [[0, 0, 'j. smith young']]...   2-12601321-1  \n",
              "56342  {'sel': 3, 'conds': [[0, 0, 'thomas l. young']...   2-12601321-1  \n",
              "56343  {'sel': 5, 'conds': [[2, 0, 0], [4, 1, 2], [3,...   2-13063126-1  \n",
              "56344  {'sel': 3, 'conds': [[0, 0, '14'], [5, 2, 1]],...   2-13063126-1  \n",
              "56345  {'sel': 2, 'conds': [[5, 1, 0], [4, 0, 0]], 'a...  2-12865696-19  \n",
              "56346  {'sel': 4, 'conds': [[1, 2, 2], [0, 0, 'jim la...  2-12865696-19  \n",
              "56347        {'sel': 2, 'conds': [[1, 1, 15]], 'agg': 1}  2-12865696-19  \n",
              "56348  {'sel': 5, 'conds': [[3, 0, '0'], [4, 0, 0], [...  2-12865696-19  \n",
              "56349  {'sel': 3, 'conds': [[1, 0, '20:00 gmt'], [4, ...  2-12200756-16  \n",
              "56350     {'sel': 1, 'conds': [[5, 0, '3-2']], 'agg': 0}  2-12200756-16  \n",
              "56351  {'sel': 4, 'conds': [[3, 0, 'aston villa']], '...  2-12200756-16  \n",
              "56352  {'sel': 2, 'conds': [[4, 0, 'san siro'], [1, 0...  2-12200756-16  \n",
              "56353  {'sel': 5, 'conds': [[0, 0, 'redwood school']]...   2-12214488-1  \n",
              "56354  {'sel': 5, 'conds': [[1, 0, 'tripoli']], 'agg'...   2-12650456-2  \n",
              "\n",
              "[56355 rows x 4 columns]"
            ]
          },
          "metadata": {
            "tags": []
          },
          "execution_count": 15
        }
      ]
    },
    {
      "metadata": {
        "id": "kHBrnwqU0aIV",
        "colab_type": "code",
        "colab": {
          "base_uri": "https://localhost:8080/",
          "height": 121
        },
        "outputId": "131433b9-d825-49b2-c949-8c266542b9d7"
      },
      "cell_type": "code",
      "source": [
        "import re\n",
        "df.loc[:,'question']= df.loc[:,'question'].apply(lambda x : re.sub('[^a-zA-z0-9\\s]','',x))\n",
        "df.loc[:,'question'].head()"
      ],
      "execution_count": 17,
      "outputs": [
        {
          "output_type": "execute_result",
          "data": {
            "text/plain": [
              "0      tell me what the notes are for south australia \n",
              "1    what is the current series where the new serie...\n",
              "2               what is the format for south australia\n",
              "3    name the background colour for the australian ...\n",
              "4         how many times is the fuel propulsion is cng\n",
              "Name: question, dtype: object"
            ]
          },
          "metadata": {
            "tags": []
          },
          "execution_count": 17
        }
      ]
    },
    {
      "metadata": {
        "id": "ynJ4CftL0c7-",
        "colab_type": "code",
        "colab": {
          "base_uri": "https://localhost:8080/",
          "height": 121
        },
        "outputId": "661c9d86-828e-46e9-957d-0f9bccd2786e"
      },
      "cell_type": "code",
      "source": [
        "df['question'] = df['question'].apply(lambda x : x.lstrip(' '))\n",
        "df['question'].head()"
      ],
      "execution_count": 18,
      "outputs": [
        {
          "output_type": "execute_result",
          "data": {
            "text/plain": [
              "0      tell me what the notes are for south australia \n",
              "1    what is the current series where the new serie...\n",
              "2               what is the format for south australia\n",
              "3    name the background colour for the australian ...\n",
              "4         how many times is the fuel propulsion is cng\n",
              "Name: question, dtype: object"
            ]
          },
          "metadata": {
            "tags": []
          },
          "execution_count": 18
        }
      ]
    },
    {
      "metadata": {
        "id": "HDXA6U2S3hyt",
        "colab_type": "code",
        "colab": {}
      },
      "cell_type": "code",
      "source": [
        "df.to_csv('WikiSql.csv')"
      ],
      "execution_count": 0,
      "outputs": []
    },
    {
      "metadata": {
        "id": "unw6SXe43uzC",
        "colab_type": "code",
        "colab": {
          "base_uri": "https://localhost:8080/",
          "height": 69
        },
        "outputId": "7a21ff5d-543b-43fc-944c-e9795d660588"
      },
      "cell_type": "code",
      "source": [
        "ls"
      ],
      "execution_count": 20,
      "outputs": [
        {
          "output_type": "stream",
          "text": [
            "\u001b[0m\u001b[01;32mannotate.py\u001b[0m*  data.tar.bz2  LICENSE           \u001b[01;34mtest\u001b[0m/        WikiSql.csv\n",
            "\u001b[01;34mcollection\u001b[0m/   \u001b[01;32mevaluate.py\u001b[0m*  \u001b[01;32mREADME.md\u001b[0m*        train.json\n",
            "\u001b[01;34mdata\u001b[0m/         \u001b[01;34mlib\u001b[0m/          requirements.txt  version.txt\n"
          ],
          "name": "stdout"
        }
      ]
    }
  ]
}