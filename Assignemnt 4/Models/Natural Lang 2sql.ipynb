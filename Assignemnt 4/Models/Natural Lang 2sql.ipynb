{
 "cells": [
  {
   "cell_type": "code",
   "execution_count": null,
   "metadata": {},
   "outputs": [],
   "source": [
    "#ln2sqlmodule\n",
    "import os, sys, getopt\n",
    "import unicodedata\n",
    "\n",
    "from Database import Database\n",
    "from LangConfig import LangConfig\n",
    "from Parser import Parser\n",
    "from Thesaurus import Thesaurus\n",
    "from StopwordFilter import StopwordFilter\n",
    "import settings\n",
    "\n",
    "reload(sys)\n",
    "sys.setdefaultencoding(\"utf-8\")\n",
    "\n",
    "class color:\n",
    "    PURPLE = '\\033[95m'\n",
    "    CYAN = '\\033[96m'\n",
    "    DARKCYAN = '\\033[36m'\n",
    "    BLUE = '\\033[94m'\n",
    "    GREEN = '\\033[92m'\n",
    "    YELLOW = '\\033[93m'\n",
    "    RED = '\\033[91m'\n",
    "    BOLD = '\\033[1m'\n",
    "    UNDERLINE = '\\033[4m'\n",
    "    END = '\\033[0m'\n",
    "\n",
    "class ln2sql:\n",
    "    def __init__(self, database_path, input_sentence, language_path, thesaurus_path, json_output_path):\n",
    "        database = Database()\n",
    "        database.load(database_path)\n",
    "        #database.print_me()\n",
    "\n",
    "        config = LangConfig()\n",
    "        config.load(language_path)\n",
    "\n",
    "        parser = Parser(database, config)\n",
    "\n",
    "        if thesaurus_path is not None:\n",
    "            thesaurus = Thesaurus()\n",
    "            thesaurus.load(thesaurus_path)\n",
    "            parser.set_thesaurus(thesaurus)\n",
    "\n",
    "        queries = parser.parse_sentence(input_sentence)\n",
    "\n",
    "        if json_output_path is not None:\n",
    "            self.remove_json(json_output_path)\n",
    "            for query in queries:\n",
    "                query.print_json(json_output_path)\n",
    "\n",
    "        if(len(queries) > 1):\n",
    "            if settings.DEBUG :\n",
    "                print('--------- queries is more than one')\n",
    "            self.query = None\n",
    "\n",
    "            raise Exception('More than one query')\n",
    "        else :\n",
    "            self.query = queries[0]\n",
    "\n",
    "        if settings.DEBUG :\n",
    "            for query in queries:\n",
    "                print query\n",
    "\n",
    "    def getQuery(self):\n",
    "        return self.query\n",
    "\n",
    "    def remove_json(self, filename=\"output.json\"):\n",
    "        if os.path.exists(filename):\n",
    "            os.remove(filename)\n",
    "\n",
    "def print_help_message():\n",
    "    if settings.DEBUG :\n",
    "        print '\\n'\n",
    "        print 'Usage:'\n",
    "        print '\\tpython ln2sql.py -d <path> -l <path> -i <input-sentence> [-t <path>] [-j <path>]'\n",
    "        print 'Parameters:'\n",
    "        print '\\t-h\\t\\t\\tprint this help message'\n",
    "        print '\\t-d <path>\\t\\tpath to SQL dump file'\n",
    "        print '\\t-l <path>\\t\\tpath to language configuration file'\n",
    "        print '\\t-i <input-sentence>\\tinput sentence to parse'\n",
    "        print '\\t-j <path>\\t\\tpath to JSON output file'\n",
    "        print '\\t-t <path>\\t\\tpath to thesaurus file'\n",
    "        print '\\n'\n",
    "\n",
    "def main(argv):\n",
    "    # try:\n",
    "    opts, args = getopt.getopt(argv,\"d:l:i:t:j:\")\n",
    "    database_path = None\n",
    "    input_sentence = None\n",
    "    language_path = None\n",
    "    thesaurus_path = None\n",
    "    json_output_path = None\n",
    "\n",
    "    for i in range(0, len(opts)):\n",
    "        if opts[i][0] == \"-d\":\n",
    "            database_path = opts[i][1]\n",
    "        elif opts[i][0] == \"-l\":\n",
    "            language_path = opts[i][1]\n",
    "        elif opts[i][0] == \"-i\":\n",
    "            input_sentence = opts[i][1]\n",
    "        elif opts[i][0] == \"-j\":\n",
    "            json_output_path = opts[i][1]\n",
    "        elif opts[i][0] == \"-t\":\n",
    "            thesaurus_path = opts[i][1]\n",
    "        else:\n",
    "            print_help_message()\n",
    "            # sys.exit()\n",
    "            raise getopt.GetoptError('ln2sqlmodule : Invalid args received',None)\n",
    "    \n",
    "    if (database_path is None) or (input_sentence is None) or (language_path is None):\n",
    "        raise getopt.GetoptError('ln2sqlmodule : Invalid args received',None)\n",
    "    else:\n",
    "        if thesaurus_path is not None:\n",
    "            thesaurus_path = str(thesaurus_path)\n",
    "        if json_output_path is not None:\n",
    "            json_output_path = str(json_output_path)\n",
    "\n",
    "    #try:\n",
    "    ln2sqlObj = ln2sql(str(database_path), str(input_sentence), str(language_path), thesaurus_path, json_output_path)\n",
    "    \n",
    "    return ln2sqlObj.getQuery()\n",
    "    #except Exception, e:\n",
    "    #    print color.BOLD + color.RED + str(e) + color.END\n",
    "\n",
    "    # except getopt.GetoptError:\n",
    "    #     print_help_message()\n",
    "\n",
    "\n",
    "# if __name__ == '__main__':\n",
    "#     main(sys.argv[1:])"
   ]
  },
  {
   "cell_type": "raw",
   "metadata": {},
   "source": [
    "-- phpMyAdmin SQL Dump\n",
    "-- version 4.6.6\n",
    "-- https://www.phpmyadmin.net/\n",
    "--\n",
    "-- Host: localhost:3306\n",
    "-- Generation Time: Oct 23, 2017 at 01:17 AM\n",
    "-- Server version: 5.6.35\n",
    "-- PHP Version: 5.6.30\n",
    "\n",
    "SET SQL_MODE = \"NO_AUTO_VALUE_ON_ZERO\";\n",
    "SET time_zone = \"+00:00\";\n",
    "\n",
    "\n",
    "/*!40101 SET @OLD_CHARACTER_SET_CLIENT=@@CHARACTER_SET_CLIENT */;\n",
    "/*!40101 SET @OLD_CHARACTER_SET_RESULTS=@@CHARACTER_SET_RESULTS */;\n",
    "/*!40101 SET @OLD_COLLATION_CONNECTION=@@COLLATION_CONNECTION */;\n",
    "/*!40101 SET NAMES utf8mb4 */;\n",
    "\n",
    "--\n",
    "-- Database: `heyzot-analytics`\n",
    "--\n",
    "\n",
    "-- --------------------------------------------------------\n",
    "\n",
    "--\n",
    "-- Table structure for table `city`\n",
    "--\n",
    "\n",
    "CREATE TABLE `city` (\n",
    "  `id` int(11) NOT NULL,\n",
    "  `cityName` varchar(30) NOT NULL\n",
    ") ENGINE=InnoDB DEFAULT CHARSET=utf8;\n",
    "\n",
    "--\n",
    "-- Dumping data for table `city`\n",
    "--\n",
    "\n",
    "INSERT INTO `city` (`id`, `cityName`) VALUES\n",
    "(1, 'pune'),\n",
    "(2, 'apple'),\n",
    "(3, 'city c'),\n",
    "(4, 'city d'),\n",
    "(5, 'city e');\n",
    "\n",
    "-- --------------------------------------------------------\n",
    "\n",
    "--\n",
    "-- Table structure for table `emp`\n",
    "--\n",
    "\n",
    "CREATE TABLE `emp` (\n",
    "  `id` int(11) NOT NULL,\n",
    "  `name` varchar(50) NOT NULL,\n",
    "  `cityId` int(11) NOT NULL,\n",
    "  `score` int(11) NOT NULL\n",
    ") ENGINE=InnoDB DEFAULT CHARSET=utf8;\n",
    "\n",
    "--\n",
    "-- Dumping data for table `emp`\n",
    "--\n",
    "\n",
    "INSERT INTO `emp` (`id`, `name`, `cityId`, `score`) VALUES\n",
    "(21, 'a', 1, 5),\n",
    "(22, 'b', 2, 4),\n",
    "(23, 'c', 3, 6),\n",
    "(24, 'd', 4, 4),\n",
    "(25, 'e', 5, 6),\n",
    "(26, 'g', 1, 2),\n",
    "(27, 'h', 2, 9),\n",
    "(28, 'i', 3, 4),\n",
    "(29, 'j', 4, 3),\n",
    "(30, 'k', 5, 6);\n",
    "\n",
    "--\n",
    "-- Indexes for dumped tables\n",
    "--\n",
    "\n",
    "--\n",
    "-- Indexes for table `city`\n",
    "--\n",
    "ALTER TABLE `city`\n",
    "  ADD PRIMARY KEY (`id`),\n",
    "  ADD KEY `id` (`id`);\n",
    "\n",
    "--\n",
    "-- Indexes for table `emp`\n",
    "--\n",
    "ALTER TABLE `emp`\n",
    "  ADD PRIMARY KEY (`id`),\n",
    "  ADD KEY `cityId` (`cityId`);\n",
    "\n",
    "--\n",
    "-- AUTO_INCREMENT for dumped tables\n",
    "--\n",
    "\n",
    "--\n",
    "-- AUTO_INCREMENT for table `emp`\n",
    "--\n",
    "ALTER TABLE `emp`\n",
    "  MODIFY `id` int(11) NOT NULL AUTO_INCREMENT, AUTO_INCREMENT=31;\n",
    "--\n",
    "-- Constraints for dumped tables\n",
    "--\n",
    "\n",
    "--\n",
    "-- Constraints for table `emp`\n",
    "--\n",
    "ALTER TABLE `emp`\n",
    "  ADD CONSTRAINT `emp_ibfk_1` FOREIGN KEY (`cityId`) REFERENCES `city` (`id`);\n",
    "\n",
    "/*!40101 SET CHARACTER_SET_CLIENT=@OLD_CHARACTER_SET_CLIENT */;\n",
    "/*!40101 SET CHARACTER_SET_RESULTS=@OLD_CHARACTER_SET_RESULTS */;\n",
    "/*!40101 SET COLLATION_CONNECTION=@OLD_COLLATION_CONNECTION */;\n"
   ]
  },
  {
   "cell_type": "code",
   "execution_count": 2,
   "metadata": {},
   "outputs": [],
   "source": [
    "import ln2sqlmodule\n",
    "path_sqlDump = \"./emp.sql\""
   ]
  },
  {
   "cell_type": "code",
   "execution_count": 3,
   "metadata": {},
   "outputs": [
    {
     "data": {
      "text/plain": [
       "'SELECT emp.name FROM emp;'"
      ]
     },
     "execution_count": 3,
     "metadata": {},
     "output_type": "execute_result"
    }
   ],
   "source": [
    "query =\"get name of all emp\" \n",
    "ln2sqlmodule.getSql(query,path_sqlDump)"
   ]
  },
  {
   "cell_type": "code",
   "execution_count": 4,
   "metadata": {},
   "outputs": [
    {
     "data": {
      "text/plain": [
       "\"SELECT * FROM emp WHERE emp.name = 'rupinder';\""
      ]
     },
     "execution_count": 4,
     "metadata": {},
     "output_type": "execute_result"
    }
   ],
   "source": [
    "query = 'all data for emp where name is rupinder'\n",
    "ln2sqlmodule.getSql(query,path_sqlDump)"
   ]
  },
  {
   "cell_type": "code",
   "execution_count": 5,
   "metadata": {},
   "outputs": [
    {
     "data": {
      "text/plain": [
       "'SELECT * FROM emp;'"
      ]
     },
     "execution_count": 5,
     "metadata": {},
     "output_type": "execute_result"
    }
   ],
   "source": [
    "query = 'provide all data for emp'\n",
    "ln2sqlmodule.getSql(query,path_sqlDump)"
   ]
  },
  {
   "cell_type": "code",
   "execution_count": 6,
   "metadata": {},
   "outputs": [
    {
     "data": {
      "text/plain": [
       "'SELECT COUNT(*) FROM emp;'"
      ]
     },
     "execution_count": 6,
     "metadata": {},
     "output_type": "execute_result"
    }
   ],
   "source": [
    "query = 'provide total count of data for emp'\n",
    "ln2sqlmodule.getSql(query,path_sqlDump)"
   ]
  },
  {
   "cell_type": "code",
   "execution_count": 7,
   "metadata": {},
   "outputs": [
    {
     "data": {
      "text/plain": [
       "'SELECT * FROM emp WHERE emp.id = OOV;'"
      ]
     },
     "execution_count": 7,
     "metadata": {},
     "output_type": "execute_result"
    }
   ],
   "source": [
    "query = 'what is the emp id for rupinder'\n",
    "ln2sqlmodule.getSql(query,path_sqlDump)"
   ]
  },
  {
   "cell_type": "code",
   "execution_count": 22,
   "metadata": {},
   "outputs": [
    {
     "data": {
      "text/plain": [
       "'SELECT COUNT(*) FROM city;'"
      ]
     },
     "execution_count": 22,
     "metadata": {},
     "output_type": "execute_result"
    }
   ],
   "source": [
    "query = 'provide total count of city'\n",
    "ln2sqlmodule.getSql(query,path_sqlDump)"
   ]
  },
  {
   "cell_type": "code",
   "execution_count": 35,
   "metadata": {},
   "outputs": [
    {
     "data": {
      "text/plain": [
       "\"SELECT * FROM emp WHERE emp.cityId = '1';\""
      ]
     },
     "execution_count": 35,
     "metadata": {},
     "output_type": "execute_result"
    }
   ],
   "source": [
    "query = 'all data for emp where cityId is 1'\n",
    "ln2sqlmodule.getSql(query,path_sqlDump)"
   ]
  },
  {
   "cell_type": "code",
   "execution_count": 38,
   "metadata": {},
   "outputs": [
    {
     "data": {
      "text/plain": [
       "\"SELECT * FROM city WHERE city.id = '1';\""
      ]
     },
     "execution_count": 38,
     "metadata": {},
     "output_type": "execute_result"
    }
   ],
   "source": [
    "query = 'all data for city where id is 1'\n",
    "ln2sqlmodule.getSql(query,path_sqlDump)"
   ]
  },
  {
   "cell_type": "raw",
   "metadata": {},
   "source": [
    "-- phpMyAdmin SQL Dump\n",
    "-- version 3.3.2\n",
    "-- http://www.phpmyadmin.net\n",
    "--\n",
    "-- Serveur: localhost\n",
    "-- Généré le : Ven 29 Mars 2013 à 13:31\n",
    "-- Version du serveur: 5.1.41\n",
    "-- Version de PHP: 5.3.1\n",
    "\n",
    "SET SQL_MODE=\"NO_AUTO_VALUE_ON_ZERO\";\n",
    "\n",
    "\n",
    "/*!40101 SET @OLD_CHARACTER_SET_CLIENT=@@CHARACTER_SET_CLIENT */;\n",
    "/*!40101 SET @OLD_CHARACTER_SET_RESULTS=@@CHARACTER_SET_RESULTS */;\n",
    "/*!40101 SET @OLD_COLLATION_CONNECTION=@@COLLATION_CONNECTION */;\n",
    "/*!40101 SET NAMES utf8 */;\n",
    "\n",
    "--\n",
    "-- Base de données: `hotel`\n",
    "--\n",
    "\n",
    "-- --------------------------------------------------------\n",
    "\n",
    "--\n",
    "-- Structure de la table `chambre`\n",
    "--\n",
    "\n",
    "CREATE TABLE IF NOT EXISTS `chambre` (\n",
    "  `idChambre` int(11) NOT NULL AUTO_INCREMENT,\n",
    "  `nbLit` int(11) NOT NULL,\n",
    "  PRIMARY KEY (`idChambre`)\n",
    ") ENGINE=MyISAM  DEFAULT CHARSET=utf8 COLLATE=utf8_unicode_ci AUTO_INCREMENT=6 ;\n",
    "\n",
    "--\n",
    "-- Contenu de la table `chambre`\n",
    "--\n",
    "\n",
    "INSERT INTO `chambre` (`idChambre`, `nbLit`) VALUES\n",
    "(1, 2),\n",
    "(2, 2),\n",
    "(3, 4),\n",
    "(4, 4),\n",
    "(5, 5);\n",
    "\n",
    "-- --------------------------------------------------------\n",
    "\n",
    "--\n",
    "-- Structure de la table `client`\n",
    "--\n",
    "\n",
    "CREATE TABLE IF NOT EXISTS `client` (\n",
    "  `idClient` int(11) NOT NULL AUTO_INCREMENT,\n",
    "  `nom` varchar(20) COLLATE utf8_unicode_ci NOT NULL,\n",
    "  `prenom` varchar(20) COLLATE utf8_unicode_ci NOT NULL,\n",
    "  `age` int(11) NOT NULL,\n",
    "  `adresse` varchar(50) COLLATE utf8_unicode_ci NOT NULL,\n",
    "  `telephone` varchar(10) COLLATE utf8_unicode_ci NOT NULL,\n",
    "  PRIMARY KEY (`idClient`)\n",
    ") ENGINE=MyISAM  DEFAULT CHARSET=utf8 COLLATE=utf8_unicode_ci AUTO_INCREMENT=5 ;\n",
    "\n",
    "--\n",
    "-- Contenu de la table `client`\n",
    "--\n",
    "\n",
    "INSERT INTO `client` (`idClient`, `nom`, `prenom`, `age`, `adresse`, `telephone`) VALUES\n",
    "(1, 'TERIEUR', 'Alain', 45, '23 rue de Amar DI', '0456677890'),\n",
    "(2, 'TERIEUR', 'Alex', 23, '20 allee de Bowie Kend', '0456645891'),\n",
    "(3, 'PAROLEDOR', 'Carla', 24, 'Salle Eugene, rue Fidele Annamour', '0978357689'),\n",
    "(4, 'TOULETAN', 'Eugene', 66, '12 avenue du Bob Eau', '0672908767');\n",
    "\n",
    "-- --------------------------------------------------------\n",
    "\n",
    "--\n",
    "-- Structure de la table `reservation`\n",
    "--\n",
    "\n",
    "CREATE TABLE IF NOT EXISTS `reservation` (\n",
    "  `idReservation` int(11) NOT NULL AUTO_INCREMENT,\n",
    "  `idClient` int(11) NOT NULL,\n",
    "  `idChambre` int(11) NOT NULL,\n",
    "  `DateA` date NOT NULL,\n",
    "  `DateD` date NOT NULL,\n",
    "  PRIMARY KEY (`idReservation`, `idClient`, `idChambre`)\n",
    ") ENGINE=MyISAM  DEFAULT CHARSET=utf8 COLLATE=utf8_unicode_ci AUTO_INCREMENT=3 ;\n",
    "\n",
    "--\n",
    "-- Contenu de la table `reservation`\n",
    "--\n",
    "\n",
    "INSERT INTO `reservation` (`idReservation`, `idClient`, `idChambre`, `DateA`, `DateD`) VALUES\n",
    "(1, 1, 1, '2013-03-14', '2013-03-28'),\n",
    "(2, 3, 4, '2013-03-25', '2013-03-31');\n"
   ]
  },
  {
   "cell_type": "code",
   "execution_count": 39,
   "metadata": {},
   "outputs": [],
   "source": [
    "path_sqlDump = \"./hotel.sql\""
   ]
  },
  {
   "cell_type": "code",
   "execution_count": 40,
   "metadata": {},
   "outputs": [
    {
     "data": {
      "text/plain": [
       "'SELECT * FROM reservation;'"
      ]
     },
     "execution_count": 40,
     "metadata": {},
     "output_type": "execute_result"
    }
   ],
   "source": [
    "query = 'all data for reservation'\n",
    "ln2sqlmodule.getSql(query,path_sqlDump)"
   ]
  },
  {
   "cell_type": "code",
   "execution_count": 41,
   "metadata": {},
   "outputs": [
    {
     "data": {
      "text/plain": [
       "\"SELECT * FROM reservation WHERE reservation.DateA = '2013-03-14';\""
      ]
     },
     "execution_count": 41,
     "metadata": {},
     "output_type": "execute_result"
    }
   ],
   "source": [
    "query = 'all data for reservation where DateA is 2013-03-14'\n",
    "ln2sqlmodule.getSql(query,path_sqlDump)"
   ]
  },
  {
   "cell_type": "code",
   "execution_count": 42,
   "metadata": {},
   "outputs": [
    {
     "data": {
      "text/plain": [
       "\"SELECT * FROM client WHERE client.nom = 'Alex';\""
      ]
     },
     "execution_count": 42,
     "metadata": {},
     "output_type": "execute_result"
    }
   ],
   "source": [
    "query = 'all data for client where nom is Alex'\n",
    "ln2sqlmodule.getSql(query,path_sqlDump)"
   ]
  },
  {
   "cell_type": "code",
   "execution_count": null,
   "metadata": {},
   "outputs": [],
   "source": []
  }
 ],
 "metadata": {
  "kernelspec": {
   "display_name": "Python 2",
   "language": "python",
   "name": "python2"
  },
  "language_info": {
   "codemirror_mode": {
    "name": "ipython",
    "version": 2
   },
   "file_extension": ".py",
   "mimetype": "text/x-python",
   "name": "python",
   "nbconvert_exporter": "python",
   "pygments_lexer": "ipython2",
   "version": "2.7.16"
  }
 },
 "nbformat": 4,
 "nbformat_minor": 2
}
